{
 "cells": [
  {
   "cell_type": "code",
   "execution_count": 2,
   "metadata": {
    "collapsed": false
   },
   "outputs": [],
   "source": [
    "with open('gov/51835965.txt', 'r') as f:\n",
    "    #print f.read()\n",
    "    pass"
   ]
  },
  {
   "cell_type": "code",
   "execution_count": 7,
   "metadata": {
    "collapsed": false
   },
   "outputs": [
    {
     "name": "stdout",
     "output_type": "stream",
     "text": [
      "3 0\n"
     ]
    }
   ],
   "source": [
    "a = [1,2,3]\n",
    "b = []\n",
    "print len(a), len(b)"
   ]
  },
  {
   "cell_type": "code",
   "execution_count": 15,
   "metadata": {
    "collapsed": false
   },
   "outputs": [
    {
     "name": "stdout",
     "output_type": "stream",
     "text": [
      "aaa\n",
      "aaa          \n",
      "         aaa\n",
      "12345\n",
      "abcabc\n"
     ]
    }
   ],
   "source": [
    "a= '         aaa          '\n",
    "print a.strip()\n",
    "print a.lstrip()\n",
    "print a.rstrip()\n",
    "\n",
    "b = '!12345!'\n",
    "print b.strip('!')\n",
    "\n",
    "c = 'hihiabcabc'\n",
    "print c.strip('hi')"
   ]
  },
  {
   "cell_type": "code",
   "execution_count": 38,
   "metadata": {
    "collapsed": false
   },
   "outputs": [
    {
     "name": "stdout",
     "output_type": "stream",
     "text": [
      "<type 'unicode'> <type 'str'>\n",
      "False\n",
      "True\n",
      "<type 'str'>\n",
      "True\n",
      "True\n"
     ]
    },
    {
     "name": "stderr",
     "output_type": "stream",
     "text": [
      "C:\\Anaconda2\\lib\\site-packages\\ipykernel\\__main__.py:4: UnicodeWarning: Unicode equal comparison failed to convert both arguments to Unicode - interpreting them as being unequal\n"
     ]
    }
   ],
   "source": [
    "a = u'機關'\n",
    "b = '機關'\n",
    "print type(a), type(b)\n",
    "print a ==b\n",
    "print a.encode('utf-8') == b\n",
    "print type(a.encode('utf-8'))\n",
    "print a == u'機關'\n",
    "print a == b.decode('utf-8')"
   ]
  },
  {
   "cell_type": "code",
   "execution_count": 29,
   "metadata": {
    "collapsed": false,
    "scrolled": false
   },
   "outputs": [
    {
     "name": "stdout",
     "output_type": "stream",
     "text": [
      "==================\n",
      "==================\n",
      "==================\n",
      "==================\n",
      "[<td bgcolor=\"#EFF1F1\" class=\"newstop\" height=\"25\">\\n     A.25.2\\n    </td>]\n",
      "-------------------\n",
      "<td bgcolor=\"#EFF1F1\" class=\"newstop\" height=\"25\">\n",
      "     A.25.2\n",
      "    </td>\n",
      "-------------------\n",
      "\n",
      "     A.25.2\n",
      "    \n",
      "-------------------\n",
      "A.25.2\n",
      "==================\n",
      "==================\n",
      "==================\n",
      "==================\n",
      "==================\n",
      "==================\n",
      "==================\n",
      "==================\n",
      "==================\n",
      "==================\n",
      "==================\n",
      "==================\n",
      "==================\n",
      "==================\n",
      "==================\n",
      "==================\n",
      "==================\n",
      "==================\n",
      "==================\n",
      "==================\n",
      "==================\n",
      "==================\n",
      "==================\n",
      "==================\n",
      "==================\n",
      "==================\n",
      "==================\n",
      "==================\n",
      "==================\n",
      "==================\n",
      "==================\n",
      "==================\n",
      "==================\n",
      "==================\n",
      "==================\n",
      "==================\n",
      "==================\n",
      "==================\n",
      "==================\n",
      "==================\n",
      "==================\n",
      "==================\n",
      "==================\n",
      "==================\n",
      "==================\n",
      "==================\n",
      "==================\n",
      "==================\n",
      "==================\n",
      "==================\n",
      "==================\n",
      "==================\n",
      "==================\n",
      "==================\n",
      "==================\n",
      "==================\n",
      "==================\n",
      "==================\n",
      "==================\n",
      "==================\n",
      "==================\n",
      "==================\n",
      "==================\n",
      "==================\n",
      "==================\n",
      "==================\n",
      "==================\n",
      "==================\n",
      "==================\n",
      "==================\n",
      "==================\n",
      "==================\n",
      "==================\n",
      "==================\n",
      "==================\n",
      "==================\n",
      "==================\n",
      "==================\n",
      "==================\n",
      "==================\n"
     ]
    }
   ],
   "source": [
    "from bs4 import BeautifulSoup as bs\n",
    "with open('gov/51835965.txt', 'r') as f:\n",
    "    soup = bs(f.read())\n",
    "    #print soup.select('tr')\n",
    "    for tr in soup.select('tr'):\n",
    "        print '=================='\n",
    "        #print tr.select('th')\n",
    "        if len(tr.select('th')) > 0:\n",
    "            #print tr.select('th')[0].text\n",
    "            #print tr.select('th')[0].text.strip()\n",
    "            if tr.select('th')[0].text.strip() == u'機關代碼':\n",
    "                print tr.select('td')\n",
    "                print '-------------------'\n",
    "                print tr.select('td')[0]\n",
    "                print '-------------------'\n",
    "                print tr.select('td')[0].text\n",
    "                print '-------------------'\n",
    "                print tr.select('td')[0].text.strip()\n",
    "        \n",
    "   "
   ]
  },
  {
   "cell_type": "code",
   "execution_count": 31,
   "metadata": {
    "collapsed": false
   },
   "outputs": [
    {
     "name": "stdout",
     "output_type": "stream",
     "text": [
      "A.25.2\n",
      "文化部影視及流行音樂產業局\n"
     ]
    }
   ],
   "source": [
    "from bs4 import BeautifulSoup as bs\n",
    "with open('gov/51835965.txt', 'r') as f:\n",
    "    soup = bs(f.read())\n",
    "    for tr in soup.select('tr'):\n",
    "        if len(tr.select('th')) > 0:\n",
    "            if tr.select('th')[0].text.strip() == u'機關代碼':\n",
    "                print tr.select('td')[0].text.strip()\n",
    "            if tr.select('th')[0].text.strip() == u'機關名稱':\n",
    "                print tr.select('td')[0].text.strip()\n",
    "        \n",
    "   "
   ]
  },
  {
   "cell_type": "code",
   "execution_count": 33,
   "metadata": {
    "collapsed": false
   },
   "outputs": [
    {
     "name": "stdout",
     "output_type": "stream",
     "text": [
      "True\n",
      "False\n"
     ]
    }
   ],
   "source": [
    "dic = {'a':1, 'b':2, 'd':100}\n",
    "print 'a' in dic\n",
    "print 'c' in dic"
   ]
  },
  {
   "cell_type": "code",
   "execution_count": 39,
   "metadata": {
    "collapsed": false
   },
   "outputs": [
    {
     "name": "stdout",
     "output_type": "stream",
     "text": [
      "機關代碼 A.25.2\n",
      "機關名稱 文化部影視及流行音樂產業局\n",
      "單位名稱 流行音樂產業組\n",
      "機關地址 100臺北市中正區開封街一段3號\n"
     ]
    }
   ],
   "source": [
    "from bs4 import BeautifulSoup as bs\n",
    "dic = {u'機關代碼': '',  u'機關名稱':'', u'單位名稱':'', u'機關地址':''}\n",
    "with open('gov/51835965.txt', 'r') as f:\n",
    "    soup = bs(f.read())\n",
    "    for tr in soup.select('tr'):\n",
    "        if len(tr.select('th')) > 0:\n",
    "            if tr.select('th')[0].text.strip() in dic:\n",
    "                #print tr.select('td')[0].text.strip()\n",
    "                print tr.select('th')[0].text.strip(), tr.select('td')[0].text.strip()"
   ]
  },
  {
   "cell_type": "code",
   "execution_count": 40,
   "metadata": {
    "collapsed": true
   },
   "outputs": [],
   "source": [
    "from bs4 import BeautifulSoup as bs\n",
    "dic = {u'機關代碼': '',  u'機關名稱':'', u'單位名稱':'', u'機關地址':''}\n",
    "with open('gov/51835965.txt', 'r') as f:\n",
    "    soup = bs(f.read())\n",
    "    for tr in soup.select('tr'):\n",
    "        if len(tr.select('th')) > 0:\n",
    "            if tr.select('th')[0].text.strip() in dic:\n",
    "                #print tr.select('td')[0].text.strip()\n",
    "                dic[tr.select('th')[0].text.strip()]= tr.select('td')[0].text.strip()\n"
   ]
  },
  {
   "cell_type": "code",
   "execution_count": 41,
   "metadata": {
    "collapsed": false
   },
   "outputs": [
    {
     "name": "stdout",
     "output_type": "stream",
     "text": [
      "{u'\\u6a5f\\u95dc\\u4ee3\\u78bc': u'A.25.2', u'\\u6a5f\\u95dc\\u5730\\u5740': u'100\\u81fa\\u5317\\u5e02\\u4e2d\\u6b63\\u5340\\u958b\\u5c01\\u8857\\u4e00\\u6bb53\\u865f', u'\\u55ae\\u4f4d\\u540d\\u7a31': u'\\u6d41\\u884c\\u97f3\\u6a02\\u7522\\u696d\\u7d44', u'\\u6a5f\\u95dc\\u540d\\u7a31': u'\\u6587\\u5316\\u90e8\\u5f71\\u8996\\u53ca\\u6d41\\u884c\\u97f3\\u6a02\\u7522\\u696d\\u5c40'}\n"
     ]
    }
   ],
   "source": [
    "print dic"
   ]
  },
  {
   "cell_type": "code",
   "execution_count": 43,
   "metadata": {
    "collapsed": false
   },
   "outputs": [
    {
     "name": "stdout",
     "output_type": "stream",
     "text": [
      "機關代碼 A.25.2\n",
      "機關地址 100臺北市中正區開封街一段3號\n",
      "單位名稱 流行音樂產業組\n",
      "機關名稱 文化部影視及流行音樂產業局\n"
     ]
    }
   ],
   "source": [
    "for ele in dic:\n",
    "    print ele, dic[ele]"
   ]
  },
  {
   "cell_type": "code",
   "execution_count": 45,
   "metadata": {
    "collapsed": false
   },
   "outputs": [
    {
     "name": "stdout",
     "output_type": "stream",
     "text": [
      "this is a loooooooooooooooooooooooooooooooooooooooooooooooooong text\n"
     ]
    }
   ],
   "source": [
    "a = 'this is a loooooooooooooooooooooooooooooooooooooo\\\n",
    "oooooooooooong text'\n",
    "print a"
   ]
  },
  {
   "cell_type": "code",
   "execution_count": 47,
   "metadata": {
    "collapsed": false
   },
   "outputs": [],
   "source": [
    "from bs4 import BeautifulSoup as bs\n",
    "dic = {u'機關代碼': '',  u'機關名稱':'', u'單位名稱':'', u'機關地址':'',\\\n",
    "       u'標案案號': '',  u'招標方式':'', u'標的分類':'',\\\n",
    "      }\n",
    "with open('gov/51835965.txt', 'r') as f:\n",
    "    soup = bs(f.read())\n",
    "    for tr in soup.select('tr'):\n",
    "        if len(tr.select('th')) > 0:\n",
    "            if tr.select('th')[0].text.strip() in dic:\n",
    "                dic[tr.select('th')[0].text.strip()]= tr.select('td')[0].text.strip()\n"
   ]
  },
  {
   "cell_type": "code",
   "execution_count": 48,
   "metadata": {
    "collapsed": false
   },
   "outputs": [
    {
     "name": "stdout",
     "output_type": "stream",
     "text": [
      "招標方式 公開取得報價單或企劃書\n",
      "單位名稱 流行音樂產業組\n",
      "標案案號 F105-020\n",
      "機關代碼 A.25.2\n",
      "標的分類 <勞務類>    \r\n",
      "                            866\r\n",
      "                            與管理顧問有關之服務\n",
      "機關地址 100臺北市中正區開封街一段3號\n",
      "機關名稱 文化部影視及流行音樂產業局\n"
     ]
    }
   ],
   "source": [
    "for ele in dic:\n",
    "    print ele, dic[ele]"
   ]
  },
  {
   "cell_type": "code",
   "execution_count": 49,
   "metadata": {
    "collapsed": false
   },
   "outputs": [
    {
     "name": "stdout",
     "output_type": "stream",
     "text": [
      "\t\t string \n",
      "\t\n",
      "'\\t\\t string \\n\\t'\n"
     ]
    }
   ],
   "source": [
    "a = '\\t\\t string \\n\\t' \n",
    "print a \n",
    "print repr(a)\n",
    "\n"
   ]
  },
  {
   "cell_type": "code",
   "execution_count": 50,
   "metadata": {
    "collapsed": false
   },
   "outputs": [
    {
     "name": "stdout",
     "output_type": "stream",
     "text": [
      "招標方式 u'\\u516c\\u958b\\u53d6\\u5f97\\u5831\\u50f9\\u55ae\\u6216\\u4f01\\u5283\\u66f8'\n",
      "單位名稱 u'\\u6d41\\u884c\\u97f3\\u6a02\\u7522\\u696d\\u7d44'\n",
      "標案案號 u'F105-020'\n",
      "機關代碼 u'A.25.2'\n",
      "標的分類 u'<\\u52de\\u52d9\\u985e>    \\r\\n                            866\\r\\n                            \\u8207\\u7ba1\\u7406\\u9867\\u554f\\u6709\\u95dc\\u4e4b\\u670d\\u52d9'\n",
      "機關地址 u'100\\u81fa\\u5317\\u5e02\\u4e2d\\u6b63\\u5340\\u958b\\u5c01\\u8857\\u4e00\\u6bb53\\u865f'\n",
      "機關名稱 u'\\u6587\\u5316\\u90e8\\u5f71\\u8996\\u53ca\\u6d41\\u884c\\u97f3\\u6a02\\u7522\\u696d\\u5c40'\n"
     ]
    }
   ],
   "source": [
    "for ele in dic:\n",
    "    print ele, repr(dic[ele])"
   ]
  },
  {
   "cell_type": "code",
   "execution_count": 54,
   "metadata": {
    "collapsed": false
   },
   "outputs": [
    {
     "name": "stdout",
     "output_type": "stream",
     "text": [
      "\t\t string \n",
      "\t string \t\t string\n",
      "['string', 'string', 'string']\n",
      "stringstringstring\n",
      "string!string!string\n"
     ]
    }
   ],
   "source": [
    "a = '\\t\\t string \\n\\t string \\t\\t string'\n",
    "print a\n",
    "print a.split()\n",
    "print ''.join(a.split())\n",
    "print '!'.join(a.split())"
   ]
  },
  {
   "cell_type": "code",
   "execution_count": 55,
   "metadata": {
    "collapsed": false
   },
   "outputs": [
    {
     "name": "stdout",
     "output_type": "stream",
     "text": [
      "招標方式 公開取得報價單或企劃書\n",
      "單位名稱 流行音樂產業組\n",
      "標案案號 F105-020\n",
      "機關代碼 A.25.2\n",
      "標的分類 <勞務類> 866 與管理顧問有關之服務\n",
      "機關地址 100臺北市中正區開封街一段3號\n",
      "機關名稱 文化部影視及流行音樂產業局\n"
     ]
    }
   ],
   "source": [
    "for ele in dic:\n",
    "    print ele, ' '.join(dic[ele].split())"
   ]
  },
  {
   "cell_type": "code",
   "execution_count": 56,
   "metadata": {
    "collapsed": true
   },
   "outputs": [],
   "source": [
    "from bs4 import BeautifulSoup as bs\n",
    "dic = {u'開標時間': ''\\\n",
    "      }\n",
    "with open('gov/51835965.txt', 'r') as f:\n",
    "    soup = bs(f.read())\n",
    "    for tr in soup.select('tr'):\n",
    "        if len(tr.select('th')) > 0:\n",
    "            if tr.select('th')[0].text.strip() in dic:\n",
    "                dic[tr.select('th')[0].text.strip()]= tr.select('td')[0].text.strip()\n"
   ]
  },
  {
   "cell_type": "code",
   "execution_count": 58,
   "metadata": {
    "collapsed": false
   },
   "outputs": [
    {
     "name": "stdout",
     "output_type": "stream",
     "text": [
      "開標時間 105/03/16 10:00 <type 'unicode'>\n"
     ]
    }
   ],
   "source": [
    "for ele in dic:\n",
    "    print ele, dic[ele], type(dic[ele])"
   ]
  },
  {
   "cell_type": "code",
   "execution_count": 62,
   "metadata": {
    "collapsed": false
   },
   "outputs": [
    {
     "name": "stdout",
     "output_type": "stream",
     "text": [
      "2016-05-12 10:34:47.198000\n",
      "<type 'datetime.datetime'>\n",
      "2016/05/12\n",
      "2016/05/12 10:34\n"
     ]
    }
   ],
   "source": [
    "from datetime import datetime\n",
    "print datetime.now()\n",
    "print type(datetime.now())\n",
    "print datetime.now().strftime('%Y/%m/%d')\n",
    "print datetime.now().strftime('%Y/%m/%d %H:%M')"
   ]
  },
  {
   "cell_type": "code",
   "execution_count": 63,
   "metadata": {
    "collapsed": false
   },
   "outputs": [
    {
     "name": "stdout",
     "output_type": "stream",
     "text": [
      "2016-05-12 00:00:00\n"
     ]
    }
   ],
   "source": [
    "print datetime.strptime('2016/05/12','%Y/%m/%d' )"
   ]
  },
  {
   "cell_type": "code",
   "execution_count": 73,
   "metadata": {
    "collapsed": false
   },
   "outputs": [
    {
     "name": "stdout",
     "output_type": "stream",
     "text": [
      "2016-05-12 10:40:04.587000\n",
      "2016-05-11 10:40:04.588000\n",
      "2016-05-11\n",
      "2016-05-10\n",
      "2016-05-09\n",
      "2016-05-08\n",
      "2016-05-07\n",
      "2016-05-06\n",
      "2016-05-05\n",
      "2016-05-04\n",
      "2016-05-03\n",
      "5788 days, 10:40:04.589000\n",
      "5788\n",
      "84 days, 13:19:55.411000\n",
      "84\n"
     ]
    }
   ],
   "source": [
    "from datetime import timedelta\n",
    "print datetime.now()\n",
    "print datetime.now() - timedelta(days = 1)\n",
    "\n",
    "\n",
    "for i in range(1,10):\n",
    "    #print datetime.now() - timedelta(days = i),\n",
    "    print (datetime.now() - timedelta(days = i)).strftime('%Y-%m-%d')\n",
    "    \n",
    "    \n",
    "print datetime.now() - datetime.strptime('2000/07/7','%Y/%m/%d' ) \n",
    "print (datetime.now() - datetime.strptime('2000/07/7','%Y/%m/%d' )).days\n",
    "\n",
    "print  datetime.strptime('2016/08/5','%Y/%m/%d' ) - datetime.now() \n",
    "print  (datetime.strptime('2016/08/5','%Y/%m/%d' ) - datetime.now()).days "
   ]
  },
  {
   "cell_type": "code",
   "execution_count": 76,
   "metadata": {
    "collapsed": false
   },
   "outputs": [
    {
     "name": "stdout",
     "output_type": "stream",
     "text": [
      "['123', '456', '789', 'qoo', 'oop', 'ooo']\n",
      "['123', '456@789@qoo@oop@ooo']\n",
      "['123', '456', '789@qoo@oop@ooo']\n"
     ]
    }
   ],
   "source": [
    "a = '123@456@789@qoo@oop@ooo'\n",
    "print a.split('@')\n",
    "print a.split('@', 1)\n",
    "print a.split('@', 2)"
   ]
  },
  {
   "cell_type": "code",
   "execution_count": 80,
   "metadata": {
    "collapsed": false
   },
   "outputs": [
    {
     "name": "stdout",
     "output_type": "stream",
     "text": [
      "['102', '12/10 10:30']\n",
      "102\n",
      "<type 'str'>\n",
      "2013\n",
      "2013\n"
     ]
    }
   ],
   "source": [
    "response_date = '102/12/10 10:30' \n",
    "getyear = response_date.split('/', 1) \n",
    "print getyear\n",
    "print getyear[0]\n",
    "print type(getyear[0])\n",
    "print int(getyear[0]) + 1911\n",
    "print str(int(getyear[0]) + 1911)"
   ]
  },
  {
   "cell_type": "code",
   "execution_count": 82,
   "metadata": {
    "collapsed": false
   },
   "outputs": [
    {
     "name": "stdout",
     "output_type": "stream",
     "text": [
      "2013/12/10 10:30\n"
     ]
    }
   ],
   "source": [
    "print str(int(getyear[0]) + 1911) + '/' +getyear[1]"
   ]
  },
  {
   "cell_type": "code",
   "execution_count": 92,
   "metadata": {
    "collapsed": true
   },
   "outputs": [],
   "source": [
    "def date_conversion(element):\n",
    "    getyear = element.split('/', 1) \n",
    "    return  datetime.strptime(str(int(getyear[0]) + 1911) + '/' +getyear[1], '%Y/%m/%d %H:%M')"
   ]
  },
  {
   "cell_type": "code",
   "execution_count": 93,
   "metadata": {
    "collapsed": false
   },
   "outputs": [
    {
     "name": "stdout",
     "output_type": "stream",
     "text": [
      "2013-12-10 10:30:00\n"
     ]
    }
   ],
   "source": [
    "print date_conversion('102/12/10 10:30')"
   ]
  },
  {
   "cell_type": "code",
   "execution_count": 94,
   "metadata": {
    "collapsed": true
   },
   "outputs": [],
   "source": [
    "from bs4 import BeautifulSoup as bs\n",
    "dic = {u'開標時間': ''\\\n",
    "      }\n",
    "with open('gov/51835965.txt', 'r') as f:\n",
    "    soup = bs(f.read())\n",
    "    for tr in soup.select('tr'):\n",
    "        if len(tr.select('th')) > 0:\n",
    "            if tr.select('th')[0].text.strip() in dic:\n",
    "                dic[tr.select('th')[0].text.strip()]= tr.select('td')[0].text.strip()\n"
   ]
  },
  {
   "cell_type": "code",
   "execution_count": 95,
   "metadata": {
    "collapsed": false
   },
   "outputs": [
    {
     "name": "stdout",
     "output_type": "stream",
     "text": [
      "開標時間 105/03/16 10:00 <type 'unicode'>\n",
      "105/03/16 10:00\n",
      "2016-03-16 10:00:00\n"
     ]
    }
   ],
   "source": [
    "for ele in dic:\n",
    "    print ele, dic[ele], type(dic[ele])\n",
    "print dic[u'開標時間']\n",
    "print date_conversion(dic[u'開標時間'])"
   ]
  },
  {
   "cell_type": "markdown",
   "metadata": {},
   "source": [
    "## 正規表達式"
   ]
  },
  {
   "cell_type": "code",
   "execution_count": 148,
   "metadata": {
    "collapsed": false
   },
   "outputs": [
    {
     "name": "stdout",
     "output_type": "stream",
     "text": [
      "250,000\n"
     ]
    },
    {
     "ename": "AttributeError",
     "evalue": "'NoneType' object has no attribute 'group'",
     "output_type": "error",
     "traceback": [
      "\u001b[1;31m---------------------------------------------------------------------------\u001b[0m",
      "\u001b[1;31mAttributeError\u001b[0m                            Traceback (most recent call last)",
      "\u001b[1;32m<ipython-input-148-9cd9a8a6aba4>\u001b[0m in \u001b[0;36m<module>\u001b[1;34m()\u001b[0m\n\u001b[0;32m      7\u001b[0m \u001b[1;33m\u001b[0m\u001b[0m\n\u001b[0;32m      8\u001b[0m \u001b[0mm\u001b[0m \u001b[1;33m=\u001b[0m \u001b[0mre\u001b[0m\u001b[1;33m.\u001b[0m\u001b[0msearch\u001b[0m\u001b[1;33m(\u001b[0m\u001b[1;34m'250,000'\u001b[0m\u001b[1;33m,\u001b[0m \u001b[0mb\u001b[0m\u001b[1;33m)\u001b[0m\u001b[1;33m\u001b[0m\u001b[0m\n\u001b[1;32m----> 9\u001b[1;33m \u001b[1;32mprint\u001b[0m \u001b[0mm\u001b[0m\u001b[1;33m.\u001b[0m\u001b[0mgroup\u001b[0m\u001b[1;33m(\u001b[0m\u001b[1;36m0\u001b[0m\u001b[1;33m)\u001b[0m\u001b[1;33m\u001b[0m\u001b[0m\n\u001b[0m",
      "\u001b[1;31mAttributeError\u001b[0m: 'NoneType' object has no attribute 'group'"
     ]
    }
   ],
   "source": [
    "a = '他欠了我 250,000元, 地震了~~~~~~'\n",
    "b = 'b欠了我 4,000元, 地震了~~~~~~'\n",
    "c = 'c欠了我 200元, 地震了~~~~~~'\n",
    "import re\n",
    "m = re.search('250,000', a)\n",
    "print m.group(0)\n",
    "\n",
    "m = re.search('250,000', b)\n",
    "print m.group(0)\n"
   ]
  },
  {
   "cell_type": "code",
   "execution_count": 152,
   "metadata": {
    "collapsed": false
   },
   "outputs": [
    {
     "name": "stdout",
     "output_type": "stream",
     "text": [
      "b欠了我 4,000元, 地震了~~~~~~\n",
      "4\n",
      "4\n",
      "4\n"
     ]
    }
   ],
   "source": [
    "print b\n",
    "m = re.search('[0123456789]', b) # [] 代表 or ... 0 or 1 or 2 .. or 9\n",
    "print m.group(0)\n",
    "\n",
    "m = re.search('[0-9]', b) # 0-9 代表 0 ~ 9\n",
    "print m.group(0)\n",
    "\n",
    "m = re.search('\\d', b) # \\d == [0-9]\n",
    "print m.group(0)"
   ]
  },
  {
   "cell_type": "code",
   "execution_count": 155,
   "metadata": {
    "collapsed": false
   },
   "outputs": [
    {
     "name": "stdout",
     "output_type": "stream",
     "text": [
      "b欠了我 4,000元, 地震了~~~~~~\n",
      "b\n",
      "b\n",
      "b\n",
      "b\n",
      "b\n"
     ]
    }
   ],
   "source": [
    "print b\n",
    "m = re.search('[abcdefghijklmnopqrstuvwxyz]', b) # [] 代表 or ... a or b or z\n",
    "print m.group(0)\n",
    "\n",
    "m = re.search('[a-z]', b) # [aabcdefg...z] == [a-z]\n",
    "print m.group(0)\n",
    "\n",
    "m = re.search('[a-zA-Z]', b) # 涵蓋大小寫\n",
    "print m.group(0)\n",
    "\n",
    "m = re.search('[a-zA-Z0-9]', b) # 涵蓋大小寫, 數字\n",
    "print m.group(0)\n",
    "\n",
    "m = re.search('\\w', b) # 涵蓋大小寫, 數字 == [a-zA-Z0-9]\n",
    "print m.group(0)"
   ]
  },
  {
   "cell_type": "code",
   "execution_count": 156,
   "metadata": {
    "collapsed": false
   },
   "outputs": [
    {
     "name": "stdout",
     "output_type": "stream",
     "text": [
      "!\n"
     ]
    }
   ],
   "source": [
    "c = '!@#!@#$'\n",
    "m = re.search('.', c) # . 萬用字元\n",
    "print m.group(0)"
   ]
  },
  {
   "cell_type": "code",
   "execution_count": 162,
   "metadata": {
    "collapsed": false
   },
   "outputs": [
    {
     "name": "stdout",
     "output_type": "stream",
     "text": [
      "25\n",
      "250\n",
      "250\n",
      "250\n",
      "\n",
      "\n"
     ]
    }
   ],
   "source": [
    "a = '他欠了我 250,000元, 地震了~~~~~~'\n",
    "m = re.search('\\d{1,2}',a)  # 代表找到1 ~ 2 個數字\n",
    "print m.group(0)\n",
    "\n",
    "m = re.search('\\d{3}',a)  # 代表找到剛剛好3個數字\n",
    "print m.group(0)\n",
    "\n",
    "\n",
    "m = re.search('\\d{1,}',a)  # 代表找到1個以上的數字\n",
    "print m.group(0)\n",
    "\n",
    "m = re.search('\\d+',a)  # {1,} == +\n",
    "print m.group(0)\n",
    "\n",
    "m = re.search('\\d{0,}',a)  # 代表找到0個以上的數字\n",
    "print m.group(0)\n",
    "\n",
    "m = re.search('\\d*',a)  # {0,} == *\n",
    "print m.group(0)"
   ]
  },
  {
   "cell_type": "code",
   "execution_count": 165,
   "metadata": {
    "collapsed": false
   },
   "outputs": [
    {
     "name": "stdout",
     "output_type": "stream",
     "text": [
      "250,000\n",
      "9527\n",
      "250,000元\n"
     ]
    }
   ],
   "source": [
    "a = '他欠了我 250,000元, 地震了~~~~~~'\n",
    "m = re.search('[0-9,]+',a)\n",
    "print m.group(0)\n",
    "\n",
    "\n",
    "a = '9527欠了我 250,000元, 地震了~~~~~~'\n",
    "m = re.search('[0-9,]+',a)\n",
    "print m.group(0)\n",
    "\n",
    "a = '9527欠了我 250,000元, 地震了~~~~~~'\n",
    "m = re.search('[0-9,]+元',a)\n",
    "print m.group(0)"
   ]
  },
  {
   "cell_type": "code",
   "execution_count": 167,
   "metadata": {
    "collapsed": false
   },
   "outputs": [
    {
     "name": "stdout",
     "output_type": "stream",
     "text": [
      "250,000元 250,000\n"
     ]
    }
   ],
   "source": [
    "a = '9527欠了我 250,000元, 地震了~~~~~~'\n",
    "m = re.search('([0-9,]+)元',a)\n",
    "print m.group(0), m.group(1)"
   ]
  },
  {
   "cell_type": "code",
   "execution_count": 171,
   "metadata": {
    "collapsed": false
   },
   "outputs": [
    {
     "name": "stdout",
     "output_type": "stream",
     "text": [
      "==========================\n",
      "小明欠了我 250,000元\n",
      "小明\n",
      "250,000\n",
      "==========================\n",
      "9527欠了我 4,000元\n",
      "9527\n",
      "4,000\n",
      "==========================\n",
      "馬英九欠了我 2,000,000元\n",
      "馬英九\n",
      "2,000,000\n"
     ]
    }
   ],
   "source": [
    "a = ['小明欠了我 250,000元, 地震了~~~~~~', \\\n",
    "    '9527欠了我 4,000元, 地震了~~~~~~',\\\n",
    "    '馬英九欠了我 2,000,000元, 地震了~~~~~~']\n",
    "for ele in a:\n",
    "    m = re.search('(.+)欠了我 ([0-9,]+)元',ele)\n",
    "    print '=========================='\n",
    "    print m.group(0)\n",
    "    print m.group(1) # (.+)\n",
    "    print m.group(2) #([0-9,]+)\n"
   ]
  },
  {
   "cell_type": "code",
   "execution_count": 187,
   "metadata": {
    "collapsed": false
   },
   "outputs": [
    {
     "name": "stdout",
     "output_type": "stream",
     "text": [
      "0912345678\n",
      "0922\n",
      "0911\n",
      "09123482384060192381\n",
      "======================\n",
      "0912345678\n",
      "0922-222-222\n",
      "0911-222333\n",
      "0912348238\n",
      "======================\n",
      "0912345678\n",
      "0922-222-222\n",
      "0911-222333\n",
      "0912348238\n",
      "======================\n",
      "0912345678 0912345678\n",
      "0922-222-222 0922-222-222\n",
      "0911-222333 0911-222333\n",
      "======================\n",
      "0912345678\n",
      "0922-222-222\n",
      "0911-222333\n"
     ]
    },
    {
     "ename": "AttributeError",
     "evalue": "'NoneType' object has no attribute 'group'",
     "output_type": "error",
     "traceback": [
      "\u001b[1;31m---------------------------------------------------------------------------\u001b[0m",
      "\u001b[1;31mAttributeError\u001b[0m                            Traceback (most recent call last)",
      "\u001b[1;32m<ipython-input-187-4c97f7d0530f>\u001b[0m in \u001b[0;36m<module>\u001b[1;34m()\u001b[0m\n\u001b[0;32m     24\u001b[0m \u001b[1;32mfor\u001b[0m \u001b[0mphone\u001b[0m \u001b[1;32min\u001b[0m \u001b[0mphones\u001b[0m\u001b[1;33m:\u001b[0m\u001b[1;33m\u001b[0m\u001b[0m\n\u001b[0;32m     25\u001b[0m     \u001b[0mm\u001b[0m \u001b[1;33m=\u001b[0m \u001b[0mre\u001b[0m\u001b[1;33m.\u001b[0m\u001b[0msearch\u001b[0m\u001b[1;33m(\u001b[0m\u001b[1;34m'^09\\d{2}-?\\d{3}-?\\d{3}$'\u001b[0m\u001b[1;33m,\u001b[0m\u001b[0mphone\u001b[0m\u001b[1;33m)\u001b[0m\u001b[1;33m\u001b[0m\u001b[0m\n\u001b[1;32m---> 26\u001b[1;33m     \u001b[1;32mprint\u001b[0m \u001b[0mm\u001b[0m\u001b[1;33m.\u001b[0m\u001b[0mgroup\u001b[0m\u001b[1;33m(\u001b[0m\u001b[1;36m0\u001b[0m\u001b[1;33m)\u001b[0m\u001b[1;33m\u001b[0m\u001b[0m\n\u001b[0m",
      "\u001b[1;31mAttributeError\u001b[0m: 'NoneType' object has no attribute 'group'"
     ]
    }
   ],
   "source": [
    "phones = ['我的電話是 0912345678 Call Me', '0922-222-222 我餓了', \\\n",
    "          '等妳呦 0911-222333', '真心不騙 09123482384060192381']\n",
    "for phone in phones:\n",
    "    m = re.search('09\\d+',phone)\n",
    "    print m.group(0)\n",
    "print '======================'  \n",
    "for phone in phones:\n",
    "    m = re.search('09\\d{2}-{0,1}\\d{3}-{0,1}\\d{3}',phone)\n",
    "    print m.group(0)\n",
    "print '======================'  \n",
    "for phone in phones:\n",
    "    m = re.search('09\\d{2}-?\\d{3}-?\\d{3}',phone) # {0,1} => ?\n",
    "    print m.group(0)\n",
    "    \n",
    "print '======================'  \n",
    "# ^ 強制比對開頭, $ 比對結尾\n",
    "for phone in phones:\n",
    "    m = re.search('(09\\d{2}-?\\d{3}-?\\d{3})\\d*',phone) \n",
    "    if m.group(0) == m.group(1):\n",
    "        print m.group(0),m.group(1)\n",
    "        \n",
    "phones = ['0912345678', '0922-222-222', \\\n",
    "          '0911-222333', '09123482384060192381']\n",
    "print '======================' \n",
    "# ^ 強制比對開頭, $ 比對結尾\n",
    "for phone in phones:\n",
    "    m = re.search('^09\\d{2}-?\\d{3}-?\\d{3}$',phone) \n",
    "    print m.group(0)"
   ]
  },
  {
   "cell_type": "code",
   "execution_count": 190,
   "metadata": {
    "collapsed": true
   },
   "outputs": [],
   "source": [
    "from bs4 import BeautifulSoup as bs\n",
    "dic = {u'底價金額': ''\\\n",
    "      }\n",
    "with open('gov/51835965.txt', 'r') as f:\n",
    "    soup = bs(f.read())\n",
    "    for tr in soup.select('tr'):\n",
    "        if len(tr.select('th')) > 0:\n",
    "            if tr.select('th')[0].text.strip() in dic:\n",
    "                dic[tr.select('th')[0].text.strip()]= tr.select('td')[0].text.strip()\n"
   ]
  },
  {
   "cell_type": "code",
   "execution_count": 199,
   "metadata": {
    "collapsed": false
   },
   "outputs": [
    {
     "name": "stdout",
     "output_type": "stream",
     "text": [
      "430,000元\n",
      "430,000\n",
      "[u'430', u'000']\n",
      "430000\n",
      "430000\n"
     ]
    }
   ],
   "source": [
    "print dic[u'底價金額']\n",
    "\n",
    "import re\n",
    "m = re.search(u'([0-9,]+)元', dic[u'底價金額'])\n",
    "print m.group(1)\n",
    "print m.group(1).split(',')\n",
    "print ''.join(m.group(1).split(','))\n",
    "print int(''.join(m.group(1).split(',')))"
   ]
  },
  {
   "cell_type": "code",
   "execution_count": 200,
   "metadata": {
    "collapsed": false
   },
   "outputs": [
    {
     "name": "stdout",
     "output_type": "stream",
     "text": [
      "david largitdata.com\n",
      "david largitdata.com\n",
      "qoo oop.cc\n",
      "qoo oop.cc\n"
     ]
    },
    {
     "ename": "AttributeError",
     "evalue": "'NoneType' object has no attribute 'group'",
     "output_type": "error",
     "traceback": [
      "\u001b[1;31m---------------------------------------------------------------------------\u001b[0m",
      "\u001b[1;31mAttributeError\u001b[0m                            Traceback (most recent call last)",
      "\u001b[1;32m<ipython-input-200-cdcc13c53f88>\u001b[0m in \u001b[0;36m<module>\u001b[1;34m()\u001b[0m\n\u001b[0;32m      4\u001b[0m     \u001b[1;32mif\u001b[0m \u001b[0mm\u001b[0m\u001b[1;33m:\u001b[0m\u001b[1;33m\u001b[0m\u001b[0m\n\u001b[0;32m      5\u001b[0m         \u001b[1;32mprint\u001b[0m \u001b[0mm\u001b[0m\u001b[1;33m.\u001b[0m\u001b[0mgroup\u001b[0m\u001b[1;33m(\u001b[0m\u001b[1;36m1\u001b[0m\u001b[1;33m)\u001b[0m\u001b[1;33m,\u001b[0m \u001b[0mm\u001b[0m\u001b[1;33m.\u001b[0m\u001b[0mgroup\u001b[0m\u001b[1;33m(\u001b[0m\u001b[1;36m2\u001b[0m\u001b[1;33m)\u001b[0m\u001b[1;33m\u001b[0m\u001b[0m\n\u001b[1;32m----> 6\u001b[1;33m     \u001b[1;32mprint\u001b[0m \u001b[0mm\u001b[0m\u001b[1;33m.\u001b[0m\u001b[0mgroup\u001b[0m\u001b[1;33m(\u001b[0m\u001b[1;36m1\u001b[0m\u001b[1;33m)\u001b[0m\u001b[1;33m,\u001b[0m \u001b[0mm\u001b[0m\u001b[1;33m.\u001b[0m\u001b[0mgroup\u001b[0m\u001b[1;33m(\u001b[0m\u001b[1;36m2\u001b[0m\u001b[1;33m)\u001b[0m\u001b[1;33m\u001b[0m\u001b[0m\n\u001b[0m",
      "\u001b[1;31mAttributeError\u001b[0m: 'NoneType' object has no attribute 'group'"
     ]
    }
   ],
   "source": [
    "emails  = ['david@largitdata.com', 'qoo@oop.cc', 'qoooop', 'a@yahoo.com']\n",
    "for email in emails:\n",
    "    m = re.search('(.+)@(.+)', email)\n",
    "    if m:\n",
    "        print m.group(1), m.group(2)\n",
    "    print m.group(1), m.group(2)"
   ]
  },
  {
   "cell_type": "code",
   "execution_count": 201,
   "metadata": {
    "collapsed": false
   },
   "outputs": [
    {
     "name": "stdout",
     "output_type": "stream",
     "text": [
      "find\n"
     ]
    }
   ],
   "source": [
    "a = 123\n",
    "b = None\n",
    "if a:\n",
    "    print \"find\"\n",
    "    \n",
    "if b:\n",
    "    print \"None\""
   ]
  },
  {
   "cell_type": "markdown",
   "metadata": {},
   "source": [
    "## 賭博不是好事, 小朋友不要學"
   ]
  },
  {
   "cell_type": "code",
   "execution_count": 115,
   "metadata": {
    "collapsed": false
   },
   "outputs": [
    {
     "name": "stdout",
     "output_type": "stream",
     "text": [
      "芝加哥白襪德州遊騎兵(主)德州遊騎兵讓分\n",
      "克里夫蘭印地安人休士頓太空人(主)大8分贏50%\n",
      "底特律老虎華盛頓國民(主)主讓1分贏50%\n",
      "紐約大都會洛杉磯道奇(主)客讓1分贏50%\n"
     ]
    }
   ],
   "source": [
    "import requests\n",
    "from bs4 import BeautifulSoup as bs\n",
    "import pandas\n",
    "res = requests.get('http://www.playsport.cc/visit_member.php?pagetype=predict&visit=gogreen&gameday=today&allianceid=1&path_trace=cD1CWl9NRjtjPW5vX2NvbnMgTUxCILDqu9q9TCA&rp=BZ_MF')\n",
    "soup = bs(res.text)\n",
    "tb = soup.select('.universe-tablecon')[0]\n",
    "\n",
    "for tr in tb.select('tr'):\n",
    "    td = tr.select('td')\n",
    "    if len(td) == 6:\n",
    "        print ''.join(td[0].text.split()).strip() "
   ]
  },
  {
   "cell_type": "code",
   "execution_count": 135,
   "metadata": {
    "collapsed": true
   },
   "outputs": [],
   "source": [
    "import requests\n",
    "from bs4 import BeautifulSoup as bs\n",
    "import pandas\n",
    "def getPage(url):\n",
    "    domain = 'http://www.playsport.cc'\n",
    "    purl = domain + url\n",
    "    res = requests.get(purl)\n",
    "    print purl\n",
    "    soup = bs(res.text)\n",
    "    tb = soup.select('.universe-tablecon')[0]\n",
    "\n",
    "    for tr in tb.select('tr'):\n",
    "        td = tr.select('td')\n",
    "        if len(td) == 6:\n",
    "            print purl, ''.join(td[0].text.split()).strip() "
   ]
  },
  {
   "cell_type": "code",
   "execution_count": 136,
   "metadata": {
    "collapsed": false
   },
   "outputs": [
    {
     "name": "stdout",
     "output_type": "stream",
     "text": [
      "http://www.playsport.cc/visit_member.php?pagetype=predict&visit=qaz555&gameday=tomorrow&allianceid=1&path_trace=cD1CWl9NRjtjPW5vX2NvbnMgTUxCILlCsW29TCA&rp=BZ_MF\n",
      "http://www.playsport.cc/visit_member.php?pagetype=predict&visit=rex666&gameday=tomorrow&allianceid=1&path_trace=cD1CWl9NRjtjPW5vX2NvbnMgTUxCILlCsW29TCA&rp=BZ_MF\n"
     ]
    }
   ],
   "source": [
    "#getPage('gogreen')\n",
    "\n",
    "res = requests.get('http://www.playsport.cc/buy_predict.php?alli=1&ck=1')\n",
    "soup = bs(res.text)\n",
    "for link in soup.select('.medalpca'):\n",
    "    getPage(link['href'])"
   ]
  },
  {
   "cell_type": "markdown",
   "metadata": {},
   "source": [
    "## 正規表達式替換"
   ]
  },
  {
   "cell_type": "code",
   "execution_count": 208,
   "metadata": {
    "collapsed": false
   },
   "outputs": [
    {
     "name": "stdout",
     "output_type": "stream",
     "text": [
      "美國研究好棒棒\n"
     ]
    }
   ],
   "source": [
    "a = '英國研究好棒棒'\n",
    "import re\n",
    "print re.sub('英國', '美國', a)"
   ]
  },
  {
   "cell_type": "code",
   "execution_count": 209,
   "metadata": {
    "collapsed": false
   },
   "outputs": [
    {
     "name": "stdout",
     "output_type": "stream",
     "text": [
      "日本人最謙虛, 美國研究最準確, qoo人發明一切\n",
      "美國研究好棒棒\n"
     ]
    }
   ],
   "source": [
    "dic = {'中國': '日本', '英國': '美國', '韓國': 'qoo'}\n",
    "articles = ['中國人最謙虛, 英國研究最準確, 韓國人發明一切', '英國研究好棒棒']\n",
    "import re\n",
    "for article in articles:\n",
    "    result = article\n",
    "    for ele in dic:    \n",
    "        result = re.sub(ele,dic[ele], result)\n",
    "    print result"
   ]
  },
  {
   "cell_type": "markdown",
   "metadata": {},
   "source": [
    "## 卡提諾 - headers"
   ]
  },
  {
   "cell_type": "code",
   "execution_count": 219,
   "metadata": {
    "collapsed": false
   },
   "outputs": [
    {
     "name": "stdout",
     "output_type": "stream",
     "text": [
      "[<div class=\"dxb_bc\" id=\"portal_block_665_content\"><ul class=\"textList sortList\"><li><h3><a href=\"http://ck101.com/thread-3500604-1-1.html?ref=hist-idx-01\" onclick=\"ga('send', 'event', '2015_\\u9996\\u9801-\\u5a1b\\u6a02\\u516b\\u5366\\u5217\\u8868', '\\u5c0f\\u8173\\u7684\\u73a9\\u6cd5\\u6b78\\u7d0d\\u51fa\\u4e8648\\u7a2e\\uff01\\u5f9e\\u9435\\u84ee\\u3001\\u9280\\u84ee\\u5230\\u91d1\\u84ee...\\u53e4', 'http://ck101.com/thread-3500604-1-1.html?ref=hist-idx-01');\" target=\"_blank\" title=\"\\u5c0f\\u8173\\u7684\\u73a9\\u6cd5\\u6b78\\u7d0d\\u51fa\\u4e8648\\u7a2e\\uff01\\u5f9e\\u9435\\u84ee\\u3001\\u9280\\u84ee\\u5230\\u91d1\\u84ee...\\u53e4\">\\u5c0f\\u8173\\u7684\\u73a9\\u6cd5\\u6b78\\u7d0d\\u51fa\\u4e8648\\u7a2e\\uff01\\u5f9e\\u9435\\u84ee\\u3001\\u9280\\u84ee\\u5230\\u91d1\\u84ee...\\u53e4</a></h3></li><li><h3><a href=\"http://ck101.com/thread-3500587-1-1.html?ref=hist-idx-01\" onclick=\"ga('send', 'event', '2015_\\u9996\\u9801-\\u5a1b\\u6a02\\u516b\\u5366\\u5217\\u8868', '\\u5317\\u97d3\\u9996\\u9818\\u91d1\\u6b63\\u6069\\u5152\\u6642\\u7167\\u66dd\\u5149 \\u8ddf\\u7238\\u7238\\u4e00\\u8d77\\u9a0e\\u99ac\\u901b\\u5927\\u8857 \\u7db2', 'http://ck101.com/thread-3500587-1-1.html?ref=hist-idx-01');\" target=\"_blank\" title=\"\\u5317\\u97d3\\u9996\\u9818\\u91d1\\u6b63\\u6069\\u5152\\u6642\\u7167\\u66dd\\u5149 \\u8ddf\\u7238\\u7238\\u4e00\\u8d77\\u9a0e\\u99ac\\u901b\\u5927\\u8857 \\u7db2\">\\u5317\\u97d3\\u9996\\u9818\\u91d1\\u6b63\\u6069\\u5152\\u6642\\u7167\\u66dd\\u5149 \\u8ddf\\u7238\\u7238\\u4e00\\u8d77\\u9a0e\\u99ac\\u901b\\u5927\\u8857 \\u7db2</a></h3></li><li><h3><a href=\"http://ck101.com/thread-3497182-1-1.html?ref=hist-idx-01\" onclick=\"ga('send', 'event', '2015_\\u9996\\u9801-\\u5a1b\\u6a02\\u516b\\u5366\\u5217\\u8868', '1973\\u5e74\\u4e00\\u4f4d\\u5916\\u570b\\u651d\\u5f71\\u5e2b\\u5192\\u6b7b\\u62cd\\u4e0b\\u300c\\u6587\\u9769\\u4e2d\\u7684\\u9752\\u5e74\\u7537\\u5973\\u300d', 'http://ck101.com/thread-3497182-1-1.html?ref=hist-idx-01');\" target=\"_blank\" title=\"1973\\u5e74\\u4e00\\u4f4d\\u5916\\u570b\\u651d\\u5f71\\u5e2b\\u5192\\u6b7b\\u62cd\\u4e0b\\u300c\\u6587\\u9769\\u4e2d\\u7684\\u9752\\u5e74\\u7537\\u5973\\u300d\">1973\\u5e74\\u4e00\\u4f4d\\u5916\\u570b\\u651d\\u5f71\\u5e2b\\u5192\\u6b7b\\u62cd\\u4e0b\\u300c\\u6587\\u9769\\u4e2d\\u7684\\u9752\\u5e74\\u7537\\u5973\\u300d</a></h3></li><li><h3><a href=\"http://ck101.com/thread-3496950-1-1.html?ref=hist-idx-01\" onclick=\"ga('send', 'event', '2015_\\u9996\\u9801-\\u5a1b\\u6a02\\u516b\\u5366\\u5217\\u8868', '\\u8001\\u7167\\u7247\\u5c0f\\u6b77\\u53f2\\uff1a30\\u5f20\\u6709\\u8da3\\u7684\\u6b77\\u53f2\\u8001\\u7167\\u7247\\uff08\\u6ce8\\u610f\\u7b2c8\\u5f35\\uff09', 'http://ck101.com/thread-3496950-1-1.html?ref=hist-idx-01');\" target=\"_blank\" title=\"\\u8001\\u7167\\u7247\\u5c0f\\u6b77\\u53f2\\uff1a30\\u5f20\\u6709\\u8da3\\u7684\\u6b77\\u53f2\\u8001\\u7167\\u7247\\uff08\\u6ce8\\u610f\\u7b2c8\\u5f35\\uff09\">\\u8001\\u7167\\u7247\\u5c0f\\u6b77\\u53f2\\uff1a30\\u5f20\\u6709\\u8da3\\u7684\\u6b77\\u53f2\\u8001\\u7167\\u7247\\uff08\\u6ce8\\u610f\\u7b2c8\\u5f35\\uff09</a></h3></li><li><h3><a href=\"http://ck101.com/thread-3496488-1-1.html?ref=hist-idx-01\" onclick=\"ga('send', 'event', '2015_\\u9996\\u9801-\\u5a1b\\u6a02\\u516b\\u5366\\u5217\\u8868', '\\u9019\\u9996\\u6d41\\u884c\\u8001\\u6b4c\\u88ab\\u65e5\\u8ecd\\u7981\\u5531\\u3001\\u88ab\\u8001\\u8523\\u7981\\u5531\\u5f8c\\u4f86\\u7adf\\u9023\\u4e2d\\u5171\\u4e5f', 'http://ck101.com/thread-3496488-1-1.html?ref=hist-idx-01');\" target=\"_blank\" title=\"\\u9019\\u9996\\u6d41\\u884c\\u8001\\u6b4c\\u88ab\\u65e5\\u8ecd\\u7981\\u5531\\u3001\\u88ab\\u8001\\u8523\\u7981\\u5531\\u5f8c\\u4f86\\u7adf\\u9023\\u4e2d\\u5171\\u4e5f\">\\u9019\\u9996\\u6d41\\u884c\\u8001\\u6b4c\\u88ab\\u65e5\\u8ecd\\u7981\\u5531\\u3001\\u88ab\\u8001\\u8523\\u7981\\u5531\\u5f8c\\u4f86\\u7adf\\u9023\\u4e2d\\u5171\\u4e5f</a></h3></li></ul></div>]\n"
     ]
    }
   ],
   "source": [
    "import requests\n",
    "headers = {\n",
    "'User-Agent':'Mozilla/5.0 (Windows NT 6.1; WOW64) AppleWebKit/537.36 (KHTML, like Gecko) Chrome/50.0.2661.94 Safari/537.36'\n",
    "} \n",
    "res = requests.get('http://ck101.com/', headers = headers)\n",
    "#print res.text\n",
    "from bs4 import BeautifulSoup as bs\n",
    "soup = bs(res.text)\n",
    "print soup.select('#portal_block_665_content')"
   ]
  },
  {
   "cell_type": "markdown",
   "metadata": {},
   "source": [
    "## ptt - cookies"
   ]
  },
  {
   "cell_type": "code",
   "execution_count": 221,
   "metadata": {
    "collapsed": false
   },
   "outputs": [],
   "source": [
    "import requests\n",
    "res = requests.get('https://www.ptt.cc/bbs/Food/index.html')\n",
    "#print res.text"
   ]
  },
  {
   "cell_type": "code",
   "execution_count": 224,
   "metadata": {
    "collapsed": false
   },
   "outputs": [],
   "source": [
    "cookies = {'over18':'1'}\n",
    "res = requests.get('https://www.ptt.cc/bbs/Gossiping/index.html', cookies = cookies)\n",
    "#print res.text"
   ]
  },
  {
   "cell_type": "markdown",
   "metadata": {},
   "source": [
    "## 換proxy"
   ]
  },
  {
   "cell_type": "code",
   "execution_count": 8,
   "metadata": {
    "collapsed": false
   },
   "outputs": [
    {
     "name": "stdout",
     "output_type": "stream",
     "text": [
      "try{jsonp_prod({\"DGCC5M-A900775VN-000\":{\"Seq\":15753360,\"Id\":\"DGCC5M-A900775VN-000\",\"Name\":\"ASUS ZenFone Go TV ( ZB551KL 2G\\/16G)\",\"Nick\":\"<font color=FD0303><B>\\uff2e\\uff25\\uff37\\u2605\\u884c\\u52d5\\u96fb\\u8996\\uff0c\\u96a8\\u9078\\u96a8\\u770b\\u2605<\\/B><\\/font><BR>ASUS ZenFone Go TV ( ZB551KL 2G\\/16G)\",\"Store\":\"DGCC5M\",\"PreOrdDate\":\"\",\"SpeOrdDate\":\"\",\"Price\":{\"M\":0,\"P\":5490},\"Discount\":0,\"Pic\":{\"B\":\"\\/pic\\/v1\\/data\\/item\\/201605\\/D\\/G\\/C\\/C\\/5\\/M\\/DGCC5M-A900775VN000_57319c208b205.jpg\",\"S\":\"\\/pic\\/v1\\/data\\/item\\/201605\\/D\\/G\\/C\\/C\\/5\\/M\\/sDGCC5M-A900775VN000_57319c208cebb.jpg\"},\"Weight\":0.34,\"ISBN\":\"\",\"Qty\":0,\"Bonus\":0,\"isBig\":0,\"isSpec\":1,\"isCombine\":0,\"isDiy\":0,\"isRecyclable\":0,\"isCarrier\":0,\"isMedical\":0,\"isBigCart\":1,\"isSnapUp\":0,\"isDescAndIntroSync\":0,\"isFoodContents\":0,\"isHuge\":0,\"isEnergySubsidy\":0}});}catch(e){if(window.console){console.log(e);}}\n"
     ]
    }
   ],
   "source": [
    "proxies = {\n",
    "'http': 'http://118.161.47.160:80',\n",
    "'https': 'http://118.161.47.160:80'\n",
    "}\n",
    "import requests\n",
    "#res = requests.get('http://24h.pchome.com.tw/prod/DGCC5M-A900775VN?q=/S/DGCC5M', proxies = proxies)\n",
    "res = requests.get('http://ecapi.pchome.com.tw/ecshop/prodapi/v2/prod/DGCC5M-A900775VN-000&store=DGCC5M&fields=Seq,Id,Name,Nick,Store,PreOrdDate,SpeOrdDate,Price,Discount,Pic,Weight,ISBN,Qty,Bonus,isBig,isSpec,isCombine,isDiy,isRecyclable,isCarrier,isMedical,isBigCart,isSnapUp,isDescAndIntroSync,isFoodContents,isHuge,isEnergySubsidy&_callback=jsonp_prod?_callback=jsonp_prod')\n",
    "print res.text"
   ]
  },
  {
   "cell_type": "code",
   "execution_count": 11,
   "metadata": {
    "collapsed": false
   },
   "outputs": [
    {
     "name": "stdout",
     "output_type": "stream",
     "text": [
      "{\"DGCC5M-A900775VN-000\":{\"Seq\":15753360,\"Id\":\"DGCC5M-A900775VN-000\",\"Name\":\"ASUS ZenFone Go TV ( ZB551KL 2G\\/16G)\",\"Nick\":\"<font color=FD0303><B>\\uff2e\\uff25\\uff37\\u2605\\u884c\\u52d5\\u96fb\\u8996\\uff0c\\u96a8\\u9078\\u96a8\\u770b\\u2605<\\/B><\\/font><BR>ASUS ZenFone Go TV ( ZB551KL 2G\\/16G)\",\"Store\":\"DGCC5M\",\"PreOrdDate\":\"\",\"SpeOrdDate\":\"\",\"Price\":{\"M\":0,\"P\":5490},\"Discount\":0,\"Pic\":{\"B\":\"\\/pic\\/v1\\/data\\/item\\/201605\\/D\\/G\\/C\\/C\\/5\\/M\\/DGCC5M-A900775VN000_57319c208b205.jpg\",\"S\":\"\\/pic\\/v1\\/data\\/item\\/201605\\/D\\/G\\/C\\/C\\/5\\/M\\/sDGCC5M-A900775VN000_57319c208cebb.jpg\"},\"Weight\":0.34,\"ISBN\":\"\",\"Qty\":0,\"Bonus\":0,\"isBig\":0,\"isSpec\":1,\"isCombine\":0,\"isDiy\":0,\"isRecyclable\":0,\"isCarrier\":0,\"isMedical\":0,\"isBigCart\":1,\"isSnapUp\":0,\"isDescAndIntroSync\":0,\"isFoodContents\":0,\"isHuge\":0,\"isEnergySubsidy\":0}}\n"
     ]
    }
   ],
   "source": [
    "import re\n",
    "m = re.search('try{jsonp_prod\\((.+?)\\);}', res.text) # lazy evaluation ? after +*\n",
    "print m.group(1)"
   ]
  },
  {
   "cell_type": "code",
   "execution_count": 15,
   "metadata": {
    "collapsed": false
   },
   "outputs": [
    {
     "name": "stdout",
     "output_type": "stream",
     "text": [
      "{u'qoo': {u'weight': 155, u'height': 155}}\n",
      "155\n"
     ]
    }
   ],
   "source": [
    "a = '{\"qoo\": {\"weight\": 155, \"height\": 155}}'\n",
    "import json\n",
    "jd = json.loads(a)\n",
    "print jd\n",
    "print jd['qoo']['weight']"
   ]
  },
  {
   "cell_type": "code",
   "execution_count": 19,
   "metadata": {
    "collapsed": false
   },
   "outputs": [
    {
     "name": "stdout",
     "output_type": "stream",
     "text": [
      "{u'P': 5490, u'M': 0}\n",
      "5490\n"
     ]
    }
   ],
   "source": [
    "import json\n",
    "jd = json.loads(m.group(1))\n",
    "print jd['DGCC5M-A900775VN-000']['Price']\n",
    "print jd['DGCC5M-A900775VN-000']['Price']['P']"
   ]
  },
  {
   "cell_type": "code",
   "execution_count": 24,
   "metadata": {
    "collapsed": false
   },
   "outputs": [],
   "source": [
    "import requests\n",
    "res = requests.get('http://axe-level-4.herokuapp.com/lv4/')\n",
    "res.encoding = 'utf-8'\n",
    "#print res.text"
   ]
  },
  {
   "cell_type": "code",
   "execution_count": 30,
   "metadata": {
    "collapsed": false
   },
   "outputs": [
    {
     "name": "stdout",
     "output_type": "stream",
     "text": [
      "客服專員(月薪3.0萬~3.4萬，8+2小時制，周休二日-台北市)非業務/無業績\n",
      "\n",
      "駐廠儲備幹部 (新北市土城區)\n",
      "\n",
      "北區業務人員(寵物部)\n",
      "\n",
      "實驗人員/品檢人員\n",
      "\n",
      "數位廣告上架助理-高雄分公司\n",
      "\n",
      "專案管理師(信義辦公室)\n",
      "\n",
      "採購行政助理\n",
      "\n",
      "Internet程式工程師\n",
      "\n",
      "Global Mall : 營業儲備幹部\n",
      "\n",
      "電話行銷人員（保障薪資+高額獎金）(中和)\n",
      "\n",
      "數據分析師/資料科學家\n",
      "大數據中心網路管理師\n",
      "Ad tech Engineer (數據合作與廣告製作工程師)\n",
      "機器學習科學家Machine Learning Scientist\n",
      "大數據工程師\n",
      "數據分析師\n",
      "資深軟體工程師 (自動化測試)Sr. SW Engineer (Automated test)\n",
      "研究分析員\n",
      "影片製作\n",
      "執行企劃師\n",
      "mobile app工程師\n",
      "HTML5網頁前端工程師\n",
      "研究拓展經理\n",
      "數據工程師(後端)\n",
      "Product Marketing Manager\n",
      "產品總監 Product Director\n",
      "資深產品經理Senior Product Manager\n",
      "資深軟體工程師 Senior Software Engineer(Ad Network)\n",
      "資深軟體工程師  Senior Software Engineer (Hadoop/Spark)\n"
     ]
    }
   ],
   "source": [
    "import requests\n",
    "from bs4 import BeautifulSoup\n",
    "#http://www.104.com.tw/jobbank/joblist/joblist.cfm?jobsource=n104bank1&ro=0&keyword=%E5%A4%A7%E6%95%B8%E6%93%9A&order=1&asc=0&page=3&psl=N_B\n",
    "for page in range(1,5):\n",
    "    res = requests.get('http://www.104.com.tw/jobbank/joblist/joblist.cfm?jobsource=n104bank1&keyword=%E5%A4%A7%E6%95%B8%E6%93%9A&order=1&page={}'.format(page))\n",
    "    soup = BeautifulSoup(res.text)\n",
    "    for job in soup.select('.line_bottom'):\n",
    "        if len(job.select('.job_name')) > 0:\n",
    "            print job.select('.job_name')[0].text"
   ]
  },
  {
   "cell_type": "code",
   "execution_count": 38,
   "metadata": {
    "collapsed": false
   },
   "outputs": [
    {
     "name": "stdout",
     "output_type": "stream",
     "text": [
      "105年度新北市瑞芳區道路除草作業(開口合約)\n",
      "2016客庄12大節慶-2016美濃白玉蘿蔔季\n",
      "105年0206地震臺南市山上區辦公大樓災害復建工程-大樓拆除工程\n",
      "105-106年FREE品牌整合行銷採購案\n",
      "南化區北寮思親堂災害復建工程設計監造案\n",
      "105年度苗栗縣雨水下道清淤工程(開口合約)\n",
      "「明倫樓、日新樓、藝能樓」校舍結構補強工程採購案\n",
      "臺中市立圖書館北屯四張犁分館閱讀環境改善工程委託規劃設計監造技術服務\n",
      "105-107年度管灌暨特殊營養品等22類長期供應契約\n",
      "105-107年度食物及其材料(豬肉等19類)長期供應契約\n",
      "105-107年度管灌暨特殊營養品等40類長期供應契約單價標\n",
      "新北市105年主題步道整建工程(金字碑、大尖山等步道)\n",
      "新竹縣新埔鎮宗祠客家文化導覽營運計畫\n",
      "105年春茶製茶勞務採購案\n",
      "雲林縣104學年度「教育部補助充實公立國小圖書館(室)藏書量」-海線南光國小等39校圖書採購\n",
      "105年度新北市潛力景點暨周邊設施零星修繕工程(開口契約)\n",
      "105年學生制服\n",
      "英語多媒體自造系統乙套\n",
      "新北市水資源回收中心回收水再利用推廣工程委託設計及監造技術服務\n",
      "105年下半年度高雄二區矯正機關收容人副食品聯合採購-雞鴨肉類\n",
      "105年度雙射源託運行李X光檢查儀6部採購案\n",
      "105年度雙射源手提行李Ｘ光檢查儀11部採購案\n",
      "105學年度學生制服\n",
      "橡皮軸彈簧 124PC\n",
      "105年義警中隊協勤人員防寒外套及POLO衫採購案\n",
      "高解析單槍投影機及電動布幕\n",
      "105年度不鏽鋼鏡面財物採購\n",
      "睦光里1鄰2-4號宅前路面改善工程\n",
      "靜脈輸液幫浦6台\n",
      "3D掃描器一台\n",
      "105年度鹿安國中小土方運輸回填工程監造\n",
      "不可逆感溫貼紙 10000PC\n",
      "105年度韓國東豆川國際教育旅行活動\n",
      "105年度太平山國家森林遊樂區-太平山莊營運所需雙孔義式半自動咖啡機及磨豆機採購案\n",
      "「枋寮鄉北勢寮綜合鄉民運動休閒場所興建工程」委託設計監造案(第二次招標)\n",
      "105年度暑期備課參訪暨員工自強活動委託服務\n",
      "交通部觀光局委託印製臺灣旅遊摺頁案\n",
      "大腸內視鏡維修案\n",
      "數位鑑識工具軟體採購案\n",
      "照明系統1組\n",
      "生態科學與技術學系採購魚隻養殖飼料\n",
      "105年遊戲器材汰換採購及整修工程\n",
      "基隆市文化資產普查計畫\n",
      "學位服清洗（含披肩、帽子）2880套\n",
      "新北市淡水區竹圍國民小學鋪面改善工程採購案\n",
      "105年度補助改善無障礙校園環境計畫\n",
      "105年度梨山地質鑽探一式\n",
      "105-106年度克流感\n",
      "資工系「數位螢幕」購案\n",
      "新莊區立廷里環境生態保護研習活動，約520人\n",
      "105年度監視器更新\n",
      "Apabi方正電子書\n",
      "輔導室所屬諮商室空間及設備建置\n",
      "105學年度四技二專技訊網彩色印刷L型資料夾專案\n",
      "可程式高壓直流負載1套\n",
      "魏氏成人智力量表第四版(WAIS-IV)中文版\n",
      "超低溫冷凍櫃\n",
      "105年社教及文化機構暑假聯合行銷計畫案\n",
      "新莊區中全里自然生態研習活動，約280人\n",
      "2016年至2017年桃園機場－臺北國道客運巴士券印製案\n",
      "25HP沉水式電動抽水機(低吸型) 2套及30HP豎軸電動抽水機1套\n",
      "烈嶼鄉砂溪坑道零星修繕工程\n",
      "(104)東港鎮各巷道路面改善工程(第二期)\n",
      "105年桃園市政府社會局員工共識營\n",
      "烈嶼鄉青岐虎軍地標旅遊景點改善工程\n",
      "後甲國中水溝蓋加設不鏽鋼沖孔板(含安裝)財物採購\n",
      "南興國小0206地震災害搶修工程\n",
      "氦氖雷射2只\n",
      "行政院環境保護署及所屬機關105年度員工協助方案\n",
      "感應耦合電漿串聯質譜儀（ICP-MS）移機及安裝1套\n",
      "105年度「社區藥局藥品流通管理國際法規蒐集」計畫\n",
      "105年桃園市公益彩券形象宣導活動\n",
      "MAMPAEY快速解纜鉤電磁閥組\n",
      "105年度組合會議桌椅\n",
      "羅浮里富陽道路支線災害復建工程\n",
      "台中港供油TT-109、TT-102油槽陰極防蝕改善工程\n",
      "熱端藥水700公斤\n",
      "臺中市沙鹿區公明國小北棟及東棟校舍連接走廊伸縮縫工程\n",
      "105年諮商室標準設置改善\n",
      "105學年度新生團體健康檢查\n",
      "幼兒保育系嬰幼兒照護用搖晃、毒癮、酒精娃娃採購案\n",
      "國立曾文農工105年製圖科優質化實習設備採購案\n",
      "草埔國小教室大樓整修工程規劃、設計及監造委託技術服務\n",
      "「故宮文物月刊叢書續編」印製案\n",
      "104南投市光明里光明二路巷道AC路面改善工程\n",
      "臺中市文化資產保存信託基金可行性評估\n",
      "三民里多功能活動中心周邊改善工程\n",
      "多功能冷凍低溫食品調理機\n",
      "新北市新店區龜山國民小學105年改善幼兒園教學環境設備\n",
      "高溫炭化、活化、淬取系統\n",
      "本場環境區域除草作業\n",
      "3D食物印表機\n",
      "2016桃園蓮花季-觀光導覽指標設施規劃設計與設置勞務採購案\n",
      "105年度臺南市政府研究發展考核委員會電腦主機汰換採購案\n",
      "105學年度應屆畢業生教育參觀活動採購案\n",
      "新來義部落興建排灣族石板屋周邊文化景觀營造計畫-(購料)\n",
      "104學年度校刊印刷\n",
      "105學年度九年級教育旅行活動\n",
      "105年度教室吊扇更新\n",
      "眼科器械組(斜弱視及整形用)壹組\n",
      "電腦周邊設備\n",
      "A105000105 事務組-監視系統\n",
      "小型液態氮超低溫料理器\n",
      "折疊式塑膠警示帶 168,000公尺\n",
      "105年度全院新增資訊網點線路佈線\n",
      "「105-106年度六堆園區消防安全設備檢修申報及保養開口契約」\n",
      "超低溫料理機\n",
      "105年建築廢棄物委外清運服務開口契約【第二次公告】\n",
      "改善教學環境設備工程\n",
      "105年度中棟老舊廁所整修工程技術服務\n",
      "霜淇淋機\n",
      "乳化機\n",
      "三興里彰南路一段805巷道路改善工程\n",
      "鹵素加熱器\n",
      "桃園市新屋區農會105年農民繳售公糧包裝袋採購案\n",
      "電子商務科電腦財物採購\n",
      "東校門暨警衛室興建工程委託設計監造勞務採購\n",
      "智慧型高頻電燒機1組\n",
      "解剖顯微鏡1台\n",
      "桃園市復興區羅浮國小區域周邊通學步道改善工程委託規劃設計服務案\n",
      "「學生宿舍外牆改善工程」委託設計及監造技術服務採購案\n",
      "電機系-個人電腦主機、......筆記型電腦等設備\n",
      "學用品招標\n",
      "冬季運動服招標\n",
      "娜麓灣區餐飲中心安全鑑定缺失改善工程\n",
      "105年學校廊道優質化整修工程\n",
      "氣銲機30台(花蓮)\n",
      "臺北市市場處公有南門、士東市場掀蓋式洗碗機財物採購案\n",
      "105年史懷哲計畫松山－金門來回機票\n",
      "「研擬重要傳統藝術-歌仔戲保存維護計畫」案\n",
      "委託辦理「韓國外籍勞工政策及直接聘僱制度之研究」\n",
      "不斷電系統電池更新採購案\n",
      "105年替代役宿舍熱泵熱水器(含安裝)採購\n",
      "翠屏非營利幼兒園圖書及教具學具\n",
      "員山消防分隊辦公廳舍新建工程興辦事業計畫(含先期規劃)及土地變更編定委託技術服務\n",
      "實驗衣招標\n",
      "105年度鹿港鎮寬頻管道養護工程\n",
      "新北市立秀峰高級中學105年動態記錄攝影機\n",
      "胎兒監視器\n",
      "微磁學模擬軟體-LLG Simulator 一套\n",
      "伸港鄉長春地下道抽水站東側馬達修繕工作\n",
      "醫療手環一批，訂定單價合約\n",
      "教育部補助105年度附設幼兒園改善教學環境設備\n",
      "新北市立秀峰高級中學105年購置圖書館設備\n",
      "花蓮縣警察局105年度協勤民力(巡守隊)配件採購案\n",
      "105年度全國環境教育輔導計畫成果觀摩會（食宿與會議空間、場地佈置）勞務採購案\n",
      "夏季運動服招標\n",
      "科技大樓中央空調系統空調箱更新暨節能改善委託技術服務案\n",
      "正強街273號至埔園街等路面改善工程委託設計監造\n",
      "五福國小附設幼兒園105年度教育部國民及學前教育署補助苗栗縣改善公立幼兒園教學環境設備採購\n",
      "學生冬季外套\n",
      "105年度布吉納法索海外班學員經建參觀案\n",
      "苗栗縣南庄鄉南富村暨員林村廣播系統設置工程\n",
      "自動化實習系統採購案\n",
      "105年度重大職業災害檢查紀實影片拍攝委外案\n",
      "酵素免疫分析儀\n",
      "富基漁港曳船道新建工程\n",
      "秋季制服招標\n",
      "0.7公升OMAR波本花香(第十四任總統、副總統就職紀念酒)紙盒+紙箱\n",
      "105年度仁德國小老舊廁所整建工程委託規劃設計監造勞務採購案\n",
      "LPG機械雙軸封\n",
      "「頭城鎮和平老街整體文化觀光計畫委託規劃、設計服務」案\n",
      "臺中市清水區楊厝里辦理105年度臺中航空站噪音回饋金文化觀摩活動委託專業服務\n",
      "本鄉各村區域排水及一般排水清淤改善工程(開口契約)\n",
      "105年度核酸快篩檢測分析儀1台\n",
      "105年上半年員工文康活動採購案\n",
      "宜昌國中閱讀角落設施工程\n",
      "105年度落地型變頻冷凍離心機1台\n",
      "自走車\n",
      "人事室、主計室辦公空間檔案櫃整修工程\n",
      "高壓滅菌釜\n",
      "六龜國小附設幼兒園廁所整修工程\n",
      "A224實驗室微粒偵測儀器維修保養\n",
      "「北廠80」書刊製作\n",
      "低溫電漿滅菌鍋1台維護案\n",
      "冷卻式數位影像系統\n",
      "6號雙管式可發聲氣切套管\n",
      "苗栗縣立苑裡高級中學105年度備份還原伺服器採購案\n",
      "105年度2項委託研究計畫-台灣民眾之中醫體質證型研究與慢性病之中醫診治\n",
      "105年中文休閒雜誌及專業期刊\n",
      "Carestream電腦影像處理系統設備維護承攬工作\n",
      "高師大附中「平版電腦暨筆記型電腦」採購\n",
      "臺南市立麻豆國民中學「105年度國民中小學老舊廁所空間環境整建計畫－五育樓西側、致美樓東側及丁燦樓西側廁所整建工程」規劃設計\n",
      "105年度公立幼兒園改善教學環境設備\n",
      "105年度暑假經濟弱勢學生午餐幸福餐券採購\n",
      "夏季制服招標\n",
      "105年度中壢、龜山工業區污水處理廠實驗室儀器設備共同採購\n",
      "105年度泰安李農產業文化促銷活動-泰安李之星歌唱大賽\n",
      "彰中3D列印機採購\n",
      "105年創客馬拉松活動\n",
      "「105年度欣泰號」交通船乘客險暨船體險\n",
      "視聽設備等一批\n",
      "專科教室冷氣安裝計費式電表\n",
      "105年專科教室環境改善工程\n",
      "臺灣良好農業規範電子查核表資料庫\n",
      "105年度第2梯次即測即評及發證丙級技術士技能檢定工業電子術科測試修理保養及保固乙批\n",
      "汰換多媒體液晶顯示器暨自動叫號系統設備採購案\n",
      "105年度日用品採購案\n",
      "臺南市五王國小105學年度六年級戶外教育\n",
      "105學年度3年級校外教學參觀活動勞務採購\n"
     ]
    }
   ],
   "source": [
    "import requests\n",
    "payload = {\n",
    "'method':'search',\n",
    "'searchMethod':'true',\n",
    "'tenderUpdate':'',\n",
    "'searchTarget':'',\n",
    "'orgName':'',\n",
    "'orgId':'',\n",
    "'hid_1':'1',\n",
    "'tenderName':'',\n",
    "'tenderId':'',\n",
    "'tenderType':'tenderDeclaration',\n",
    "'tenderWay':'1,2,3,4,5,6,7,10,12',\n",
    "'tenderDateRadio':'on',\n",
    "'tenderStartDateStr':'105/05/06',\n",
    "'tenderEndDateStr':'105/05/12',\n",
    "'tenderStartDate':'105/05/12',\n",
    "'tenderEndDate':'105/05/12',\n",
    "'isSpdt':'N',\n",
    "'proctrgCate':'',\n",
    "'btnQuery':'查詢',\n",
    "'hadUpdated':''    \n",
    "}\n",
    "rs = requests.session()\n",
    "from bs4 import BeautifulSoup as bs\n",
    "res = rs.post('http://web.pcc.gov.tw/tps/pss/tender.do?searchMode=common&searchType=basic', data = payload)\n",
    "soup = bs(res.text)\n",
    "for tr in soup.select('#print_area tr')[1:-1]:\n",
    "    print tr.select('a')[0].text.strip()\n",
    "    \n",
    "res2 = rs.get('http://web.pcc.gov.tw/tps/pss/tender.do?searchMode=common&searchType=basic&method=search&isSpdt=&pageIndex=2')\n",
    "soup = bs(res2.text)\n",
    "for tr in soup.select('#print_area tr')[1:-1]:\n",
    "    print tr.select('a')[0].text.strip()\n"
   ]
  },
  {
   "cell_type": "markdown",
   "metadata": {},
   "source": [
    "## 整理資料抽取函式"
   ]
  },
  {
   "cell_type": "code",
   "execution_count": 39,
   "metadata": {
    "collapsed": true
   },
   "outputs": [],
   "source": [
    "# -*- coding: utf-8 -*- \n",
    "from bs4 import BeautifulSoup \n",
    "from datetime import datetime \n",
    "import os, sys, re\n"
   ]
  },
  {
   "cell_type": "code",
   "execution_count": 41,
   "metadata": {
    "collapsed": false
   },
   "outputs": [],
   "source": [
    "def get_response_element(file_name): \n",
    "    with open(file_name, 'r') as f:\n",
    "        soup = bs(f.read())\n",
    "        return soup.select('tr')\n",
    "#print get_response_element('gov/51835965.txt')"
   ]
  },
  {
   "cell_type": "code",
   "execution_count": 85,
   "metadata": {
    "collapsed": false
   },
   "outputs": [],
   "source": [
    "def date_conversion(element):\n",
    "        m = re.match(r\"(\\d+/\\d+/\\d+)\",element)\n",
    "        if m is not None:\n",
    "                t = m.group(1).split('/', 1)\n",
    "                if t[0] != '':\n",
    "                        return datetime.strptime(str(int(t[0]) + 1911) + \"/\" + (''.join(t[1:]).split()[0] ), \"%Y/%m/%d\")\n",
    "        else:\n",
    "                return None\n"
   ]
  },
  {
   "cell_type": "code",
   "execution_count": 86,
   "metadata": {
    "collapsed": false
   },
   "outputs": [
    {
     "name": "stdout",
     "output_type": "stream",
     "text": [
      "9988\n"
     ]
    }
   ],
   "source": [
    "def money_conversion(element): \n",
    "    m = re.match( r\"\\$?-?([0-9,]+)\", \"\".join(element.split())) \n",
    "    return int(''.join(m.group(0).split(',')))\n",
    "print money_conversion('9,988元')"
   ]
  },
  {
   "cell_type": "code",
   "execution_count": 87,
   "metadata": {
    "collapsed": false
   },
   "outputs": [
    {
     "name": "stdout",
     "output_type": "stream",
     "text": [
      "abc\n"
     ]
    }
   ],
   "source": [
    "def remove_space(element): \n",
    "    return \"\".join(element.split())\n",
    "print remove_space('          a         b          c')"
   ]
  },
  {
   "cell_type": "code",
   "execution_count": 88,
   "metadata": {
    "collapsed": false
   },
   "outputs": [],
   "source": [
    "name_map = {u\"機關代碼\":\"entity_code\",\\\n",
    "            u\"機關名稱\":\"procuring_entity\",\\\n",
    "            u\"標案案號\":\"job_number\",u\"招標方式\":\"procurement_type\",\\\n",
    "            u\"決標方式\":\"tender_awarding_type\",u\"標案名稱\":\"subject_of_procurement\", \\\n",
    "            u\"決標資料類別\":\"attr_of_tender_awarding\", \\\n",
    "            u\"標的分類\":\"attr_of_procurement\", u\"預算金額\":\"budget_value\", \\\n",
    "            u\"開標時間\":\"opening_date\",u\"決標公告日期\":\"tender_awarding_announce_date\",\\\n",
    "            u\"歸屬計畫類別\":\"project_type\",u\"總決標金額\":\"total_tender_awarding_value\",\\\n",
    "            u\"底價金額\":\"floor_price_value\",u\"決標日期\":\"tender_awarding_date\", \\\n",
    "            u\"pkAtmMain\":\"pkAtmMain\"}"
   ]
  },
  {
   "cell_type": "code",
   "execution_count": 89,
   "metadata": {
    "collapsed": false
   },
   "outputs": [],
   "source": [
    "tender_awards_map = {u\"機關代碼\":remove_space, \\\n",
    "                     u\"機關名稱\":remove_space, \\\n",
    "                     u\"標案案號\":remove_space, \\\n",
    "                     u\"招標方式\":remove_space, \\\n",
    "                     u\"決標方式\":remove_space, \\\n",
    "                     u\"標案名稱\":remove_space, \\\n",
    "                     u\"決標資料類別\":remove_space, \\\n",
    "                     u\"標的分類\":remove_space, \\\n",
    "                     u\"預算金額\":money_conversion, \\\n",
    "                     u\"開標時間\":date_conversion,u\"歸屬計畫類別\":remove_space, \\\n",
    "                     u\"總決標金額\":money_conversion,u\"底價金額\":money_conversion, \\\n",
    "                     u\"決標日期\":date_conversion, u\"決標公告日期\":date_conversion} "
   ]
  },
  {
   "cell_type": "code",
   "execution_count": 90,
   "metadata": {
    "collapsed": false
   },
   "outputs": [
    {
     "name": "stdout",
     "output_type": "stream",
     "text": [
      "103\n",
      "103\n"
     ]
    }
   ],
   "source": [
    "def a(ele):\n",
    "    return ele + 3\n",
    "\n",
    "def b(ele):\n",
    "    return ele * 3\n",
    "\n",
    "dic = {'a':a, 'b':b}\n",
    "print a(100)\n",
    "print dic['a'](100)"
   ]
  },
  {
   "cell_type": "code",
   "execution_count": 91,
   "metadata": {
    "collapsed": true
   },
   "outputs": [],
   "source": [
    "def get_award_info_dic(element):\n",
    "    returned_dic = {}\n",
    "    for row in element:\n",
    "        th = row.select('th')\n",
    "        #print th\n",
    "        if len(th) >0 and row.get('class') is not None :\n",
    "            th_name = th[0].text.strip()\n",
    "            if ('award_table_tr_1' or 'award_table_tr_2' or  'award_table_tr_6'  in row.get('class')) and  (th_name in  tender_awards_map):\n",
    "                returned_dic[name_map[th_name]] = tender_awards_map[th_name](row.select('td')[0].text.strip())\n",
    "    return returned_dic\n"
   ]
  },
  {
   "cell_type": "code",
   "execution_count": 92,
   "metadata": {
    "collapsed": false
   },
   "outputs": [
    {
     "name": "stdout",
     "output_type": "stream",
     "text": [
      "{'opening_date': datetime.datetime(2016, 3, 16, 0, 0), 'total_tender_awarding_value': 430000, 'tender_awarding_date': datetime.datetime(2016, 3, 25, 0, 0), 'entity_code': u'A.25.2', 'procurement_type': u'\\u516c\\u958b\\u53d6\\u5f97\\u5831\\u50f9\\u55ae\\u6216\\u4f01\\u5283\\u66f8', 'procuring_entity': u'\\u6587\\u5316\\u90e8\\u5f71\\u8996\\u53ca\\u6d41\\u884c\\u97f3\\u6a02\\u7522\\u696d\\u5c40', 'attr_of_procurement': u'<\\u52de\\u52d9\\u985e>866\\u8207\\u7ba1\\u7406\\u9867\\u554f\\u6709\\u95dc\\u4e4b\\u670d\\u52d9', 'tender_awarding_announce_date': datetime.datetime(2016, 5, 10, 0, 0), 'subject_of_procurement': u'\\u300c105\\u5e74\\u5ea6\\u91d1\\u8996\\u734e\\u8a55\\u5be9\\u884c\\u653f\\u5eb6\\u52d9\\u300d\\u63a1\\u8cfc\\u6848', 'project_type': u'\\u5c6c\\u611b\\u53f0\\u5341\\u4e8c\\u9805\\u8a08\\u756b', 'attr_of_tender_awarding': u'\\u5b9a\\u671f\\u5f59\\u9001', 'floor_price_value': 430000, 'job_number': u'F105-020', 'tender_awarding_type': u'\\u53c3\\u8003\\u6700\\u6709\\u5229\\u6a19\\u7cbe\\u795e'}\n"
     ]
    }
   ],
   "source": [
    "res = get_response_element('gov/51835965.txt')\n",
    "dic = get_award_info_dic(res)\n",
    "print dic"
   ]
  },
  {
   "cell_type": "code",
   "execution_count": 95,
   "metadata": {
    "collapsed": false
   },
   "outputs": [
    {
     "name": "stdout",
     "output_type": "stream",
     "text": [
      "opening_date 2016-03-16 00:00:00\n",
      "total_tender_awarding_value 430000\n",
      "tender_awarding_date 2016-03-25 00:00:00\n",
      "entity_code A.25.2\n",
      "procurement_type 公開取得報價單或企劃書\n",
      "procuring_entity 文化部影視及流行音樂產業局\n",
      "attr_of_procurement <勞務類>866與管理顧問有關之服務\n",
      "tender_awarding_announce_date 2016-05-10 00:00:00\n",
      "subject_of_procurement 「105年度金視獎評審行政庶務」採購案\n",
      "project_type 屬愛台十二項計畫\n",
      "attr_of_tender_awarding 定期彙送\n",
      "floor_price_value 430000\n",
      "job_number F105-020\n",
      "tender_awarding_type 參考最有利標精神\n"
     ]
    }
   ],
   "source": [
    "for ele in dic:\n",
    "    print ele, dic[ele]"
   ]
  },
  {
   "cell_type": "code",
   "execution_count": 97,
   "metadata": {
    "collapsed": true
   },
   "outputs": [],
   "source": [
    "import sqlite3 as lite\n",
    "con = lite.connect('test.sqlite')\n",
    "con.close()"
   ]
  },
  {
   "cell_type": "markdown",
   "metadata": {},
   "source": [
    "## Sqlite manager\n",
    "- https://addons.mozilla.org/zh-tw/firefox/addon/sqlite-manager/"
   ]
  },
  {
   "cell_type": "code",
   "execution_count": 99,
   "metadata": {
    "collapsed": true
   },
   "outputs": [],
   "source": [
    "import sqlite3 as lite\n",
    "con = lite.connect('test.sqlite')\n",
    "cur = con.cursor()\n",
    "cur.execute('create table phoneaddress(name text, age int, phone text);')\n",
    "con.close()"
   ]
  },
  {
   "cell_type": "code",
   "execution_count": 101,
   "metadata": {
    "collapsed": true
   },
   "outputs": [],
   "source": [
    "import sqlite3 as lite\n",
    "con = lite.connect('test.sqlite')\n",
    "cur = con.cursor()\n",
    "cur.execute(\"insert into phoneaddress values('qoo', 3, '0912345678');\")\n",
    "con.commit() #認可交易\n",
    "con.close()"
   ]
  },
  {
   "cell_type": "code",
   "execution_count": 102,
   "metadata": {
    "collapsed": true
   },
   "outputs": [],
   "source": [
    "import sqlite3 as lite\n",
    "con = lite.connect('test.sqlite')\n",
    "cur = con.cursor()\n",
    "cur.execute(\"insert into phoneaddress values('oop', 4, '0912345678');\")\n",
    "cur.execute(\"insert into phoneaddress values('poo', 5, '0912345678');\")\n",
    "con.commit() #認可交易\n",
    "con.close()"
   ]
  },
  {
   "cell_type": "code",
   "execution_count": 104,
   "metadata": {
    "collapsed": false
   },
   "outputs": [
    {
     "name": "stdout",
     "output_type": "stream",
     "text": [
      "[(u'qoo', 3, u'0912345678'), (u'oop', 4, u'0912345678'), (u'poo', 5, u'0912345678')]\n"
     ]
    }
   ],
   "source": [
    "import sqlite3 as lite\n",
    "con = lite.connect('test.sqlite')\n",
    "cur = con.cursor()\n",
    "cur.execute(\"select * from phoneaddress;\")\n",
    "data = cur.fetchall()\n",
    "print data\n",
    "con.close()"
   ]
  },
  {
   "cell_type": "code",
   "execution_count": null,
   "metadata": {
    "collapsed": true
   },
   "outputs": [],
   "source": [
    "import sqlite3 as lite\n",
    "con = lite.connect('test.sqlite')\n",
    "cur = con.cursor()\n",
    "cur.execute(\"select * from phoneaddress;\")\n",
    "data = cur.fetchall()\n",
    "for rec in data:\n",
    "    print rec[0], rec[1], rec[2]\n",
    "con.close()"
   ]
  },
  {
   "cell_type": "code",
   "execution_count": 114,
   "metadata": {
    "collapsed": false
   },
   "outputs": [
    {
     "name": "stdout",
     "output_type": "stream",
     "text": [
      "['opening_date', 'total_tender_awarding_value', 'tender_awarding_date', 'entity_code', 'procurement_type', 'procuring_entity', 'attr_of_procurement', 'tender_awarding_announce_date', 'subject_of_procurement', 'project_type', 'attr_of_tender_awarding', 'floor_price_value', 'job_number', 'tender_awarding_type']\n",
      "opening_date,total_tender_awarding_value,tender_awarding_date,entity_code,procurement_type,procuring_entity,attr_of_procurement,tender_awarding_announce_date,subject_of_procurement,project_type,attr_of_tender_awarding,floor_price_value,job_number,tender_awarding_type\n",
      "14\n",
      "??????????????\n"
     ]
    }
   ],
   "source": [
    "stmt = 'insert into Tender_awards (c1, c2, c3) values(v1, v2,v3 )'\n",
    "prepared_stmt = 'insert into Tender_awards (c1, c2, c3) values(?,?,? )'\n",
    "\n",
    "res = get_response_element('gov/51835965.txt')\n",
    "dic = get_award_info_dic(res)\n",
    "print dic.keys()\n",
    "print ','.join(dic.keys())\n",
    "columns = ','.join(dic.keys())\n",
    "\n",
    "print len(dic.keys())\n",
    "print len(dic.keys()) * '?'\n",
    "placeholders =  ','.join(len(dic.keys()) * '?')\n",
    "\n",
    "\n"
   ]
  },
  {
   "cell_type": "code",
   "execution_count": 115,
   "metadata": {
    "collapsed": false
   },
   "outputs": [
    {
     "name": "stdout",
     "output_type": "stream",
     "text": [
      "insert into Tender_awards(opening_date,total_tender_awarding_value,tender_awarding_date,entity_code,procurement_type,procuring_entity,attr_of_procurement,tender_awarding_announce_date,subject_of_procurement,project_type,attr_of_tender_awarding,floor_price_value,job_number,tender_awarding_type) values(?,?,?,?,?,?,?,?,?,?,?,?,?,?);\n"
     ]
    }
   ],
   "source": [
    "prepared_stmt = 'insert into Tender_awards({}) values({});'\n",
    "print prepared_stmt.format(columns, placeholders)"
   ]
  },
  {
   "cell_type": "code",
   "execution_count": 116,
   "metadata": {
    "collapsed": true
   },
   "outputs": [],
   "source": [
    "import sqlite3 as lite\n",
    "con = lite.connect('test.sqlite')\n",
    "cur = con.cursor()\n",
    "cur.execute('''CREATE TABLE IF NOT EXISTS Tender_awards(\n",
    "                id INTEGER PRIMARY KEY,\n",
    "                pkAtmMain TEXT,\n",
    "                procuring_entity TEXT,\n",
    "                entity_code TEXT,\n",
    "                attr_of_procurement TEXT,\n",
    "                opening_date DATETIME,\n",
    "                procurement_type TEXT,\n",
    "                tender_awarding_type TEXT,\n",
    "                project_type TEXT,\n",
    "                subject_of_procurement TEXT,\n",
    "                job_number TEXT,\n",
    "                budget_value BIGINTEGER,\n",
    "                attr_of_tender_awarding TEXT,\n",
    "                floor_price_value BIGINTEGER,\n",
    "                tender_awarding_announce_date DATETIME,\n",
    "                tender_awarding_date DATETIME,\n",
    "                total_tender_awarding_value BIGINTEGER\n",
    "                )''')\n",
    "con.commit()\n",
    "con.close()"
   ]
  },
  {
   "cell_type": "code",
   "execution_count": 118,
   "metadata": {
    "collapsed": true
   },
   "outputs": [],
   "source": [
    "stmt = 'insert into Tender_awards (c1, c2, c3) values(v1, v2,v3 )'\n",
    "prepared_stmt = 'insert into Tender_awards (c1, c2, c3) values(?,?,? )'\n",
    "\n",
    "\n",
    "\n",
    "import sqlite3 as lite\n",
    "con = lite.connect('test.sqlite')\n",
    "cur = con.cursor()\n",
    "\n",
    "res = get_response_element('gov/51835965.txt')\n",
    "dic = get_award_info_dic(res)\n",
    "columns = ','.join(dic.keys())\n",
    "placeholders =  ','.join(len(dic.keys()) * '?')\n",
    "prepared_stmt = 'insert into Tender_awards({}) values({});'\n",
    "stmt = prepared_stmt.format(columns, placeholders)\n",
    "\n",
    "cur.execute(stmt, dic.values())\n",
    "con.commit()\n",
    "con.close()"
   ]
  },
  {
   "cell_type": "code",
   "execution_count": 127,
   "metadata": {
    "collapsed": true
   },
   "outputs": [],
   "source": [
    "def insert_award_info (cur, data_dic): \n",
    "    columns = ', '.join(data_dic.keys()) \n",
    "    placeholders = ', '.join('?' * len(data_dic)) \n",
    "    \n",
    "    sql = 'INSERT INTO Tender_awards ({}) VALUES ({})'.format(columns, placeholders) \n",
    "    #print sql\n",
    "    cur.execute(sql, data_dic.values())"
   ]
  },
  {
   "cell_type": "code",
   "execution_count": 128,
   "metadata": {
    "collapsed": false
   },
   "outputs": [
    {
     "name": "stdout",
     "output_type": "stream",
     "text": [
      "gov/51830157.txt gov/51830385.txt gov/51830432.txt gov/51834535.txt gov/51834904.txt gov/51835076.txt gov/51835079.txt gov/51835084.txt gov/51835085.txt gov/51835087.txt gov/51835091.txt gov/51835092.txt gov/51835106.txt gov/51835109.txt gov/51835110.txt gov/51835113.txt gov/51835120.txt gov/51835122.txt gov/51835124.txt gov/51835129.txt gov/51835130.txt gov/51835131.txt gov/51835146.txt gov/51835149.txt gov/51835150.txt gov/51835151.txt gov/51835152.txt gov/51835157.txt gov/51835161.txt gov/51835162.txt gov/51835166.txt gov/51835169.txt gov/51835174.txt gov/51835175.txt gov/51835182.txt gov/51835189.txt gov/51835191.txt gov/51835198.txt gov/51835215.txt gov/51835223.txt gov/51835233.txt gov/51835242.txt gov/51835247.txt gov/51835248.txt gov/51835271.txt gov/51835273.txt gov/51835280.txt gov/51835282.txt gov/51835665.txt gov/51835696.txt gov/51835715.txt gov/51835717.txt gov/51835727.txt gov/51835729.txt gov/51835730.txt gov/51835739.txt gov/51835743.txt gov/51835965.txt gov/51835990.txt gov/51836130.txt gov/51836416.txt gov/51836442.txt gov/51836480.txt gov/51836493.txt gov/51836574.txt gov/51836675.txt gov/51836692.txt gov/51836775.txt gov/51836799.txt gov/51836893.txt gov/51836902.txt gov/51836980.txt gov/51836983.txt gov/51836984.txt gov/51837004.txt gov/51837068.txt gov/51837128.txt gov/51837160.txt gov/51837193.txt gov/51837227.txt gov/51837263.txt gov/51837270.txt gov/51837293.txt gov/51837298.txt gov/51837299.txt gov/51837304.txt gov/51837336.txt gov/51837361.txt gov/51837368.txt gov/51837408.txt gov/51837412.txt gov/51837417.txt gov/51837432.txt gov/51837453.txt gov/51837533.txt gov/51837570.txt gov/51837573.txt gov/51837574.txt\n"
     ]
    }
   ],
   "source": [
    "import os\n",
    "for fname in os.listdir('gov/'):\n",
    "    print 'gov/' + fname,"
   ]
  },
  {
   "cell_type": "code",
   "execution_count": 129,
   "metadata": {
    "collapsed": false
   },
   "outputs": [],
   "source": [
    "import os\n",
    "import sqlite3 as lite\n",
    "prepared_stmt = 'insert into Tender_awards({}) values({});'\n",
    "con = lite.connect('test.sqlite')\n",
    "cur = con.cursor()\n",
    "for fname in os.listdir('gov/'):\n",
    "    res = get_response_element('gov/' + fname)\n",
    "    dic = get_award_info_dic(res)\n",
    "    insert_award_info(cur, dic)\n",
    "    con.commit()\n",
    "con.close()"
   ]
  },
  {
   "cell_type": "markdown",
   "metadata": {},
   "source": [
    "## Pandas"
   ]
  },
  {
   "cell_type": "code",
   "execution_count": 131,
   "metadata": {
    "collapsed": false
   },
   "outputs": [
    {
     "data": {
      "text/html": [
       "<div>\n",
       "<table border=\"1\" class=\"dataframe\">\n",
       "  <thead>\n",
       "    <tr style=\"text-align: right;\">\n",
       "      <th></th>\n",
       "      <th>attr_of_procurement</th>\n",
       "      <th>attr_of_tender_awarding</th>\n",
       "      <th>budget_value</th>\n",
       "      <th>entity_code</th>\n",
       "      <th>job_number</th>\n",
       "      <th>opening_date</th>\n",
       "      <th>procurement_type</th>\n",
       "      <th>procuring_entity</th>\n",
       "      <th>project_type</th>\n",
       "      <th>subject_of_procurement</th>\n",
       "      <th>tender_awarding_announce_date</th>\n",
       "      <th>tender_awarding_date</th>\n",
       "      <th>tender_awarding_type</th>\n",
       "    </tr>\n",
       "  </thead>\n",
       "  <tbody>\n",
       "    <tr>\n",
       "      <th>0</th>\n",
       "      <td>&lt;勞務類&gt;642提供食物服務</td>\n",
       "      <td>決標公告</td>\n",
       "      <td>462000</td>\n",
       "      <td>A.3.3</td>\n",
       "      <td>GVA2016003</td>\n",
       "      <td>2016-04-29</td>\n",
       "      <td>限制性招標(未經公開評選或公開徵求)</td>\n",
       "      <td>駐外機構</td>\n",
       "      <td>非屬愛台十二項計畫</td>\n",
       "      <td>5月22日酒會</td>\n",
       "      <td>2016-05-04</td>\n",
       "      <td>2016-04-29</td>\n",
       "      <td>最低標</td>\n",
       "    </tr>\n",
       "  </tbody>\n",
       "</table>\n",
       "</div>"
      ],
      "text/plain": [
       "  attr_of_procurement attr_of_tender_awarding  budget_value entity_code  \\\n",
       "0      <勞務類>642提供食物服務                    決標公告        462000       A.3.3   \n",
       "\n",
       "   job_number opening_date    procurement_type procuring_entity project_type  \\\n",
       "0  GVA2016003   2016-04-29  限制性招標(未經公開評選或公開徵求)             駐外機構    非屬愛台十二項計畫   \n",
       "\n",
       "  subject_of_procurement tender_awarding_announce_date tender_awarding_date  \\\n",
       "0                5月22日酒會                    2016-05-04           2016-04-29   \n",
       "\n",
       "  tender_awarding_type  \n",
       "0                  最低標  "
      ]
     },
     "execution_count": 131,
     "metadata": {},
     "output_type": "execute_result"
    }
   ],
   "source": [
    "# pip install pandas\n",
    "import pandas \n",
    "df = pandas.DataFrame([dic])\n",
    "df"
   ]
  },
  {
   "cell_type": "code",
   "execution_count": 136,
   "metadata": {
    "collapsed": true
   },
   "outputs": [],
   "source": [
    "import os\n",
    "\n",
    "dicall =[]\n",
    "for fname in os.listdir('gov/'):\n",
    "    res = get_response_element('gov/' + fname)\n",
    "    dic = get_award_info_dic(res)\n",
    "    dicall.append(dic)"
   ]
  },
  {
   "cell_type": "code",
   "execution_count": 137,
   "metadata": {
    "collapsed": false
   },
   "outputs": [
    {
     "data": {
      "text/html": [
       "<div>\n",
       "<table border=\"1\" class=\"dataframe\">\n",
       "  <thead>\n",
       "    <tr style=\"text-align: right;\">\n",
       "      <th></th>\n",
       "      <th>attr_of_procurement</th>\n",
       "      <th>attr_of_tender_awarding</th>\n",
       "      <th>budget_value</th>\n",
       "      <th>entity_code</th>\n",
       "      <th>floor_price_value</th>\n",
       "      <th>job_number</th>\n",
       "      <th>opening_date</th>\n",
       "      <th>procurement_type</th>\n",
       "      <th>procuring_entity</th>\n",
       "      <th>project_type</th>\n",
       "      <th>subject_of_procurement</th>\n",
       "      <th>tender_awarding_announce_date</th>\n",
       "      <th>tender_awarding_date</th>\n",
       "      <th>tender_awarding_type</th>\n",
       "      <th>total_tender_awarding_value</th>\n",
       "    </tr>\n",
       "  </thead>\n",
       "  <tbody>\n",
       "    <tr>\n",
       "      <th>0</th>\n",
       "      <td>&lt;勞務類&gt;8676技術檢定與分析服務</td>\n",
       "      <td>決標公告</td>\n",
       "      <td>320000</td>\n",
       "      <td>3.13.50</td>\n",
       "      <td>210000</td>\n",
       "      <td>MEA0550007</td>\n",
       "      <td>2016-04-26</td>\n",
       "      <td>公開取得報價單或企劃書</td>\n",
       "      <td>台灣中油股份有限公司</td>\n",
       "      <td>非屬愛台十二項計畫</td>\n",
       "      <td>大林廠長途管線與油槽陰極防蝕系統105年第一季季檢測工作</td>\n",
       "      <td>2016-05-04</td>\n",
       "      <td>2016-04-26</td>\n",
       "      <td>最低標</td>\n",
       "      <td>169258</td>\n",
       "    </tr>\n",
       "    <tr>\n",
       "      <th>1</th>\n",
       "      <td>&lt;勞務類&gt;94污水及垃圾處理、公共衛生及其他環保服務</td>\n",
       "      <td>決標公告</td>\n",
       "      <td>8500000</td>\n",
       "      <td>3.76.49.3.5</td>\n",
       "      <td>8350000</td>\n",
       "      <td>105-013</td>\n",
       "      <td>2016-03-17</td>\n",
       "      <td>限制性招標(經公開評選或公開徵求)</td>\n",
       "      <td>雲林縣環境保護局</td>\n",
       "      <td>非屬愛台十二項計畫</td>\n",
       "      <td>105年度柴油車排煙檢測及油品抽測計畫</td>\n",
       "      <td>2016-05-04</td>\n",
       "      <td>2016-04-26</td>\n",
       "      <td>準用最有利標</td>\n",
       "      <td>8350000</td>\n",
       "    </tr>\n",
       "    <tr>\n",
       "      <th>2</th>\n",
       "      <td>&lt;勞務類&gt;94污水及垃圾處理、公共衛生及其他環保服務</td>\n",
       "      <td>決標公告</td>\n",
       "      <td>9000000</td>\n",
       "      <td>3.76.49.3.5</td>\n",
       "      <td>8800000</td>\n",
       "      <td>105-028</td>\n",
       "      <td>2016-04-08</td>\n",
       "      <td>限制性招標(經公開評選或公開徵求)</td>\n",
       "      <td>雲林縣環境保護局</td>\n",
       "      <td>非屬愛台十二項計畫</td>\n",
       "      <td>105年度移動性污染源管制計畫</td>\n",
       "      <td>2016-05-04</td>\n",
       "      <td>2016-04-26</td>\n",
       "      <td>準用最有利標</td>\n",
       "      <td>8800000</td>\n",
       "    </tr>\n",
       "    <tr>\n",
       "      <th>3</th>\n",
       "      <td>&lt;勞務類&gt;641旅館及其他住宿服務</td>\n",
       "      <td>定期彙送</td>\n",
       "      <td>256500</td>\n",
       "      <td>3.9.20</td>\n",
       "      <td>256500</td>\n",
       "      <td>1050305</td>\n",
       "      <td>2016-04-26</td>\n",
       "      <td>限制性招標(未經公開評選或公開徵求)</td>\n",
       "      <td>國立臺灣大學</td>\n",
       "      <td>非屬愛台十二項計畫</td>\n",
       "      <td>Flatconnections,Higgsbundles國際會議住宿案</td>\n",
       "      <td>2016-05-04</td>\n",
       "      <td>2016-04-26</td>\n",
       "      <td>最低標</td>\n",
       "      <td>256500</td>\n",
       "    </tr>\n",
       "    <tr>\n",
       "      <th>4</th>\n",
       "      <td>&lt;勞務類&gt;8672工程服務</td>\n",
       "      <td>決標公告</td>\n",
       "      <td>19800000</td>\n",
       "      <td>3.80.11</td>\n",
       "      <td>17000000</td>\n",
       "      <td>1050317-2</td>\n",
       "      <td>2016-04-20</td>\n",
       "      <td>限制性招標(經公開評選或公開徵求)</td>\n",
       "      <td>DepartmentofPublicWorks,Taoyuan</td>\n",
       "      <td>非屬愛台十二項計畫</td>\n",
       "      <td>Designandsupervisionoflandscapingandinfrastruc...</td>\n",
       "      <td>2016-05-04</td>\n",
       "      <td>2016-04-22</td>\n",
       "      <td>準用最有利標</td>\n",
       "      <td>17000000</td>\n",
       "    </tr>\n",
       "  </tbody>\n",
       "</table>\n",
       "</div>"
      ],
      "text/plain": [
       "          attr_of_procurement attr_of_tender_awarding  budget_value  \\\n",
       "0          <勞務類>8676技術檢定與分析服務                    決標公告        320000   \n",
       "1  <勞務類>94污水及垃圾處理、公共衛生及其他環保服務                    決標公告       8500000   \n",
       "2  <勞務類>94污水及垃圾處理、公共衛生及其他環保服務                    決標公告       9000000   \n",
       "3           <勞務類>641旅館及其他住宿服務                    定期彙送        256500   \n",
       "4               <勞務類>8672工程服務                    決標公告      19800000   \n",
       "\n",
       "   entity_code  floor_price_value  job_number opening_date  \\\n",
       "0      3.13.50             210000  MEA0550007   2016-04-26   \n",
       "1  3.76.49.3.5            8350000     105-013   2016-03-17   \n",
       "2  3.76.49.3.5            8800000     105-028   2016-04-08   \n",
       "3       3.9.20             256500     1050305   2016-04-26   \n",
       "4      3.80.11           17000000   1050317-2   2016-04-20   \n",
       "\n",
       "     procurement_type                 procuring_entity project_type  \\\n",
       "0         公開取得報價單或企劃書                       台灣中油股份有限公司    非屬愛台十二項計畫   \n",
       "1   限制性招標(經公開評選或公開徵求)                         雲林縣環境保護局    非屬愛台十二項計畫   \n",
       "2   限制性招標(經公開評選或公開徵求)                         雲林縣環境保護局    非屬愛台十二項計畫   \n",
       "3  限制性招標(未經公開評選或公開徵求)                           國立臺灣大學    非屬愛台十二項計畫   \n",
       "4   限制性招標(經公開評選或公開徵求)  DepartmentofPublicWorks,Taoyuan    非屬愛台十二項計畫   \n",
       "\n",
       "                              subject_of_procurement  \\\n",
       "0                       大林廠長途管線與油槽陰極防蝕系統105年第一季季檢測工作   \n",
       "1                                105年度柴油車排煙檢測及油品抽測計畫   \n",
       "2                                    105年度移動性污染源管制計畫   \n",
       "3                Flatconnections,Higgsbundles國際會議住宿案   \n",
       "4  Designandsupervisionoflandscapingandinfrastruc...   \n",
       "\n",
       "  tender_awarding_announce_date tender_awarding_date tender_awarding_type  \\\n",
       "0                    2016-05-04           2016-04-26                  最低標   \n",
       "1                    2016-05-04           2016-04-26               準用最有利標   \n",
       "2                    2016-05-04           2016-04-26               準用最有利標   \n",
       "3                    2016-05-04           2016-04-26                  最低標   \n",
       "4                    2016-05-04           2016-04-22               準用最有利標   \n",
       "\n",
       "   total_tender_awarding_value  \n",
       "0                       169258  \n",
       "1                      8350000  \n",
       "2                      8800000  \n",
       "3                       256500  \n",
       "4                     17000000  "
      ]
     },
     "execution_count": 137,
     "metadata": {},
     "output_type": "execute_result"
    }
   ],
   "source": [
    "#print dicall\n",
    "import pandas as pd\n",
    "df = pd.DataFrame(dicall)\n",
    "df.head()"
   ]
  },
  {
   "cell_type": "code",
   "execution_count": 141,
   "metadata": {
    "collapsed": false
   },
   "outputs": [],
   "source": [
    "import sqlite3 as lite\n",
    "con = lite.connect('test.sqlite')\n",
    "#?df.to_sql\n",
    "df.to_sql('Tender_awards2', con = con, if_exists=\"replace\")\n",
    "con.close()"
   ]
  },
  {
   "cell_type": "code",
   "execution_count": 150,
   "metadata": {
    "collapsed": false
   },
   "outputs": [],
   "source": [
    "import sqlite3 as lite\n",
    "import pandas as pd\n",
    "con = lite.connect('test.sqlite')\n",
    "#?pd.read_sql_query\n",
    "df = pd.read_sql_query(con=con, sql = 'select * from Tender_awards2;')\n",
    "#df"
   ]
  },
  {
   "cell_type": "code",
   "execution_count": 149,
   "metadata": {
    "collapsed": false
   },
   "outputs": [
    {
     "data": {
      "text/html": [
       "<div>\n",
       "<table border=\"1\" class=\"dataframe\">\n",
       "  <thead>\n",
       "    <tr style=\"text-align: right;\">\n",
       "      <th></th>\n",
       "      <th>index</th>\n",
       "      <th>attr_of_procurement</th>\n",
       "      <th>attr_of_tender_awarding</th>\n",
       "      <th>budget_value</th>\n",
       "      <th>entity_code</th>\n",
       "      <th>floor_price_value</th>\n",
       "      <th>job_number</th>\n",
       "      <th>opening_date</th>\n",
       "      <th>procurement_type</th>\n",
       "      <th>procuring_entity</th>\n",
       "      <th>project_type</th>\n",
       "      <th>subject_of_procurement</th>\n",
       "      <th>tender_awarding_announce_date</th>\n",
       "      <th>tender_awarding_date</th>\n",
       "      <th>tender_awarding_type</th>\n",
       "      <th>total_tender_awarding_value</th>\n",
       "    </tr>\n",
       "  </thead>\n",
       "  <tbody>\n",
       "    <tr>\n",
       "      <th>0</th>\n",
       "      <td>0</td>\n",
       "      <td>&lt;勞務類&gt;8676技術檢定與分析服務</td>\n",
       "      <td>決標公告</td>\n",
       "      <td>320000</td>\n",
       "      <td>3.13.50</td>\n",
       "      <td>210000</td>\n",
       "      <td>MEA0550007</td>\n",
       "      <td>2016-04-26 00:00:00</td>\n",
       "      <td>公開取得報價單或企劃書</td>\n",
       "      <td>台灣中油股份有限公司</td>\n",
       "      <td>非屬愛台十二項計畫</td>\n",
       "      <td>大林廠長途管線與油槽陰極防蝕系統105年第一季季檢測工作</td>\n",
       "      <td>2016-05-04 00:00:00</td>\n",
       "      <td>2016-04-26 00:00:00</td>\n",
       "      <td>最低標</td>\n",
       "      <td>169258</td>\n",
       "    </tr>\n",
       "    <tr>\n",
       "      <th>1</th>\n",
       "      <td>1</td>\n",
       "      <td>&lt;勞務類&gt;94污水及垃圾處理、公共衛生及其他環保服務</td>\n",
       "      <td>決標公告</td>\n",
       "      <td>8500000</td>\n",
       "      <td>3.76.49.3.5</td>\n",
       "      <td>8350000</td>\n",
       "      <td>105-013</td>\n",
       "      <td>2016-03-17 00:00:00</td>\n",
       "      <td>限制性招標(經公開評選或公開徵求)</td>\n",
       "      <td>雲林縣環境保護局</td>\n",
       "      <td>非屬愛台十二項計畫</td>\n",
       "      <td>105年度柴油車排煙檢測及油品抽測計畫</td>\n",
       "      <td>2016-05-04 00:00:00</td>\n",
       "      <td>2016-04-26 00:00:00</td>\n",
       "      <td>準用最有利標</td>\n",
       "      <td>8350000</td>\n",
       "    </tr>\n",
       "    <tr>\n",
       "      <th>2</th>\n",
       "      <td>2</td>\n",
       "      <td>&lt;勞務類&gt;94污水及垃圾處理、公共衛生及其他環保服務</td>\n",
       "      <td>決標公告</td>\n",
       "      <td>9000000</td>\n",
       "      <td>3.76.49.3.5</td>\n",
       "      <td>8800000</td>\n",
       "      <td>105-028</td>\n",
       "      <td>2016-04-08 00:00:00</td>\n",
       "      <td>限制性招標(經公開評選或公開徵求)</td>\n",
       "      <td>雲林縣環境保護局</td>\n",
       "      <td>非屬愛台十二項計畫</td>\n",
       "      <td>105年度移動性污染源管制計畫</td>\n",
       "      <td>2016-05-04 00:00:00</td>\n",
       "      <td>2016-04-26 00:00:00</td>\n",
       "      <td>準用最有利標</td>\n",
       "      <td>8800000</td>\n",
       "    </tr>\n",
       "    <tr>\n",
       "      <th>3</th>\n",
       "      <td>3</td>\n",
       "      <td>&lt;勞務類&gt;641旅館及其他住宿服務</td>\n",
       "      <td>定期彙送</td>\n",
       "      <td>256500</td>\n",
       "      <td>3.9.20</td>\n",
       "      <td>256500</td>\n",
       "      <td>1050305</td>\n",
       "      <td>2016-04-26 00:00:00</td>\n",
       "      <td>限制性招標(未經公開評選或公開徵求)</td>\n",
       "      <td>國立臺灣大學</td>\n",
       "      <td>非屬愛台十二項計畫</td>\n",
       "      <td>Flatconnections,Higgsbundles國際會議住宿案</td>\n",
       "      <td>2016-05-04 00:00:00</td>\n",
       "      <td>2016-04-26 00:00:00</td>\n",
       "      <td>最低標</td>\n",
       "      <td>256500</td>\n",
       "    </tr>\n",
       "    <tr>\n",
       "      <th>4</th>\n",
       "      <td>4</td>\n",
       "      <td>&lt;勞務類&gt;8672工程服務</td>\n",
       "      <td>決標公告</td>\n",
       "      <td>19800000</td>\n",
       "      <td>3.80.11</td>\n",
       "      <td>17000000</td>\n",
       "      <td>1050317-2</td>\n",
       "      <td>2016-04-20 00:00:00</td>\n",
       "      <td>限制性招標(經公開評選或公開徵求)</td>\n",
       "      <td>DepartmentofPublicWorks,Taoyuan</td>\n",
       "      <td>非屬愛台十二項計畫</td>\n",
       "      <td>Designandsupervisionoflandscapingandinfrastruc...</td>\n",
       "      <td>2016-05-04 00:00:00</td>\n",
       "      <td>2016-04-22 00:00:00</td>\n",
       "      <td>準用最有利標</td>\n",
       "      <td>17000000</td>\n",
       "    </tr>\n",
       "  </tbody>\n",
       "</table>\n",
       "</div>"
      ],
      "text/plain": [
       "   index         attr_of_procurement attr_of_tender_awarding  budget_value  \\\n",
       "0      0          <勞務類>8676技術檢定與分析服務                    決標公告        320000   \n",
       "1      1  <勞務類>94污水及垃圾處理、公共衛生及其他環保服務                    決標公告       8500000   \n",
       "2      2  <勞務類>94污水及垃圾處理、公共衛生及其他環保服務                    決標公告       9000000   \n",
       "3      3           <勞務類>641旅館及其他住宿服務                    定期彙送        256500   \n",
       "4      4               <勞務類>8672工程服務                    決標公告      19800000   \n",
       "\n",
       "   entity_code  floor_price_value  job_number         opening_date  \\\n",
       "0      3.13.50             210000  MEA0550007  2016-04-26 00:00:00   \n",
       "1  3.76.49.3.5            8350000     105-013  2016-03-17 00:00:00   \n",
       "2  3.76.49.3.5            8800000     105-028  2016-04-08 00:00:00   \n",
       "3       3.9.20             256500     1050305  2016-04-26 00:00:00   \n",
       "4      3.80.11           17000000   1050317-2  2016-04-20 00:00:00   \n",
       "\n",
       "     procurement_type                 procuring_entity project_type  \\\n",
       "0         公開取得報價單或企劃書                       台灣中油股份有限公司    非屬愛台十二項計畫   \n",
       "1   限制性招標(經公開評選或公開徵求)                         雲林縣環境保護局    非屬愛台十二項計畫   \n",
       "2   限制性招標(經公開評選或公開徵求)                         雲林縣環境保護局    非屬愛台十二項計畫   \n",
       "3  限制性招標(未經公開評選或公開徵求)                           國立臺灣大學    非屬愛台十二項計畫   \n",
       "4   限制性招標(經公開評選或公開徵求)  DepartmentofPublicWorks,Taoyuan    非屬愛台十二項計畫   \n",
       "\n",
       "                              subject_of_procurement  \\\n",
       "0                       大林廠長途管線與油槽陰極防蝕系統105年第一季季檢測工作   \n",
       "1                                105年度柴油車排煙檢測及油品抽測計畫   \n",
       "2                                    105年度移動性污染源管制計畫   \n",
       "3                Flatconnections,Higgsbundles國際會議住宿案   \n",
       "4  Designandsupervisionoflandscapingandinfrastruc...   \n",
       "\n",
       "  tender_awarding_announce_date tender_awarding_date tender_awarding_type  \\\n",
       "0           2016-05-04 00:00:00  2016-04-26 00:00:00                  最低標   \n",
       "1           2016-05-04 00:00:00  2016-04-26 00:00:00               準用最有利標   \n",
       "2           2016-05-04 00:00:00  2016-04-26 00:00:00               準用最有利標   \n",
       "3           2016-05-04 00:00:00  2016-04-26 00:00:00                  最低標   \n",
       "4           2016-05-04 00:00:00  2016-04-22 00:00:00               準用最有利標   \n",
       "\n",
       "   total_tender_awarding_value  \n",
       "0                       169258  \n",
       "1                      8350000  \n",
       "2                      8800000  \n",
       "3                       256500  \n",
       "4                     17000000  "
      ]
     },
     "execution_count": 149,
     "metadata": {},
     "output_type": "execute_result"
    }
   ],
   "source": [
    "df.head()"
   ]
  },
  {
   "cell_type": "code",
   "execution_count": 151,
   "metadata": {
    "collapsed": false,
    "scrolled": true
   },
   "outputs": [
    {
     "data": {
      "text/html": [
       "<div>\n",
       "<table border=\"1\" class=\"dataframe\">\n",
       "  <thead>\n",
       "    <tr style=\"text-align: right;\">\n",
       "      <th></th>\n",
       "      <th>index</th>\n",
       "      <th>budget_value</th>\n",
       "      <th>floor_price_value</th>\n",
       "      <th>total_tender_awarding_value</th>\n",
       "    </tr>\n",
       "  </thead>\n",
       "  <tbody>\n",
       "    <tr>\n",
       "      <th>count</th>\n",
       "      <td>98.000000</td>\n",
       "      <td>9.600000e+01</td>\n",
       "      <td>86.000000</td>\n",
       "      <td>9.600000e+01</td>\n",
       "    </tr>\n",
       "    <tr>\n",
       "      <th>mean</th>\n",
       "      <td>48.500000</td>\n",
       "      <td>3.738790e+06</td>\n",
       "      <td>2032510.825581</td>\n",
       "      <td>3.342080e+06</td>\n",
       "    </tr>\n",
       "    <tr>\n",
       "      <th>std</th>\n",
       "      <td>28.434134</td>\n",
       "      <td>1.292477e+07</td>\n",
       "      <td>3317876.527600</td>\n",
       "      <td>1.271417e+07</td>\n",
       "    </tr>\n",
       "    <tr>\n",
       "      <th>min</th>\n",
       "      <td>0.000000</td>\n",
       "      <td>1.050000e+05</td>\n",
       "      <td>23300.000000</td>\n",
       "      <td>2.330000e+04</td>\n",
       "    </tr>\n",
       "    <tr>\n",
       "      <th>25%</th>\n",
       "      <td>24.250000</td>\n",
       "      <td>3.000000e+05</td>\n",
       "      <td>296700.000000</td>\n",
       "      <td>2.872500e+05</td>\n",
       "    </tr>\n",
       "    <tr>\n",
       "      <th>50%</th>\n",
       "      <td>48.500000</td>\n",
       "      <td>6.920850e+05</td>\n",
       "      <td>639810.000000</td>\n",
       "      <td>6.398100e+05</td>\n",
       "    </tr>\n",
       "    <tr>\n",
       "      <th>75%</th>\n",
       "      <td>72.750000</td>\n",
       "      <td>1.827500e+06</td>\n",
       "      <td>1576500.000000</td>\n",
       "      <td>1.687500e+06</td>\n",
       "    </tr>\n",
       "    <tr>\n",
       "      <th>max</th>\n",
       "      <td>97.000000</td>\n",
       "      <td>1.215723e+08</td>\n",
       "      <td>17000000.000000</td>\n",
       "      <td>1.215723e+08</td>\n",
       "    </tr>\n",
       "  </tbody>\n",
       "</table>\n",
       "</div>"
      ],
      "text/plain": [
       "           index  budget_value  floor_price_value  total_tender_awarding_value\n",
       "count  98.000000  9.600000e+01          86.000000                 9.600000e+01\n",
       "mean   48.500000  3.738790e+06     2032510.825581                 3.342080e+06\n",
       "std    28.434134  1.292477e+07     3317876.527600                 1.271417e+07\n",
       "min     0.000000  1.050000e+05       23300.000000                 2.330000e+04\n",
       "25%    24.250000  3.000000e+05      296700.000000                 2.872500e+05\n",
       "50%    48.500000  6.920850e+05      639810.000000                 6.398100e+05\n",
       "75%    72.750000  1.827500e+06     1576500.000000                 1.687500e+06\n",
       "max    97.000000  1.215723e+08    17000000.000000                 1.215723e+08"
      ]
     },
     "execution_count": 151,
     "metadata": {},
     "output_type": "execute_result"
    }
   ],
   "source": [
    "df.describe()"
   ]
  },
  {
   "cell_type": "markdown",
   "metadata": {},
   "source": [
    "## 抓取1111\n",
    "- http://www.1111.com.tw/job-bank/job-index.asp?ss=s&ks=%E5%A4%A7%E6%95%B8%E6%93%9A&tt=1,2,4,16&si=1&ps=40&trans=1\n",
    "\n",
    "\n",
    "- 大數據項目經理 印度商塔塔顧問服務有限公司台灣分公司(Tata Consultancy Services Limited) 5/12 台北市中山區"
   ]
  },
  {
   "cell_type": "code",
   "execution_count": 169,
   "metadata": {
    "collapsed": false
   },
   "outputs": [
    {
     "name": "stdout",
     "output_type": "stream",
     "text": [
      "大數據項目經理 印度商塔塔顧問服務有限公司台灣分公司(Tata Consultancy Services Limited) 5/12 台北市中山區\n",
      "SAP FICO Specialist 印度商塔塔顧問服務有限公司台灣分公司(Tata Consultancy Services Limited) 5/12 台北市中山區\n",
      "Senior SAP Project Director 印度商塔塔顧問服務有限公司台灣分公司(Tata Consultancy Services Limited) 5/12 台北市中山區\n",
      "Senior SAP MM Specialist 印度商塔塔顧問服務有限公司台灣分公司(Tata Consultancy Services Limited) 5/12 台北市中山區\n",
      "國立臺中教育大學誠徵碩士級專任助理(熟悉SPSS為優先) 國立臺中教育大學-資統所 5/12 台中市西區\n",
      "B-行銷企劃部-大數據分析人員-銀行 永豐金融控股【股】 (永豐銀行/永豐金證券/永豐客服科技/永豐金租賃) 5/11 台北市中山區\n",
      "銷售資料分析專員(門市營建發展部) 台灣屈臣氏個人用品商店【股】(屈臣氏) 5/11 台北市松山區\n",
      "B-行銷企劃部-資料分析應用人員-銀行 永豐金融控股【股】 (永豐銀行/永豐金證券/永豐客服科技/永豐金租賃) 5/11 台北市中山區\n",
      "Big Data System Architect 藍色科技有限公司 5/11 台北市內湖區\n",
      "IT Senior Engineer(Big data)_竹科 聯華電子股份有限公司(聯電) 5/11 新竹市東區\n",
      "System Data Management Engineer_竹科 聯華電子股份有限公司(聯電) 5/11 新竹市東區\n",
      "資訊人員-SAP Basis工程師 宏全國際【股】 (宏全國際) 5/11 台中市西屯區\n",
      "ERP(SAP)工程師(竹科，SD模組) 晶元光電股份有限公司.(晶電) 5/11 新竹市東區\n",
      "資訊部SAP ABAP開發師 華泰大飯店企業股份有限公司 5/11 台北市中山區\n",
      "ERP(SAP)工程師(竹科，FI模組/BPC系統) 晶元光電股份有限公司.(晶電) 5/11 新竹市東區\n",
      "Cloud Engineer – Big Data(大數據工程師) 台灣亞馬遜網路服務有限公司(Amazon Web Sever Taiwan Limited) 5/10 台北市信義區\n",
      "大數據開發工程師 北祥股份有限公司 5/10 台北市內湖區\n",
      "數據師、大數據分析師 鼎漢國際工程顧問股份有限公司 5/10 台中市北區\n",
      "資料分析師 凌群電腦股份有限公司 5/10 台北市萬華區\n",
      "資通所_資料分析工程師(T2工作地點：台南) 財團法人工業技術研究院(工研院) 5/10 台南市安南區\n",
      "2016年研發替代役_巨資中心_巨量資料分析工程師 財團法人工業技術研究院(工研院) 5/10 新竹縣竹東鎮\n",
      "EE0219-Data Analyst(Big data) 緯創資通股份有限公司(緯創資通) 5/10 新北市汐止區\n",
      "EE0219-Business Analyst(Big data) 緯創資通股份有限公司(緯創資通) 5/10 新北市汐止區\n",
      "(PCSD)產品研發工程師-Big Data 昕力資訊股份有限公司 5/10 台北市內湖區\n",
      "Data Analyst 美商蘋果亞洲【股】台灣分公司(Apple) 5/10 上海市\n",
      "RRS1024-Data Analysis Engineer 緯創資通股份有限公司(緯創資通) 5/10 新北市汐止區\n",
      "SAP 工程師(桃園) 茂迪股份有限公司 5/10 桃園市觀音區\n",
      "SAP系統分析師 薛長興工業股份有限公司 5/10 宜蘭縣五結鄉\n",
      "SAP ERP工程師(台南) 茂迪股份有限公司 5/10 台南市新市區\n",
      "(LBTW) Data Analytic/Integration Consultancy (Part-Timer) LINE Taiwan_台灣連線有限公司 5/10 台北市內湖區\n",
      "資訊部SAP FI∕CO顧問師 華泰大飯店企業股份有限公司 5/10 台北市中山區\n",
      "E-SAP系統工程師 緯創軟體股份有限公司 5/10 台北市內湖區\n",
      "SS0817-SAP ERP Technical Pre-sales 緯創資通股份有限公司(緯創資通) 5/10 新北市汐止區\n",
      "主辦會計(熟悉SAP跟 COSMOS) 日藥本舖股份有限公司 5/10 台北市松山區\n",
      "RRS1125-Data Analysts for HD CIS Expert(高雄) 緯創資通股份有限公司(緯創資通) 5/10 高雄市鹽埕區\n",
      "全職外場服務人員「Big Pancia 義式餐坊」 Va Bene義大利麵舖(榮惠豪早餐店)(Bigpancia大肚皮、Dancing Pig豬跳舞、Va Bene 義大利麵舖) 5/10 台北市大安區\n",
      "ECCO專櫃門市銷售人員-新竹Big City 香港商毅高皮鞋有限公司台灣分公司(ECCO SHOES HONG KONG LIMITED) 5/10 新竹市東區\n",
      "SAP BASIS系統高級工程師(台南) 茂迪股份有限公司 5/10 台南市新市區\n",
      "RRS1125-Data Analysts巨量數據分析與學習研究員(高雄) 緯創資通股份有限公司(緯創資通) 5/10 高雄市鹽埕區\n",
      "Bigpancia大肚皮義大利餐廳午班,晚班計時服務人員「Big Pancia 義式餐坊」 Va Bene義大利麵舖(榮惠豪早餐店)(Bigpancia大肚皮、Dancing Pig豬跳舞、Va Bene 義大利麵舖) 5/10 台北市大安區\n"
     ]
    }
   ],
   "source": [
    "import requests\n",
    "from bs4 import BeautifulSoup\n",
    "res = requests.get('http://www.1111.com.tw/job-bank/job-index.asp?ss=s&ks=%E5%A4%A7%E6%95%B8%E6%93%9A&tt=1,2,4,16&si=1&ps=40&trans=1')\n",
    "soup = BeautifulSoup(res.text)\n",
    "for job in soup.select('#job_result ul')[1:]:   \n",
    "    print job.select('.showPositionCssA')[0].text, \\\n",
    "          job.select('.showOrganCssA')[0].text, \\\n",
    "          job.select('.showDatechangeCss')[0].text, \\\n",
    "          job.select('.showWorkcityCss')[0].text"
   ]
  },
  {
   "cell_type": "code",
   "execution_count": 170,
   "metadata": {
    "collapsed": true
   },
   "outputs": [],
   "source": [
    "import requests\n",
    "from bs4 import BeautifulSoup\n",
    "res = requests.get('http://www.1111.com.tw/job-bank/job-index.asp?ss=s&ks=%E5%A4%A7%E6%95%B8%E6%93%9A&tt=1,2,4,16&si=1&ps=40&trans=1')\n",
    "soup = BeautifulSoup(res.text)\n",
    "joblist = []\n",
    "for job in soup.select('#job_result ul')[1:]:   \n",
    "    joblist.append({'position':job.select('.showPositionCssA')[0].text, \n",
    "           'organization':job.select('.showOrganCssA')[0].text, \n",
    "           'date':job.select('.showDatechangeCss')[0].text, \n",
    "           'city':job.select('.showWorkcityCss')[0].text})"
   ]
  },
  {
   "cell_type": "code",
   "execution_count": 173,
   "metadata": {
    "collapsed": false
   },
   "outputs": [
    {
     "data": {
      "text/html": [
       "<div>\n",
       "<table border=\"1\" class=\"dataframe\">\n",
       "  <thead>\n",
       "    <tr style=\"text-align: right;\">\n",
       "      <th></th>\n",
       "      <th>city</th>\n",
       "      <th>date</th>\n",
       "      <th>organization</th>\n",
       "      <th>position</th>\n",
       "    </tr>\n",
       "  </thead>\n",
       "  <tbody>\n",
       "    <tr>\n",
       "      <th>0</th>\n",
       "      <td>台北市中山區</td>\n",
       "      <td>5/12</td>\n",
       "      <td>印度商塔塔顧問服務有限公司台灣分公司(Tata Consultancy Services L...</td>\n",
       "      <td>大數據項目經理</td>\n",
       "    </tr>\n",
       "    <tr>\n",
       "      <th>1</th>\n",
       "      <td>台北市中山區</td>\n",
       "      <td>5/12</td>\n",
       "      <td>印度商塔塔顧問服務有限公司台灣分公司(Tata Consultancy Services L...</td>\n",
       "      <td>SAP FICO Specialist</td>\n",
       "    </tr>\n",
       "    <tr>\n",
       "      <th>2</th>\n",
       "      <td>台北市中山區</td>\n",
       "      <td>5/12</td>\n",
       "      <td>印度商塔塔顧問服務有限公司台灣分公司(Tata Consultancy Services L...</td>\n",
       "      <td>Senior SAP Project Director</td>\n",
       "    </tr>\n",
       "    <tr>\n",
       "      <th>3</th>\n",
       "      <td>台北市中山區</td>\n",
       "      <td>5/12</td>\n",
       "      <td>印度商塔塔顧問服務有限公司台灣分公司(Tata Consultancy Services L...</td>\n",
       "      <td>Senior SAP MM Specialist</td>\n",
       "    </tr>\n",
       "    <tr>\n",
       "      <th>4</th>\n",
       "      <td>台中市西區</td>\n",
       "      <td>5/12</td>\n",
       "      <td>國立臺中教育大學-資統所</td>\n",
       "      <td>國立臺中教育大學誠徵碩士級專任助理(熟悉SPSS為優先)</td>\n",
       "    </tr>\n",
       "  </tbody>\n",
       "</table>\n",
       "</div>"
      ],
      "text/plain": [
       "     city  date                                       organization  \\\n",
       "0  台北市中山區  5/12  印度商塔塔顧問服務有限公司台灣分公司(Tata Consultancy Services L...   \n",
       "1  台北市中山區  5/12  印度商塔塔顧問服務有限公司台灣分公司(Tata Consultancy Services L...   \n",
       "2  台北市中山區  5/12  印度商塔塔顧問服務有限公司台灣分公司(Tata Consultancy Services L...   \n",
       "3  台北市中山區  5/12  印度商塔塔顧問服務有限公司台灣分公司(Tata Consultancy Services L...   \n",
       "4   台中市西區  5/12                                       國立臺中教育大學-資統所   \n",
       "\n",
       "                       position  \n",
       "0                       大數據項目經理  \n",
       "1           SAP FICO Specialist  \n",
       "2   Senior SAP Project Director  \n",
       "3      Senior SAP MM Specialist  \n",
       "4  國立臺中教育大學誠徵碩士級專任助理(熟悉SPSS為優先)  "
      ]
     },
     "execution_count": 173,
     "metadata": {},
     "output_type": "execute_result"
    }
   ],
   "source": [
    "import pandas as pd\n",
    "df = pd.DataFrame(joblist)\n",
    "df.head()"
   ]
  },
  {
   "cell_type": "code",
   "execution_count": 175,
   "metadata": {
    "collapsed": false
   },
   "outputs": [],
   "source": [
    "import sqlite3 as lite\n",
    "con = lite.connect('test.sqlite')\n",
    "df.to_sql('goodjob',con = con,  if_exists=\"replace\" )\n",
    "con.close()"
   ]
  },
  {
   "cell_type": "code",
   "execution_count": null,
   "metadata": {
    "collapsed": true
   },
   "outputs": [],
   "source": []
  }
 ],
 "metadata": {
  "kernelspec": {
   "display_name": "Python 2",
   "language": "python",
   "name": "python2"
  },
  "language_info": {
   "codemirror_mode": {
    "name": "ipython",
    "version": 2
   },
   "file_extension": ".py",
   "mimetype": "text/x-python",
   "name": "python",
   "nbconvert_exporter": "python",
   "pygments_lexer": "ipython2",
   "version": "2.7.11"
  }
 },
 "nbformat": 4,
 "nbformat_minor": 0
}
