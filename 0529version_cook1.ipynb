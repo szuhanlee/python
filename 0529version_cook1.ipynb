{
 "cells": [
  {
   "cell_type": "code",
   "execution_count": 33,
   "metadata": {
    "collapsed": false
   },
   "outputs": [
    {
     "name": "stdout",
     "output_type": "stream",
     "text": [
      "https://cook1cook.com/recipe/1995 ,奶油培根意大利粉 ,631 ,意大利粉 ,1/4包 ,培根 ,1片 ,鮮奶油 ,適量 ,大蒜 ,少許 ,橄欖油 ,半茶匙 ,芝士粉 ,適量 ,鹽 ,少量 ,30分鐘內 ,1-2人 ,631 ,1 預先把材料準備好，然後把蒜切成小粒 ,2 把水煮開，放入鹽，這樣意大利粉才會有味道，水開後把意大利粉放入 ,3 在鍋裡倒油放入蒜粒，讓油爆香，放入培根，煎一會，接著倒入鮮奶油 ,4 撈出鍋中的意大利粉，放進一個碗中，倒入一點點橄欖油，攪拌，使每根意大利粉裹有橄欖油 ,5 接著把碗裡的意大利粉倒入有奶油培根的鍋，接著等它收汁，差不多就可以出鍋啦 ,6 味道特別好，還可以加一些芝士粉那就更棒啦。奶油培根意大利面食譜完成 ,https://img.cook1cook.com/upload/cover/1/0/24532139574717710_thumb.jpg\n",
      "https://cook1cook.com/recipe/1996 ,蔥油麵 ,856 ,蔥 ,一大把 ,細麵條 ,適量 ,油 ,一飯碗 ,醬油 ,一飯碗 ,糖 ,3大匙 ,30分鐘內 ,3-4人 ,856 ,1 一開始要準備多些蔥 ,2 麵在超市中隨便買便可了 ,3 醬油一碗（普通釀造醬油），糖3大匙（左下角那個大號量勺），用來炸蔥的油量大約也是醬油碗那麼一碗 ,4 把鍋加熱，倒入些油，開小火，蔥倒進去，耐心炸20分鐘，炸到蔥都乾幹的為止 ,5 炸完之後直接倒入醬油和糖，再煮1分鐘，煮開了，關火 ,6 炸完蔥油後，煮麵，煮麵的時候，舀兩勺蔥油和蔥放入料理盆裡面 ,7 麵煮完撈出放入盆裡面，快速拌勻 ,8 蔥油麵食譜完成 ,https://img.cook1cook.com/upload/cover/1/0/24532139574791210_thumb.jpg\n",
      "https://cook1cook.com/recipe/1997 ,黑椒香蒜意大利麵 ,304 ,意大利麵 ,150克 ,蒜末 ,10幾瓣 ,培根 ,3片切碎 ,黑胡椒碎 ,少許 ,海鹽 ,少許 ,1小時內 ,1-2人 ,304 ,1 鍋內放半鍋水+1小勺鹽煮至水開放入2人份意大利面，煮至面芯還有一點白點盛出瀝乾水份。 ,2 蒜瓣切碎末，培根切碎粒備用 ,3 鍋內放少許橄欖油把培根碎炒出油脂，直至培根碎表面略微變焦，再放入蒜末炒到有蒜香，放入意大利面翻炒，並根據個人口味放少許海鹽、黑胡椒碎就可以出鍋啦！ ,4 黑胡椒香蒜意大利麵食譜完成 ,https://img.cook1cook.com/upload/cover/6/7/24532139574855667_thumb.jpg\n",
      "https://cook1cook.com/recipe/1998 ,火腿煎蛋三文治 ,1109 ,方包 ,3片 ,火腿 ,1塊 ,青瓜 ,1根 ,雞蛋 ,1個 ,芝士片 ,1片 ,沙拉醬 ,適量 ,鹽 ,適量 ,15分鐘內 ,1-2人 ,1109 ,1 青瓜切片，半厘米厚為理想，雞蛋煎好備用 ,2 在盤子裡放一片麵包，將芝士片取出平鋪在麵包上，將火腿片平鋪在芝士片上，在火腿上塗一點沙拉醬（不用多，主要功能是要把麵包和火腿粘合在一起） ,3 放上第二片麵包，塗一點沙拉醬，依次撲上青瓜片和煎蛋（注意煎蛋和青瓜片之間也要塗一點沙拉醬，就是每一層原料之間都要塗一點沙拉醬上去，有芝士片的那層就不用了），煎蛋上面也塗一點沙拉醬，撲上最後一片麵包 ,4 將做好的三層方麵包沿對角線切開成兩個三角形。兩塊三文治中間分開一厘米左右，然後放進微波爐加熱大概45秒到一分鐘的時間（主要是讓芝士片融化，麵包變得軟一點這樣味道香） ,5 出爐完成，火腿煎蛋三文治食譜完成 ,https://img.cook1cook.com/upload/cover/8/1/24532139574994781_thumb.jpg\n",
      "https://cook1cook.com/recipe/1999 ,吐司太陽蛋披薩 ,630 ,吐司 ,2片 ,蕃茄醬 ,2勺 ,蘑菇 ,1個 ,玉米粒 ,半把 ,胡蘿蔔 ,1/3根 ,培根 ,1-2片 ,黑胡椒 ,少許 ,芝士碎 ,少許 ,鹽 ,少許 ,30分鐘內 ,1-2人 ,630 ,1 用一個瓶蓋放在吐司的最中間壓出印 ,2 在吐司表面抹一些蕃茄醬 ,3 蘑菇和培根切成均勻的小薄片，胡蘿蔔切小粒 ,4 在抹好蕃茄醬的吐司上面避開步驟1中用瓶蓋壓出的印子的位置，其他地方先舖一層培根，然後撒一層馬蘇里拉芝士碎。接著鋪上口蘑，再撒上胡蘿蔔粒和玉米粒，最後再蓋一點芝士。 ,5 表面撒一些黑胡椒和少許鹽(鹽不要放多，因為蕃茄醬等的調料裡都有鹽味，根據口味和實際放的 食材 的情況決定放多少鹽) ,6 在最中間的塌陷位置，打入一個鵪鶉蛋 ,7 放入190度預熱好的烤箱。190度，烤8-12分鐘，看表面微黃即可。 ,8 吐司太陽蛋披薩食譜完成 ,https://img.cook1cook.com/upload/cover/4/2/24532139575056942_thumb.jpg\n"
     ]
    }
   ],
   "source": [
    "import requests\n",
    "import io\n",
    "from bs4 import BeautifulSoup\n",
    "\n",
    "with open('cook1cook05_19.txt','w') as f:\n",
    "    for i in range(1990,2000):\n",
    "        try:\n",
    "            soup=BeautifulSoup(requests.get('https://cook1cook.com/recipe/{}'.format(i)).text)\n",
    "            if len(soup.select('.hidden-phone')) > 0:\n",
    "                print ('https://cook1cook.com/recipe/{}'.format(i)),\n",
    "#                 f.write(('https://cook1cook.com/recipe/{}'.format(i)+',').encode('utf-8'))\n",
    "                print ','+soup.select('#main .hidden-phone')[0].text,\n",
    "#                 f.write((soup.select('#main .hidden-phone')[0].text).encode('utf-8'))\n",
    "#                 print repr(soup.select('.recipe-row')[2].text.strip())\n",
    "                print ',' + soup.select('.recipe-row')[2].text.strip(),\n",
    "#                 f.write(',' + soup.select('.recipe-row')[2].text)\n",
    "                for ele in soup.select('.section-row span'):\n",
    "                    print ','+ele.text.strip(),\n",
    "#                     f.write((','+ele.text.strip()).encode('utf-8'))\n",
    "                for ele in soup.select('.row-value'):\n",
    "                    print ','+ele.text.strip(),\n",
    "#                     f.write((','+ele.text.strip()).encode('utf-8'))\n",
    "                for steps in soup.select('.how-to-lists li'):\n",
    "#                     print repr(steps.text.strip()) #檢查字串內是否有'/n' or '/t'\n",
    "                    print ','+' '.join(steps.text.strip().split()), # 使用spilt()去掉'/n''/t'再用' '.join()連接\n",
    "#                     f.write((','+' '.join(steps.text.strip().split())).encode('utf-8'))\n",
    "                print ','+soup.select('.fancybox img')[0]['src']\n",
    "#                 f.write((','+soup.select('.fancybox img')[0]['src']).encode('utf-8'))\n",
    "#                 f.write('\\n')\n",
    "        except:\n",
    "            print \"----------------------------------------存取錯誤----------------------------------------\""
   ]
  },
  {
   "cell_type": "code",
   "execution_count": null,
   "metadata": {
    "collapsed": true
   },
   "outputs": [],
   "source": []
  }
 ],
 "metadata": {
  "kernelspec": {
   "display_name": "Python 2",
   "language": "python",
   "name": "python2"
  },
  "language_info": {
   "codemirror_mode": {
    "name": "ipython",
    "version": 2
   },
   "file_extension": ".py",
   "mimetype": "text/x-python",
   "name": "python",
   "nbconvert_exporter": "python",
   "pygments_lexer": "ipython2",
   "version": "2.7.11"
  }
 },
 "nbformat": 4,
 "nbformat_minor": 0
}
