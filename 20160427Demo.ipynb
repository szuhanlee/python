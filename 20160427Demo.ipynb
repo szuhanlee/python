{
 "cells": [
  {
   "cell_type": "markdown",
   "metadata": {},
   "source": [
    "## for loo"
   ]
  },
  {
   "cell_type": "code",
   "execution_count": 6,
   "metadata": {
    "collapsed": false
   },
   "outputs": [
    {
     "name": "stdout",
     "output_type": "stream",
     "text": [
      "0\n",
      "1\n",
      "2\n",
      "3\n",
      "4\n",
      "5\n",
      "6\n",
      "7\n",
      "8\n",
      "9\n",
      "10\n"
     ]
    }
   ],
   "source": [
    "for i in xrange(0,11):\n",
    "    print i"
   ]
  },
  {
   "cell_type": "code",
   "execution_count": 11,
   "metadata": {
    "collapsed": false
   },
   "outputs": [
    {
     "data": {
      "text/plain": [
       "['__add__',\n",
       " '__class__',\n",
       " '__contains__',\n",
       " '__delattr__',\n",
       " '__doc__',\n",
       " '__eq__',\n",
       " '__format__',\n",
       " '__ge__',\n",
       " '__getattribute__',\n",
       " '__getitem__',\n",
       " '__getnewargs__',\n",
       " '__getslice__',\n",
       " '__gt__',\n",
       " '__hash__',\n",
       " '__init__',\n",
       " '__le__',\n",
       " '__len__',\n",
       " '__lt__',\n",
       " '__mod__',\n",
       " '__mul__',\n",
       " '__ne__',\n",
       " '__new__',\n",
       " '__reduce__',\n",
       " '__reduce_ex__',\n",
       " '__repr__',\n",
       " '__rmod__',\n",
       " '__rmul__',\n",
       " '__setattr__',\n",
       " '__sizeof__',\n",
       " '__str__',\n",
       " '__subclasshook__',\n",
       " '_formatter_field_name_split',\n",
       " '_formatter_parser',\n",
       " 'capitalize',\n",
       " 'center',\n",
       " 'count',\n",
       " 'decode',\n",
       " 'encode',\n",
       " 'endswith',\n",
       " 'expandtabs',\n",
       " 'find',\n",
       " 'format',\n",
       " 'index',\n",
       " 'isalnum',\n",
       " 'isalpha',\n",
       " 'isdigit',\n",
       " 'islower',\n",
       " 'isspace',\n",
       " 'istitle',\n",
       " 'isupper',\n",
       " 'join',\n",
       " 'ljust',\n",
       " 'lower',\n",
       " 'lstrip',\n",
       " 'partition',\n",
       " 'replace',\n",
       " 'rfind',\n",
       " 'rindex',\n",
       " 'rjust',\n",
       " 'rpartition',\n",
       " 'rsplit',\n",
       " 'rstrip',\n",
       " 'split',\n",
       " 'splitlines',\n",
       " 'startswith',\n",
       " 'strip',\n",
       " 'swapcase',\n",
       " 'title',\n",
       " 'translate',\n",
       " 'upper',\n",
       " 'zfill']"
      ]
     },
     "execution_count": 11,
     "metadata": {},
     "output_type": "execute_result"
    }
   ],
   "source": [
    "import requests\n",
    "dir(requests)"
   ]
  },
  {
   "cell_type": "code",
   "execution_count": 17,
   "metadata": {
    "collapsed": false
   },
   "outputs": [
    {
     "name": "stdout",
     "output_type": "stream",
     "text": [
      "what's your namenate\n",
      "your name again pleaz\n"
     ]
    }
   ],
   "source": [
    "name = raw_input(\"what's your name\")\n",
    "if name == 'David':\n",
    "    print \"nice to meet you\", name\n",
    "else:\n",
    "    print \"your name again pleaz\""
   ]
  },
  {
   "cell_type": "code",
   "execution_count": 89,
   "metadata": {
    "collapsed": false
   },
   "outputs": [
    {
     "name": "stdout",
     "output_type": "stream",
     "text": [
      "nice to meet you Nate\n",
      "nice to meet you Nate\n",
      "nice to meet you Nate\n",
      "nice to meet you : jully, I'm nate nate nate nate\n",
      "nice to meet you : jully, I'm nate nate nate nate\n",
      "The results are 3.14 and 5\n"
     ]
    }
   ],
   "source": [
    "name = \"Nate\"\n",
    "print \"nice to meet you\", name\n",
    "print \"nice to meet you {}\".format(name)\n",
    "print \"nice to meet you %s\"%name\n",
    "print \"nice to meet you : {0}, I'm {1} {1} {1} {1}\".format(\"jully\",\"nate\")\n",
    "print \"nice to meet you : %s, I'm %s %s %s %s\"%(\"jully\", \"nate\",\"nate\",\"nate\",\"nate\")\n",
    "print 'The results are %.02f and %d' % (3.14159, 5)"
   ]
  },
  {
   "cell_type": "code",
   "execution_count": 34,
   "metadata": {
    "collapsed": false
   },
   "outputs": [
    {
     "name": "stdout",
     "output_type": "stream",
     "text": [
      "4\n",
      "3.1\n",
      "2\n",
      "0\n",
      "1\n",
      "2.72727272727\n",
      "1\n",
      "1\n",
      "1.0\n",
      "1.5\n"
     ]
    }
   ],
   "source": [
    "print 1+3\n",
    "print 1.1+2\n",
    "print 3-1\n",
    "print 1/2\n",
    "print 3/2\n",
    "print 3/1.1\n",
    "print 3%2\n",
    "print 1%2 \n",
    "print float(3/2)\n",
    "print 3.0/2"
   ]
  },
  {
   "cell_type": "code",
   "execution_count": 37,
   "metadata": {
    "collapsed": false
   },
   "outputs": [
    {
     "name": "stdout",
     "output_type": "stream",
     "text": [
      "type a number3\n",
      "QOOQOOQOO\n"
     ]
    }
   ],
   "source": [
    "time = input(\"type a number\")\n",
    "print \"QOO\" * time"
   ]
  },
  {
   "cell_type": "code",
   "execution_count": 38,
   "metadata": {
    "collapsed": false
   },
   "outputs": [
    {
     "ename": "ZeroDivisionError",
     "evalue": "integer division or modulo by zero",
     "output_type": "error",
     "traceback": [
      "\u001b[0;31m---------------------------------------------------------------------------\u001b[0m",
      "\u001b[0;31mZeroDivisionError\u001b[0m                         Traceback (most recent call last)",
      "\u001b[0;32m<ipython-input-38-a0641230c7a8>\u001b[0m in \u001b[0;36m<module>\u001b[0;34m()\u001b[0m\n\u001b[0;32m----> 1\u001b[0;31m \u001b[0;36m3\u001b[0m\u001b[0;34m/\u001b[0m\u001b[0;36m0\u001b[0m\u001b[0;34m\u001b[0m\u001b[0m\n\u001b[0m",
      "\u001b[0;31mZeroDivisionError\u001b[0m: integer division or modulo by zero"
     ]
    }
   ],
   "source": [
    "3/0"
   ]
  },
  {
   "cell_type": "code",
   "execution_count": 48,
   "metadata": {
    "collapsed": false
   },
   "outputs": [
    {
     "name": "stdout",
     "output_type": "stream",
     "text": [
      "type a number1\n",
      "type a number0\n",
      "error integer division or modulo by zero\n"
     ]
    }
   ],
   "source": [
    "d1 = input(\"type a number\")\n",
    "d2 = input(\"type a number\")\n",
    "\n",
    "try:\n",
    "    print d1/d2\n",
    "except ZeroDivisionError as detail:\n",
    "    print \"error\", detail"
   ]
  },
  {
   "cell_type": "code",
   "execution_count": 54,
   "metadata": {
    "collapsed": false
   },
   "outputs": [
    {
     "name": "stdout",
     "output_type": "stream",
     "text": [
      "this is a string\n",
      "this is a string\n"
     ]
    }
   ],
   "source": [
    "dir(\"this is a string\")\n",
    "a = \"this is a string\"\n",
    "a.__str__()\n",
    "print a \n",
    "print a.__str__()"
   ]
  },
  {
   "cell_type": "code",
   "execution_count": 56,
   "metadata": {
    "collapsed": false
   },
   "outputs": [
    {
     "name": "stdout",
     "output_type": "stream",
     "text": [
      "this is a \"book\"\n"
     ]
    }
   ],
   "source": [
    "a = 'this is a \"book\"'\n",
    "print a"
   ]
  },
  {
   "cell_type": "code",
   "execution_count": 61,
   "metadata": {
    "collapsed": false
   },
   "outputs": [
    {
     "name": "stdout",
     "output_type": "stream",
     "text": [
      "this is aboooooooooooooooooooooooooooooooooooooooooooooooooooooooooooooooooook\n"
     ]
    }
   ],
   "source": [
    "a = \"this is a\\\n",
    "boooooooooooooooooooooooooooooooooooooooooooooooooooooooooooooooooook\"\n",
    "print a "
   ]
  },
  {
   "cell_type": "code",
   "execution_count": 63,
   "metadata": {
    "collapsed": false
   },
   "outputs": [
    {
     "name": "stdout",
     "output_type": "stream",
     "text": [
      "\n",
      "tiohdoaf \n",
      "adfha;f\n",
      "asd;fhihi;o\n",
      "\n",
      "asfoiheop\n",
      "\n"
     ]
    }
   ],
   "source": [
    "a = '''\n",
    "tiohdoaf \n",
    "adfha;f\n",
    "asd;fhihi;o\n",
    "\n",
    "asfoiheop\n",
    "'''\n",
    "print a"
   ]
  },
  {
   "cell_type": "code",
   "execution_count": 90,
   "metadata": {
    "collapsed": false
   },
   "outputs": [
    {
     "name": "stdout",
     "output_type": "stream",
     "text": [
      "11\n",
      "h\n",
      "d\n",
      "ell\n",
      "hello wo\n",
      "rld\n",
      "hello worldyoyo\n",
      "hello worldyoyo\n",
      "hlowrd\n"
     ]
    }
   ],
   "source": [
    "s = 'hello world'\n",
    "print len(s)\n",
    "print s[0]\n",
    "print s[-1]\n",
    "print s[1:4]\n",
    "print s[:-3]\n",
    "print s[-3:]\n",
    "print s + 'yoyo'\n",
    "print s.__add__('yoyo')\n",
    "print s[::2]"
   ]
  },
  {
   "cell_type": "code",
   "execution_count": 80,
   "metadata": {
    "collapsed": false
   },
   "outputs": [
    {
     "name": "stdout",
     "output_type": "stream",
     "text": [
      "\n",
      "\t this is a \t line with format \t\n",
      "\n",
      "\\n\\t this is a \\t line with format \\t\\n\n",
      "'\\n\\t this is a \\t line with format \\t\\n'\n"
     ]
    }
   ],
   "source": [
    "raw = '\\n\\t this is a \\t line with format \\t\\n'\n",
    "print raw\n",
    "raw2 = r'\\n\\t this is a \\t line with format \\t\\n'\n",
    "print raw2\n",
    "raw3 = repr(raw)\n",
    "print raw3"
   ]
  },
  {
   "cell_type": "code",
   "execution_count": 86,
   "metadata": {
    "collapsed": false
   },
   "outputs": [
    {
     "name": "stdout",
     "output_type": "stream",
     "text": [
      "QOO LOVES OOP\n",
      "Qoo Loves Oop\n",
      "['Qoo', 'loves', 'OOP']\n",
      "Qoo=loves=OOP\n"
     ]
    }
   ],
   "source": [
    "a = 'Qoo loves OOP'\n",
    "print a.upper()\n",
    "print a.title()\n",
    "print a.split()\n",
    "print '='.join(a.split())"
   ]
  },
  {
   "cell_type": "code",
   "execution_count": 93,
   "metadata": {
    "collapsed": false
   },
   "outputs": [
    {
     "name": "stdout",
     "output_type": "stream",
     "text": [
      "['asap', 3]\n",
      "['w', 'o', 'r', 'd'] [['list'], ['of', 'lists']]\n",
      "['a', 1]\n",
      "8\n"
     ]
    }
   ],
   "source": [
    "print ['asap', 3]\n",
    "print list(\"word\"), \n",
    "print [['list'], ['of', 'lists']]\n",
    "print list(('a', 1)) \n",
    "\n",
    "a = ['heterogeneous', 3]\n",
    "print a[1] + 5 "
   ]
  },
  {
   "cell_type": "code",
   "execution_count": 104,
   "metadata": {
    "collapsed": false
   },
   "outputs": [
    {
     "name": "stdout",
     "output_type": "stream",
     "text": [
      "1\n",
      "1\n",
      "[1, 2, 3]\n",
      "[1, 2, 3, 5]\n",
      "[1, 3, 'a']\n",
      "['a', 5, 3, 2, 1]\n",
      "['a', 2]\n",
      "[1, 3]\n",
      "5\n",
      "a 1\n"
     ]
    }
   ],
   "source": [
    "a = [1,2,3,5,'a']\n",
    "print a[0]\n",
    "s =\"1235a\"\n",
    "print s[0]\n",
    "print a[:3]\n",
    "print a[:-1]\n",
    "print a[::2]\n",
    "print a[::-1]\n",
    "print a[::-3]\n",
    "print a[0:4:2]\n",
    "print len(a)\n",
    "print max(a),min(a)"
   ]
  },
  {
   "cell_type": "code",
   "execution_count": 114,
   "metadata": {
    "collapsed": false
   },
   "outputs": [
    {
     "data": {
      "text/plain": [
       "[8, 7, 5, 3, 1]"
      ]
     },
     "execution_count": 114,
     "metadata": {},
     "output_type": "execute_result"
    }
   ],
   "source": [
    "a = [1,7,3,8,5]\n",
    "#a.pop()\n",
    "#a.append(6)\n",
    "#a.sort()\n",
    "#a.reverse()\n",
    "a.sort(reverse=True)\n",
    "a"
   ]
  },
  {
   "cell_type": "code",
   "execution_count": 119,
   "metadata": {
    "collapsed": false
   },
   "outputs": [
    {
     "name": "stdout",
     "output_type": "stream",
     "text": [
      "['h', 'e', 'l', 'l', 'o', ' ', 'w', 'o', 'r', 'l', 'd']\n",
      "hello\n"
     ]
    }
   ],
   "source": [
    "hello =  list('hello world')\n",
    "print hello\n",
    "'h' in hello\n",
    "'u' in hello\n",
    "if 'h' in hello:\n",
    "    print 'hello'"
   ]
  },
  {
   "cell_type": "code",
   "execution_count": 123,
   "metadata": {
    "collapsed": false
   },
   "outputs": [
    {
     "name": "stdout",
     "output_type": "stream",
     "text": [
      "a:  [1, 2, 3, 4, 5]\n",
      "b:  [1, 2, 3, 4, 5]\n",
      "a:  [1, 2, 3, 4, 5, 6]\n",
      "b:  [1, 2, 3, 4, 5, 6]\n"
     ]
    }
   ],
   "source": [
    "a = [1,2,3,4,5]\n",
    "b = a\n",
    "print 'a: ',a\n",
    "print 'b: ',b\n",
    "a.append(6)\n",
    "print 'a: ',a\n",
    "print 'b: ',b"
   ]
  },
  {
   "cell_type": "code",
   "execution_count": 127,
   "metadata": {
    "collapsed": false
   },
   "outputs": [
    {
     "name": "stdout",
     "output_type": "stream",
     "text": [
      "a:  [1, 2, 3, 4, 5, 6, 6, 7, 7]\n",
      "b:  [1, 2, 3, 4, 5, 6, 6, 7]\n"
     ]
    }
   ],
   "source": [
    "import copy\n",
    "b = copy.deepcopy(a)\n",
    "a.append(7)\n",
    "print 'a: ',a\n",
    "print 'b: ',b"
   ]
  },
  {
   "cell_type": "code",
   "execution_count": 134,
   "metadata": {
    "collapsed": false
   },
   "outputs": [
    {
     "name": "stdout",
     "output_type": "stream",
     "text": [
      "[1, 4, 9, 16]\n",
      "[8, 17, 32, 53]\n"
     ]
    }
   ],
   "source": [
    "nums = [1,2,3,4]\n",
    "squares = []\n",
    "for n in nums:\n",
    "    square = n*n\n",
    "    squares.append(square)\n",
    "print squares\n",
    "\n",
    "squares = [n*3*n+5 for n in nums]\n",
    "print squares"
   ]
  },
  {
   "cell_type": "code",
   "execution_count": 138,
   "metadata": {
    "collapsed": false
   },
   "outputs": [
    {
     "name": "stdout",
     "output_type": "stream",
     "text": [
      "[2, 1]\n",
      "[2, 1]\n"
     ]
    }
   ],
   "source": [
    "nums = [2, 8, 1, 6]\n",
    "small = [ n for n in nums if n <= 2 ]  ## [2, 1]\n",
    "print small\n",
    "\n",
    "small = []\n",
    "for n in nums:\n",
    "    if n <=2:\n",
    "        small.append(n)\n",
    "print small"
   ]
  },
  {
   "cell_type": "code",
   "execution_count": 142,
   "metadata": {
    "collapsed": false
   },
   "outputs": [
    {
     "name": "stdout",
     "output_type": "stream",
     "text": [
      "['APPLE', 'BANNANA']\n",
      "['APPLE', 'BANNANA']\n"
     ]
    }
   ],
   "source": [
    "fruits = ['apple', 'cherry', 'bannana', 'lemon']\n",
    "afruits = [ s.upper() for s in fruits if 'a' in s ]\n",
    "print afruits\n",
    "\n",
    "afruits = []\n",
    "for s in fruits:\n",
    "    if 'a' in s:\n",
    "        afruits.append(s.upper())\n",
    "print afruits"
   ]
  },
  {
   "cell_type": "code",
   "execution_count": 145,
   "metadata": {
    "collapsed": false
   },
   "outputs": [
    {
     "name": "stdout",
     "output_type": "stream",
     "text": [
      "apple\n",
      "cherry\n",
      "bannana\n",
      "lemon\n"
     ]
    }
   ],
   "source": [
    "fruits = ['apple', 'cherry', 'bannana', 'lemon']\n",
    "for s in fruits:\n",
    "    print s"
   ]
  },
  {
   "cell_type": "code",
   "execution_count": 149,
   "metadata": {
    "collapsed": false
   },
   "outputs": [
    {
     "name": "stdout",
     "output_type": "stream",
     "text": [
      "1\n",
      "9 was not in the list\n",
      "2\n",
      "9 was not in the list\n",
      "3\n",
      "9 was not in the list\n",
      "4\n",
      "9 was not in the list\n",
      "5\n",
      "9 was not in the list\n",
      "6\n",
      "9 was not in the list\n",
      "7\n",
      "9 was not in the list\n",
      "8\n",
      "8 found\n",
      "9\n",
      "9 found!\n"
     ]
    }
   ],
   "source": [
    "a = 9\n",
    "b = 8\n",
    "for i in xrange(1,10):\n",
    "    print i\n",
    "    if i == a:\n",
    "        print(str(a) + ' found!')\n",
    "        break\n",
    "    elif i == b:\n",
    "        print str(b) + ' found'\n",
    "    else:\n",
    "        print(str(a) + ' was not in the list')\n"
   ]
  },
  {
   "cell_type": "code",
   "execution_count": 153,
   "metadata": {
    "collapsed": false
   },
   "outputs": [
    {
     "name": "stdout",
     "output_type": "stream",
     "text": [
      "1\n",
      "2\n",
      "3\n",
      "4\n",
      "5\n",
      "6\n",
      "7\n",
      "8\n",
      "8 found\n"
     ]
    }
   ],
   "source": [
    "a = 9\n",
    "b = 8\n",
    "for i in xrange(1,10):\n",
    "    print i\n",
    "    if i == a:\n",
    "        print(str(a) + ' found!')\n",
    "    elif i == b:\n",
    "        print str(b) + ' found'\n",
    "        break\n",
    "    else:\n",
    "        continue\n"
   ]
  },
  {
   "cell_type": "code",
   "execution_count": 155,
   "metadata": {
    "collapsed": false
   },
   "outputs": [
    {
     "name": "stdout",
     "output_type": "stream",
     "text": [
      "1\n",
      "2\n",
      "3\n",
      "4\n",
      "5\n",
      "6\n",
      "7\n",
      "8\n",
      "8 found\n"
     ]
    }
   ],
   "source": [
    "a = 9\n",
    "b = 8\n",
    "for i in xrange(1,10):\n",
    "    print i\n",
    "    if i == a:\n",
    "        print(str(a) + ' found!')\n",
    "    elif i == b:\n",
    "        print str(b) + ' found'\n",
    "        break\n",
    "    else:\n",
    "        pass\n"
   ]
  },
  {
   "cell_type": "code",
   "execution_count": 156,
   "metadata": {
    "collapsed": false
   },
   "outputs": [
    {
     "name": "stdout",
     "output_type": "stream",
     "text": [
      "1\n",
      "9 was not in the list\n",
      "2\n",
      "9 was not in the list\n",
      "3\n",
      "9 was not in the list\n",
      "4\n",
      "9 was not in the list\n",
      "5\n",
      "9 was not in the list\n",
      "6\n",
      "9 was not in the list\n",
      "7\n",
      "9 was not in the list\n",
      "8\n",
      "8 found\n"
     ]
    }
   ],
   "source": [
    "for i in xrange(1,10):\n",
    "    print i\n",
    "    if i == a:\n",
    "        print(str(a) + ' found!')\n",
    "    elif i == b:\n",
    "        print str(b) + ' found'\n",
    "        break\n",
    "    else:\n",
    "        pass\n",
    "        print(str(a) + ' was not in the list')"
   ]
  },
  {
   "cell_type": "code",
   "execution_count": 158,
   "metadata": {
    "collapsed": false
   },
   "outputs": [
    {
     "name": "stdout",
     "output_type": "stream",
     "text": [
      "1\n",
      "2\n",
      "3\n",
      "4\n",
      "5\n",
      "6\n",
      "7\n",
      "8\n",
      "8 found\n"
     ]
    }
   ],
   "source": [
    "for i in xrange(1,10):\n",
    "    print i\n",
    "    if i == a:\n",
    "        print(str(a) + ' found!')\n",
    "    elif i == b:\n",
    "        print str(b) + ' found'\n",
    "        break\n",
    "    else:\n",
    "        continue\n",
    "        print(str(a) + ' was not in the list')"
   ]
  },
  {
   "cell_type": "code",
   "execution_count": 162,
   "metadata": {
    "collapsed": false
   },
   "outputs": [
    {
     "name": "stdout",
     "output_type": "stream",
     "text": [
      "0\n",
      "2\n",
      "4\n",
      "6\n",
      "8\n"
     ]
    }
   ],
   "source": [
    "for i in xrange(0,10,2):\n",
    "    print i"
   ]
  },
  {
   "cell_type": "code",
   "execution_count": 165,
   "metadata": {
    "collapsed": false
   },
   "outputs": [
    {
     "name": "stdout",
     "output_type": "stream",
     "text": [
      "1\n",
      "2\n",
      "3\n",
      "4\n",
      "5\n",
      "1\n",
      "2\n",
      "3\n",
      "4\n",
      "5\n"
     ]
    }
   ],
   "source": [
    "a = [1,2,3,4,5]\n",
    "for i in a:\n",
    "    print i\n",
    "a = \"12345\"\n",
    "for i in a:\n",
    "    print i"
   ]
  },
  {
   "cell_type": "code",
   "execution_count": 167,
   "metadata": {
    "collapsed": false
   },
   "outputs": [
    {
     "name": "stdout",
     "output_type": "stream",
     "text": [
      "5050\n"
     ]
    }
   ],
   "source": [
    "i =0\n",
    "sum = 0 \n",
    "while(i < 101):\n",
    "    sum += i\n",
    "    i +=1\n",
    "print sum"
   ]
  },
  {
   "cell_type": "code",
   "execution_count": 171,
   "metadata": {
    "collapsed": false
   },
   "outputs": [
    {
     "name": "stdout",
     "output_type": "stream",
     "text": [
      "0\n",
      "1\n",
      "2\n",
      "3\n",
      "4\n",
      "5\n",
      "6\n",
      "7\n",
      "8\n",
      "9\n",
      "10\n"
     ]
    }
   ],
   "source": [
    "i=0\n",
    "while True:\n",
    "    print i\n",
    "    i+=1\n",
    "    if i>10:\n",
    "        break"
   ]
  },
  {
   "cell_type": "code",
   "execution_count": 174,
   "metadata": {
    "collapsed": false
   },
   "outputs": [
    {
     "name": "stdout",
     "output_type": "stream",
     "text": [
      "('alice', 1)\n",
      "('Ben', 2)\n",
      "('Peter', 3)\n",
      "('Rob', 4)\n",
      "alice 1\n",
      "Ben 2\n",
      "Peter 3\n",
      "Rob 4\n"
     ]
    }
   ],
   "source": [
    "name = ['alice','Ben','Peter','Rob']\n",
    "number = [1,2,3,4]\n",
    "nn = []\n",
    "for i in zip(name,number):\n",
    "    print i\n",
    "    nn.append(i)\n",
    "for name, number in nn:\n",
    "    print name, number"
   ]
  },
  {
   "cell_type": "code",
   "execution_count": 181,
   "metadata": {
    "collapsed": false
   },
   "outputs": [
    {
     "name": "stdout",
     "output_type": "stream",
     "text": [
      "[('alice', 1), ('Ben', 2), ('Peter', 3), ('Rob', 4)]\n",
      "alice 1\n",
      "Ben 2\n",
      "Peter 3\n",
      "Rob 4\n"
     ]
    }
   ],
   "source": [
    "name = ['alice','Ben','Peter','Rob']\n",
    "number = [1,2,3,4]\n",
    "nn = []\n",
    "for i in zip(name,number):\n",
    "    #print i\n",
    "    nn.append(i)\n",
    "print nn\n",
    "for name, number in nn:\n",
    "    print name, number"
   ]
  },
  {
   "cell_type": "code",
   "execution_count": 192,
   "metadata": {
    "collapsed": false
   },
   "outputs": [
    {
     "name": "stdout",
     "output_type": "stream",
     "text": [
      "5\n",
      "<module 'math' from '/usr/local/Cellar/python/2.7.9/Frameworks/Python.framework/Versions/2.7/lib/python2.7/lib-dynload/math.so'>\n",
      "2.0\n",
      "1.0\n",
      "2.0\n",
      "1.0\n"
     ]
    }
   ],
   "source": [
    "def addNum(a,b):\n",
    "    print a+b\n",
    "addNum(1,4)\n",
    "\n",
    "import math\n",
    "print math \n",
    "print math.ceil(7/6.0)\n",
    "print math.floor(7/6.0)\n",
    "\n",
    "from math import ceil,floor\n",
    "print ceil(7/6.0)\n",
    "print floor(7/6.0)"
   ]
  },
  {
   "cell_type": "code",
   "execution_count": 282,
   "metadata": {
    "collapsed": false
   },
   "outputs": [
    {
     "name": "stdout",
     "output_type": "stream",
     "text": [
      "0.98\n",
      "['a', 'c', 'b']\n",
      "[600, 0.98, 'yes']\n",
      "[('a', 600), ('c', 0.98), ('b', 'yes')]\n",
      "0.98\n",
      "{'a': 600, 'c': 0.98, 'b': 'yes'}\n"
     ]
    }
   ],
   "source": [
    "dic = {'a':100, 'b':\"yes\", 'c':0.98, 'a':600} \n",
    "print dic['c']\n",
    "print dic.keys()\n",
    "print dic.values()\n",
    "print dic.items()\n",
    "print dic.get('c')\n",
    "dic2 = dic\n",
    "print dic2"
   ]
  },
  {
   "cell_type": "code",
   "execution_count": 211,
   "metadata": {
    "collapsed": false
   },
   "outputs": [
    {
     "name": "stdout",
     "output_type": "stream",
     "text": [
      "{'a': 600, 'c': 0.98, 'b': 'yes', 'e': 'string', 'd': 811}\n",
      "{'a': 600, 'c': 0.98, 'b': 'yes', 'e': 'string', 'd': 811}\n",
      "a 600\n",
      "c 0.98\n",
      "b yes\n",
      "e string\n",
      "d 811\n",
      "{'a': 600, 'c': 0.98, 'b': 'yes', 'e': 'string', 'd': 811}\n"
     ]
    }
   ],
   "source": [
    "dic['d'] = 811\n",
    "print dic\n",
    "dic.update({'e':'string'})\n",
    "print dic\n",
    "\n",
    "for key in dic:\n",
    "    print key,dic[key]\n",
    "print dic2"
   ]
  },
  {
   "cell_type": "code",
   "execution_count": 214,
   "metadata": {
    "collapsed": false
   },
   "outputs": [
    {
     "data": {
      "text/plain": [
       "2"
      ]
     },
     "execution_count": 214,
     "metadata": {},
     "output_type": "execute_result"
    }
   ],
   "source": [
    "def func(x):\n",
    "    return {'a': 1,'b': 2}.get(x) \n",
    "\n",
    "func('b')"
   ]
  },
  {
   "cell_type": "code",
   "execution_count": 215,
   "metadata": {
    "collapsed": true
   },
   "outputs": [],
   "source": [
    "class Person():\n",
    "    count = 0 # Static/class variable\n",
    "    def __init__(self, name, city):\n",
    "        self.name = name # Variable for the instance\n",
    "        self.city = city # Variable for the instance\n",
    "        Person.count += 1\n",
    "    def number_of_persons(self):\n",
    "        return Person.count"
   ]
  },
  {
   "cell_type": "code",
   "execution_count": 216,
   "metadata": {
    "collapsed": false
   },
   "outputs": [
    {
     "name": "stdout",
     "output_type": "stream",
     "text": [
      "1\n",
      "1\n",
      "Bob\n",
      "New York\n"
     ]
    }
   ],
   "source": [
    "p1 = Person('Bob','New York')\n",
    "print p1.count\n",
    "print p1.number_of_persons()\n",
    "print p1.name\n",
    "print p1.city"
   ]
  },
  {
   "cell_type": "code",
   "execution_count": 217,
   "metadata": {
    "collapsed": false
   },
   "outputs": [
    {
     "name": "stdout",
     "output_type": "stream",
     "text": [
      "2\n",
      "Judy\n",
      "Hong kong\n"
     ]
    }
   ],
   "source": [
    "p2 = Person('Judy', 'Hong kong')\n",
    "print p2.number_of_persons()\n",
    "print p2.name\n",
    "print p2.city"
   ]
  },
  {
   "cell_type": "code",
   "execution_count": 219,
   "metadata": {
    "collapsed": false
   },
   "outputs": [
    {
     "data": {
      "text/plain": [
       "2"
      ]
     },
     "execution_count": 219,
     "metadata": {},
     "output_type": "execute_result"
    }
   ],
   "source": [
    "Person.count"
   ]
  },
  {
   "cell_type": "code",
   "execution_count": 222,
   "metadata": {
    "collapsed": false
   },
   "outputs": [
    {
     "data": {
      "text/plain": [
       "2"
      ]
     },
     "execution_count": 222,
     "metadata": {},
     "output_type": "execute_result"
    }
   ],
   "source": [
    "Person.number_of_persons(p1)\n",
    "p1.number_of_persons()"
   ]
  },
  {
   "cell_type": "code",
   "execution_count": 224,
   "metadata": {
    "collapsed": false
   },
   "outputs": [
    {
     "data": {
      "text/plain": [
       "3"
      ]
     },
     "execution_count": 224,
     "metadata": {},
     "output_type": "execute_result"
    }
   ],
   "source": [
    "(1).__add__(2)\n",
    "1+2"
   ]
  },
  {
   "cell_type": "code",
   "execution_count": 233,
   "metadata": {
    "collapsed": false
   },
   "outputs": [
    {
     "name": "stdout",
     "output_type": "stream",
     "text": [
      "2\n",
      "5\n",
      "6\n",
      "5\n",
      "4\n"
     ]
    }
   ],
   "source": [
    "class MyInteger():\n",
    "    def __init__(self, integer):\n",
    "        #print \"constructor\"\n",
    "        self.integer = integer\n",
    "    def __add__(self, integer): # Overloaded '+' operator\n",
    "        if self.integer == 2 and integer == 2:\n",
    "            return 5\n",
    "        else:\n",
    "            return self.integer + integer\n",
    "m = MyInteger(1)\n",
    "print m.__add__(1)\n",
    "m2 = MyInteger(2)\n",
    "print m2.__add__(2)\n",
    "print m2.__add__(4)\n",
    "print m2 + 2\n",
    "print m + 3"
   ]
  },
  {
   "cell_type": "code",
   "execution_count": 239,
   "metadata": {
    "collapsed": false
   },
   "outputs": [
    {
     "name": "stdout",
     "output_type": "stream",
     "text": [
      "yellow\n",
      "False\n",
      "False\n"
     ]
    }
   ],
   "source": [
    "class Vehicle():\n",
    "    def my_own(self): return True\n",
    "    \n",
    "class Bicycle(Vehicle):\n",
    "    def __init__(self, color): self.color = color\n",
    "    def has_wheels(self): return True\n",
    "\n",
    "class rent_bike(Bicycle):\n",
    "    def my_own(self): return False\n",
    "    def has_wheels(self): return False\n",
    "\n",
    "Ubike = rent_bike('yellow')\n",
    "print Ubike.color\n",
    "print Ubike.my_own()\n",
    "print Ubike.has_wheels()"
   ]
  },
  {
   "cell_type": "code",
   "execution_count": 241,
   "metadata": {
    "collapsed": false
   },
   "outputs": [
    {
     "name": "stdout",
     "output_type": "stream",
     "text": [
      "rent_bike is yellow\n"
     ]
    }
   ],
   "source": [
    "class Vehicle():\n",
    "    def my_own(self): return True\n",
    "    \n",
    "class Bicycle(Vehicle):\n",
    "    def __init__(self, color): self.color = color\n",
    "    def has_wheels(self): return True\n",
    "    def __str__(self): return \"%s is %s\"%(self.__class__.__name__,self.color)\n",
    "\n",
    "class rent_bike(Bicycle):\n",
    "    def my_own(self): return False\n",
    "Ubike = rent_bike('yellow')\n",
    "print Ubike"
   ]
  },
  {
   "cell_type": "code",
   "execution_count": 243,
   "metadata": {
    "collapsed": true
   },
   "outputs": [],
   "source": [
    "fid = open('test.txt', 'w')\n",
    "fid.write('Hello\\nWorld')\n",
    "fid.close()"
   ]
  },
  {
   "cell_type": "code",
   "execution_count": 250,
   "metadata": {
    "collapsed": false
   },
   "outputs": [
    {
     "name": "stdout",
     "output_type": "stream",
     "text": [
      "Line: Hello\n",
      "Line: World\n"
     ]
    }
   ],
   "source": [
    "fid = open('test.txt', 'r')\n",
    "for line in fid: # Using file identifier as iterator\n",
    "    print(\"Line: \" + line.strip())\n"
   ]
  },
  {
   "cell_type": "code",
   "execution_count": 251,
   "metadata": {
    "collapsed": true
   },
   "outputs": [],
   "source": [
    "for line in fid:\n",
    "    print line"
   ]
  },
  {
   "cell_type": "code",
   "execution_count": 252,
   "metadata": {
    "collapsed": true
   },
   "outputs": [],
   "source": [
    "fid.close()"
   ]
  },
  {
   "cell_type": "code",
   "execution_count": 253,
   "metadata": {
    "collapsed": false
   },
   "outputs": [
    {
     "name": "stdout",
     "output_type": "stream",
     "text": [
      "\n",
      "\taaattt\n",
      "\t\n",
      "aaattt\n"
     ]
    }
   ],
   "source": [
    "a = '\\n\\taaattt\\n\\t'\n",
    "print a\n",
    "print a.strip()"
   ]
  },
  {
   "cell_type": "code",
   "execution_count": 256,
   "metadata": {
    "collapsed": false
   },
   "outputs": [
    {
     "name": "stdout",
     "output_type": "stream",
     "text": [
      "Line: Hello\n",
      "Line: World\n"
     ]
    }
   ],
   "source": [
    "fid = open('test.txt', 'r')\n",
    "lines = fid.readlines()\n",
    "for line in lines:\n",
    "    print(\"Line: \" + line.strip())\n",
    "fid.close()"
   ]
  },
  {
   "cell_type": "code",
   "execution_count": 258,
   "metadata": {
    "collapsed": false
   },
   "outputs": [
    {
     "name": "stdout",
     "output_type": "stream",
     "text": [
      "Hello\n",
      "\n",
      "World\n"
     ]
    }
   ],
   "source": [
    "for line in lines:\n",
    "    print line"
   ]
  },
  {
   "cell_type": "code",
   "execution_count": 267,
   "metadata": {
    "collapsed": false
   },
   "outputs": [
    {
     "name": "stdout",
     "output_type": "stream",
     "text": [
      "fid closed\n"
     ]
    },
    {
     "ename": "NameError",
     "evalue": "name 'k' is not defined",
     "output_type": "error",
     "traceback": [
      "\u001b[0;31m---------------------------------------------------------------------------\u001b[0m",
      "\u001b[0;31mNameError\u001b[0m                                 Traceback (most recent call last)",
      "\u001b[0;32m<ipython-input-267-ea410ba30519>\u001b[0m in \u001b[0;36m<module>\u001b[0;34m()\u001b[0m\n\u001b[1;32m      1\u001b[0m \u001b[0;32mtry\u001b[0m\u001b[0;34m:\u001b[0m\u001b[0;34m\u001b[0m\u001b[0m\n\u001b[1;32m      2\u001b[0m     \u001b[0mfid\u001b[0m \u001b[0;34m=\u001b[0m \u001b[0mopen\u001b[0m\u001b[0;34m(\u001b[0m\u001b[0;34m'test.txt'\u001b[0m\u001b[0;34m,\u001b[0m \u001b[0;34m'r'\u001b[0m\u001b[0;34m)\u001b[0m\u001b[0;34m\u001b[0m\u001b[0m\n\u001b[0;32m----> 3\u001b[0;31m     \u001b[0mk\u001b[0m\u001b[0;34m\u001b[0m\u001b[0m\n\u001b[0m\u001b[1;32m      4\u001b[0m \u001b[0;32mfinally\u001b[0m\u001b[0;34m:\u001b[0m\u001b[0;34m\u001b[0m\u001b[0m\n\u001b[1;32m      5\u001b[0m     \u001b[0;32mprint\u001b[0m \u001b[0;34m'fid closed'\u001b[0m\u001b[0;34m\u001b[0m\u001b[0m\n",
      "\u001b[0;31mNameError\u001b[0m: name 'k' is not defined"
     ]
    }
   ],
   "source": [
    "try:\n",
    "    fid = open('test.txt', 'r')\n",
    "    k\n",
    "finally:\n",
    "    print 'fid closed'\n",
    "    fid.close()"
   ]
  },
  {
   "cell_type": "code",
   "execution_count": 269,
   "metadata": {
    "collapsed": false
   },
   "outputs": [
    {
     "name": "stdout",
     "output_type": "stream",
     "text": [
      "Hello\n",
      "World\n"
     ]
    }
   ],
   "source": [
    "with open('test.txt', 'r') as f:\n",
    "    for line in f:\n",
    "        print line.strip()"
   ]
  },
  {
   "cell_type": "code",
   "execution_count": 272,
   "metadata": {
    "collapsed": false
   },
   "outputs": [
    {
     "name": "stdout",
     "output_type": "stream",
     "text": [
      "2\n"
     ]
    }
   ],
   "source": [
    "with open('test.txt', 'r') as f:\n",
    "    k = 0\n",
    "    for line in f:\n",
    "        k += 1\n",
    "    print(k)"
   ]
  },
  {
   "cell_type": "code",
   "execution_count": 287,
   "metadata": {
    "collapsed": false
   },
   "outputs": [
    {
     "name": "stdout",
     "output_type": "stream",
     "text": [
      "2\n"
     ]
    }
   ],
   "source": [
    "with open('test.txt','r') as f:\n",
    "    print len(f.readlines())"
   ]
  },
  {
   "cell_type": "code",
   "execution_count": 298,
   "metadata": {
    "collapsed": true
   },
   "outputs": [],
   "source": [
    "with open('test2.txt','a') as f:\n",
    "    f.write('aaaaaaaaaaa')"
   ]
  },
  {
   "cell_type": "code",
   "execution_count": 277,
   "metadata": {
    "collapsed": false
   },
   "outputs": [
    {
     "name": "stdout",
     "output_type": "stream",
     "text": [
      "{'saying': 1, 'all': 1, 'says.': 1, 'increasingly': 1, 'over': 1, 'global': 1, 'soon': 1, 'deliveries': 1, 'profits,': 1, 'four': 1, 'bring': 1, 'looks': 1, 'its': 2, 'also': 2, 'supply': 1, 'should': 2, 'to': 8, 'only': 1, 'announce': 1, 'has': 3, 'world.': 1, 'into': 1, 'world,': 1, 'Prime': 4, 'And': 1, 'network,': 1, 'around': 1, 'prepping': 1, 'working': 2, 'aspirational': 1, 'nearly': 1, 'press': 1, 'areas': 1, 'like': 1, 'countries': 1, 'India': 1, 'leave': 1, 'she': 1, 'team': 1, 'release': 1, '\\xe2\\x80\\x98magical.\\xe2\\x80\\x99\\xe2\\x80\\x9d': 1, 'wrote': 1, 'process,\\xe2\\x80\\x9d': 1, 'logistics': 1, 'forbid,': 1, 'force': 1, 'paper?\\n\\nStephenie': 1, 'house)': 1, 'humans': 1, 'growth': 1, 'out': 1, 'cargo': 1, 'what': 2, 'for': 2, 'That': 1, 'giving': 1, 'working-backward': 1, 'assembled': 1, 'may': 1, 'Amazon': 4, 'version': 1, 'China': 1, 'planes,': 1, 'probably': 1, '22-year': 1, 'be': 4, 'we': 1, 'infrastructure': 1, 'favored': 1, 'couriers.': 1, 'hundreds': 1, 'control': 1, 'from': 1, 'UPS': 1, 'wait': 1, 'on': 2, 'chain,': 1, 'service': 1, 'anything': 1, 'of': 9, '30': 1, 'days': 1, 'experience': 1, 'FedEx': 1, 'products': 1, '\\xe2\\x80\\x9cWe': 2, 'long-term': 1, 'contingency': 1, 'sprawling': 1, 'Now,': 1, 'gone': 1, 'Landry': 2, 'trucks,': 1, '(or,': 1, 'long': 1, 'drones': 1, 'actually': 1, 'writing': 1, 'your': 3, 'now.': 1, 'company\\xe2\\x80\\x99s': 1, 'would': 4, 'their': 1, 'concept,': 1, 'warehouses': 1, 'instantaneousness': 1, 'start': 1, 'live': 1, 'poured': 1, 'way': 1, '\\xe2\\x80\\x94Davey': 1, 'conceptualized': 1, 'was': 1, 'launching': 1, 'more': 1, 'building': 1, 'life': 1, 'Since': 1, 'scaled-down': 1, 'complete': 1, 'that': 3, 'company': 2, 'but': 1, 'delivery': 1, 'immediately.': 1, 'emerges,': 1, 'And,': 1, 'factories': 1, 'than': 1, 'gratification\\xe2\\x80\\x94as': 1, 'Now': 3, 'doorstep.': 1, 'Alba\\n': 1, 'well,': 1, 'thousands': 1, 'work': 1, 'resources': 1, 'December': 1, 'called': 1, 'something': 1, 'and': 8, 'toilet': 1, 'dedicated': 1, 'want': 1, 'metropolitan': 1, 'almost': 1, 'God': 1, 'is': 1, 'lifespan,': 1, 'play:': 1, 'involve': 1, 'problem.': 1, 'as': 3, 'at': 1, 'have': 2, 'in': 7, 'need': 1, 'if': 1, 'rumors': 1, 'not': 1, 'responsible': 1, 'when': 2, 'write': 1, 'how': 1, 'grand': 1, 'swirl': 1, 'you': 4, 'as,': 1, 'Why': 1, 'one-hour': 1, 'picture': 1, 'product': 1, 'plans': 1, 'I': 2, 'plan': 1, 'president': 1, '2014,': 1, 'a': 4, 'vice': 1, 'flow': 1, 'the': 15}\n"
     ]
    }
   ],
   "source": [
    "text = '''Amazon has long favored growth over profits, and in its nearly 22-year lifespan, the company has poured resources into building out a sprawling logistics infrastructure dedicated to giving you what you want almost immediately. Why should you have to wait for days (or, God forbid, leave your house) when you need toilet paper?\n",
    "\n",
    "Stephenie Landry is the force responsible for the instantaneousness of your gratification—as vice president of Amazon Prime Now, she conceptualized how the company would bring one-hour deliveries to life and assembled the team to work on the problem. “We have something at Amazon called the working-backward process,” Landry says. “We write a press release saying what we would announce to the world, and when I was writing the product concept, I wrote that the experience of Prime Now would be ‘magical.’” Since launching in December 2014, the service has gone live in four countries and more than 30 metropolitan areas around the world. And, as rumors swirl that Amazon may also be working on a global delivery network, Prime Now increasingly looks to be a scaled-down version of the company’s long-term play: to be in complete control of the flow of products in its supply chain, from factories in China and India all the way to your doorstep. That grand plan would involve not only trucks, cargo planes, and drones but also hundreds of thousands of humans working in warehouses and as couriers. And if anything like that aspirational picture of Prime Now actually emerges, UPS and FedEx should probably start prepping their contingency plans as soon as, well, now. —Davey Alba\n",
    "'''\n",
    "words = text.split(' ')\n",
    "\n",
    "dic = {}\n",
    "for w in words:\n",
    "    if w not in dic:\n",
    "        dic[w] = 1\n",
    "    else:\n",
    "        dic[w] += 1\n",
    "print dic"
   ]
  },
  {
   "cell_type": "code",
   "execution_count": 281,
   "metadata": {
    "collapsed": false
   },
   "outputs": [
    {
     "name": "stdout",
     "output_type": "stream",
     "text": [
      "Counter({'the': 15, 'of': 9, 'to': 8, 'and': 8, 'in': 7, 'Prime': 4, 'Amazon': 4, 'be': 4, 'would': 4, 'you': 4, 'a': 4, 'has': 3, 'your': 3, 'that': 3, 'Now': 3, 'as': 3, 'its': 2, 'also': 2, 'should': 2, 'working': 2, 'what': 2, 'for': 2, 'on': 2, '\\xe2\\x80\\x9cWe': 2, 'Landry': 2, 'company': 2, 'have': 2, 'when': 2, 'I': 2, 'saying': 1, 'all': 1, 'says.': 1, 'increasingly': 1, 'over': 1, 'global': 1, 'soon': 1, 'deliveries': 1, 'profits,': 1, 'four': 1, 'bring': 1, 'looks': 1, 'supply': 1, 'only': 1, 'announce': 1, 'world.': 1, 'into': 1, 'world,': 1, 'And': 1, 'network,': 1, 'around': 1, 'prepping': 1, 'aspirational': 1, 'nearly': 1, 'press': 1, 'areas': 1, 'like': 1, 'countries': 1, 'India': 1, 'leave': 1, 'she': 1, 'team': 1, 'release': 1, '\\xe2\\x80\\x98magical.\\xe2\\x80\\x99\\xe2\\x80\\x9d': 1, 'wrote': 1, 'process,\\xe2\\x80\\x9d': 1, 'logistics': 1, 'forbid,': 1, 'force': 1, 'paper?\\n\\nStephenie': 1, 'house)': 1, 'humans': 1, 'growth': 1, 'out': 1, 'cargo': 1, 'That': 1, 'giving': 1, 'working-backward': 1, 'assembled': 1, 'may': 1, 'version': 1, 'China': 1, 'planes,': 1, 'probably': 1, '22-year': 1, 'we': 1, 'infrastructure': 1, 'favored': 1, 'couriers.': 1, 'hundreds': 1, 'control': 1, 'from': 1, 'UPS': 1, 'wait': 1, 'chain,': 1, 'service': 1, 'anything': 1, '30': 1, 'days': 1, 'experience': 1, 'FedEx': 1, 'products': 1, 'long-term': 1, 'contingency': 1, 'sprawling': 1, 'Now,': 1, 'gone': 1, 'trucks,': 1, '(or,': 1, 'long': 1, 'drones': 1, 'actually': 1, 'writing': 1, 'now.': 1, 'company\\xe2\\x80\\x99s': 1, 'their': 1, 'concept,': 1, 'warehouses': 1, 'instantaneousness': 1, 'start': 1, 'live': 1, 'poured': 1, 'way': 1, '\\xe2\\x80\\x94Davey': 1, 'conceptualized': 1, 'was': 1, 'launching': 1, 'more': 1, 'building': 1, 'life': 1, 'Since': 1, 'scaled-down': 1, 'complete': 1, 'but': 1, 'delivery': 1, 'immediately.': 1, 'emerges,': 1, 'And,': 1, 'factories': 1, 'than': 1, 'gratification\\xe2\\x80\\x94as': 1, 'doorstep.': 1, 'Alba\\n': 1, 'well,': 1, 'thousands': 1, 'work': 1, 'resources': 1, 'December': 1, 'called': 1, 'something': 1, 'toilet': 1, 'dedicated': 1, 'want': 1, 'metropolitan': 1, 'almost': 1, 'God': 1, 'is': 1, 'lifespan,': 1, 'play:': 1, 'involve': 1, 'problem.': 1, 'at': 1, 'need': 1, 'if': 1, 'rumors': 1, 'not': 1, 'responsible': 1, 'write': 1, 'how': 1, 'grand': 1, 'swirl': 1, 'as,': 1, 'Why': 1, 'one-hour': 1, 'picture': 1, 'product': 1, 'plans': 1, 'plan': 1, 'president': 1, '2014,': 1, 'vice': 1, 'flow': 1})\n"
     ]
    }
   ],
   "source": [
    "from collections import Counter\n",
    "c = Counter(words)\n",
    "print c"
   ]
  },
  {
   "cell_type": "code",
   "execution_count": 286,
   "metadata": {
    "collapsed": false
   },
   "outputs": [
    {
     "name": "stdout",
     "output_type": "stream",
     "text": [
      "[('the', 15), ('of', 9), ('to', 8), ('and', 8), ('in', 7)]\n"
     ]
    }
   ],
   "source": [
    "import operator\n",
    "sorted_x = sorted(c.items(), key=operator.itemgetter(1), reverse=True)\n",
    "print sorted_x[0:5]"
   ]
  },
  {
   "cell_type": "code",
   "execution_count": 285,
   "metadata": {
    "collapsed": false
   },
   "outputs": [
    {
     "data": {
      "text/plain": [
       "[('saying', 1),\n",
       " ('all', 1),\n",
       " ('says.', 1),\n",
       " ('increasingly', 1),\n",
       " ('over', 1),\n",
       " ('global', 1),\n",
       " ('soon', 1),\n",
       " ('deliveries', 1),\n",
       " ('profits,', 1),\n",
       " ('four', 1),\n",
       " ('bring', 1),\n",
       " ('looks', 1),\n",
       " ('its', 2),\n",
       " ('also', 2),\n",
       " ('supply', 1),\n",
       " ('should', 2),\n",
       " ('to', 8),\n",
       " ('only', 1),\n",
       " ('announce', 1),\n",
       " ('has', 3),\n",
       " ('world.', 1),\n",
       " ('into', 1),\n",
       " ('world,', 1),\n",
       " ('Prime', 4),\n",
       " ('And', 1),\n",
       " ('network,', 1),\n",
       " ('around', 1),\n",
       " ('prepping', 1),\n",
       " ('working', 2),\n",
       " ('aspirational', 1),\n",
       " ('nearly', 1),\n",
       " ('press', 1),\n",
       " ('areas', 1),\n",
       " ('like', 1),\n",
       " ('countries', 1),\n",
       " ('India', 1),\n",
       " ('leave', 1),\n",
       " ('she', 1),\n",
       " ('team', 1),\n",
       " ('release', 1),\n",
       " ('\\xe2\\x80\\x98magical.\\xe2\\x80\\x99\\xe2\\x80\\x9d', 1),\n",
       " ('wrote', 1),\n",
       " ('process,\\xe2\\x80\\x9d', 1),\n",
       " ('logistics', 1),\n",
       " ('forbid,', 1),\n",
       " ('force', 1),\n",
       " ('paper?\\n\\nStephenie', 1),\n",
       " ('house)', 1),\n",
       " ('humans', 1),\n",
       " ('growth', 1),\n",
       " ('out', 1),\n",
       " ('cargo', 1),\n",
       " ('what', 2),\n",
       " ('for', 2),\n",
       " ('That', 1),\n",
       " ('giving', 1),\n",
       " ('working-backward', 1),\n",
       " ('assembled', 1),\n",
       " ('may', 1),\n",
       " ('Amazon', 4),\n",
       " ('version', 1),\n",
       " ('China', 1),\n",
       " ('planes,', 1),\n",
       " ('probably', 1),\n",
       " ('22-year', 1),\n",
       " ('be', 4),\n",
       " ('we', 1),\n",
       " ('infrastructure', 1),\n",
       " ('favored', 1),\n",
       " ('couriers.', 1),\n",
       " ('hundreds', 1),\n",
       " ('control', 1),\n",
       " ('from', 1),\n",
       " ('UPS', 1),\n",
       " ('wait', 1),\n",
       " ('on', 2),\n",
       " ('chain,', 1),\n",
       " ('service', 1),\n",
       " ('anything', 1),\n",
       " ('of', 9),\n",
       " ('30', 1),\n",
       " ('days', 1),\n",
       " ('experience', 1),\n",
       " ('FedEx', 1),\n",
       " ('products', 1),\n",
       " ('\\xe2\\x80\\x9cWe', 2),\n",
       " ('long-term', 1),\n",
       " ('contingency', 1),\n",
       " ('sprawling', 1),\n",
       " ('Now,', 1),\n",
       " ('gone', 1),\n",
       " ('Landry', 2),\n",
       " ('trucks,', 1),\n",
       " ('(or,', 1),\n",
       " ('long', 1),\n",
       " ('drones', 1),\n",
       " ('actually', 1),\n",
       " ('writing', 1),\n",
       " ('your', 3),\n",
       " ('now.', 1),\n",
       " ('company\\xe2\\x80\\x99s', 1),\n",
       " ('would', 4),\n",
       " ('their', 1),\n",
       " ('concept,', 1),\n",
       " ('warehouses', 1),\n",
       " ('instantaneousness', 1),\n",
       " ('start', 1),\n",
       " ('live', 1),\n",
       " ('poured', 1),\n",
       " ('way', 1),\n",
       " ('\\xe2\\x80\\x94Davey', 1),\n",
       " ('conceptualized', 1),\n",
       " ('was', 1),\n",
       " ('launching', 1),\n",
       " ('more', 1),\n",
       " ('building', 1),\n",
       " ('life', 1),\n",
       " ('Since', 1),\n",
       " ('scaled-down', 1),\n",
       " ('complete', 1),\n",
       " ('that', 3),\n",
       " ('company', 2),\n",
       " ('but', 1),\n",
       " ('delivery', 1),\n",
       " ('immediately.', 1),\n",
       " ('emerges,', 1),\n",
       " ('And,', 1),\n",
       " ('factories', 1),\n",
       " ('than', 1),\n",
       " ('gratification\\xe2\\x80\\x94as', 1),\n",
       " ('Now', 3),\n",
       " ('doorstep.', 1),\n",
       " ('Alba\\n', 1),\n",
       " ('well,', 1),\n",
       " ('thousands', 1),\n",
       " ('work', 1),\n",
       " ('resources', 1),\n",
       " ('December', 1),\n",
       " ('called', 1),\n",
       " ('something', 1),\n",
       " ('and', 8),\n",
       " ('toilet', 1),\n",
       " ('dedicated', 1),\n",
       " ('want', 1),\n",
       " ('metropolitan', 1),\n",
       " ('almost', 1),\n",
       " ('God', 1),\n",
       " ('is', 1),\n",
       " ('lifespan,', 1),\n",
       " ('play:', 1),\n",
       " ('involve', 1),\n",
       " ('problem.', 1),\n",
       " ('as', 3),\n",
       " ('at', 1),\n",
       " ('have', 2),\n",
       " ('in', 7),\n",
       " ('need', 1),\n",
       " ('if', 1),\n",
       " ('rumors', 1),\n",
       " ('not', 1),\n",
       " ('responsible', 1),\n",
       " ('when', 2),\n",
       " ('write', 1),\n",
       " ('how', 1),\n",
       " ('grand', 1),\n",
       " ('swirl', 1),\n",
       " ('you', 4),\n",
       " ('as,', 1),\n",
       " ('Why', 1),\n",
       " ('one-hour', 1),\n",
       " ('picture', 1),\n",
       " ('product', 1),\n",
       " ('plans', 1),\n",
       " ('I', 2),\n",
       " ('plan', 1),\n",
       " ('president', 1),\n",
       " ('2014,', 1),\n",
       " ('a', 4),\n",
       " ('vice', 1),\n",
       " ('flow', 1),\n",
       " ('the', 15)]"
      ]
     },
     "execution_count": 285,
     "metadata": {},
     "output_type": "execute_result"
    }
   ],
   "source": [
    "c.items()"
   ]
  }
 ],
 "metadata": {
  "kernelspec": {
   "display_name": "Python 2",
   "language": "python",
   "name": "python2"
  },
  "language_info": {
   "codemirror_mode": {
    "name": "ipython",
    "version": 2
   },
   "file_extension": ".py",
   "mimetype": "text/x-python",
   "name": "python",
   "nbconvert_exporter": "python",
   "pygments_lexer": "ipython2",
   "version": "2.7.9"
  }
 },
 "nbformat": 4,
 "nbformat_minor": 0
}
