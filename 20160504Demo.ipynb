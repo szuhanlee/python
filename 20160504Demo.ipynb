{
 "cells": [
  {
   "cell_type": "code",
   "execution_count": 16,
   "metadata": {
    "collapsed": false
   },
   "outputs": [
    {
     "name": "stdout",
     "output_type": "stream",
     "text": [
      "Leka: An Exceptional Toy for Exceptional Children\n",
      "ZUS Kevlar Charging Cable - Lifetime Guarantee\n",
      "Musana Carts: The Solar Street Vending Revolution\n",
      "Whipper:  Worldâs 1st Climbing Performance Tracker\n",
      "Air Case: The World's Thinnest iPhone Battery Case\n",
      "ASAP Connect: The future of USB cables\n",
      "Shock Clock WakeUp Trainer -Never Hit Snooze Again\n",
      "FLUX: Electric Bikes with Attitude\n",
      "WING : The Accessible Premium Wireless Earphone\n",
      "Furbo: World's First Treat-Tossing Dog Camera\n",
      "Turris Omnia: hi-performance & open-source router\n",
      "Lumi: World's Best Gaming & Entertainment Drone\n"
     ]
    }
   ],
   "source": [
    "import requests\n",
    "import json\n",
    "headers = {\n",
    "'User-Agent':'Mozilla/5.0 (Windows NT 6.1; WOW64) AppleWebKit/537.36 (KHTML, like Gecko) Chrome/50.0.2661.94 Safari/537.36', \n",
    "'Cookie':'romref_referer_host=www.google.com.tw; _gat=1; D_SID=140.115.236.39:BOThEAAGv4SMTbKm8/co88YZjak31qrQ7tzdyKgJePc; __qca=P0-1605812000-1462324323319; _gat_appcues_ga=1; ki_t=1462324326470%3B1462324326470%3B1462324326470%3B1%3B1; ki_r=https%3A%2F%2Fwww.google.com.tw%2F; __hstc=223492548.da3ad0a8cbebf03d8c2cf6eb8e74c4bc.1462324326540.1462324326540.1462324326540.1; __hssrc=1; __hssc=223492548.1.1462324326540; hsfirstvisit=https%3A%2F%2Fwww.indiegogo.com%2F%23%2Fpicks_for_you|https%3A%2F%2Fwww.google.com.tw%2F|1462324326538; hubspotutk=da3ad0a8cbebf03d8c2cf6eb8e74c4bc; utag_main=v_id:015479520f4b001cc99be13543d60506c001a06400bd0$_sn:1$_ss:0$_pn:3%3Bexp-session$_st:1462326200985$ses_id:1462324301643%3Bexp-session; D_PID=D8587F6D-A6E5-34C9-B6C5-17392785DB77; D_IID=AFCA9B4F-118C-3C31-85C2-64870B3773BD; D_UID=4D984B67-BE41-3779-B36B-65F850B3AF4A; D_HID=u+s6X+9Xakv8y5xd1N/CSTkiihPzbzMBdas4g3d2vxs; __ar_v4=; apc_user_call_count=2; romref=ORG_www_TW_XXXX_sch-goog_XXXXXXXX_0002_www.google.com.tw; visitor_id=278cba48720054c263e74725c4dac2f790d7ef50098c8cbbb17866a164ca31a5; analytics_session_id=42b42a11d370e48e31ba2df380104bf5b905a479638b62b652ec904e1b944742; _session_id=c8ab92c626784125d18dd0bcc34120ac; locale=en; cohort=www.google.com.tw%7Csch-goog; recent_project_ids=; _ga=GA1.2.1391222500.1462324318'\n",
    "}\n",
    "res = requests.get('https://www.indiegogo.com/private_api/explore?filter_category=Technology&filter_funding=&filter_percent_funded=&filter_quick=popular_all&filter_status=&per_page=12&pg_num=1', headers = headers)\n",
    "jd = json.loads(res.text)\n",
    "for campaign in jd['campaigns']:\n",
    "    print campaign['title']"
   ]
  },
  {
   "cell_type": "markdown",
   "metadata": {},
   "source": [
    "## XML"
   ]
  },
  {
   "cell_type": "code",
   "execution_count": null,
   "metadata": {
    "collapsed": true
   },
   "outputs": [],
   "source": [
    "<employee>\n",
    "    <name>\n",
    "        David\n",
    "    </name>\n",
    "    <age>\n",
    "        32\n",
    "    </age>\n",
    "</employee>"
   ]
  },
  {
   "cell_type": "markdown",
   "metadata": {},
   "source": [
    "## JSON"
   ]
  },
  {
   "cell_type": "code",
   "execution_count": null,
   "metadata": {
    "collapsed": true
   },
   "outputs": [],
   "source": [
    "{\"employee\": {\"age\": \"32\", \"name\": \"david\"}}"
   ]
  },
  {
   "cell_type": "code",
   "execution_count": 15,
   "metadata": {
    "collapsed": false
   },
   "outputs": [
    {
     "name": "stdout",
     "output_type": "stream",
     "text": [
      "{u'age': u'32', u'name': u'david'}\n",
      "32\n",
      "david\n"
     ]
    }
   ],
   "source": [
    "import json\n",
    "jd = '{\"employee\": {\"age\": \"32\", \"name\": \"david\"}}'\n",
    "dic = json.loads(jd)\n",
    "print dic['employee']\n",
    "print dic['employee']['age']\n",
    "print dic['employee']['name']"
   ]
  },
  {
   "cell_type": "code",
   "execution_count": null,
   "metadata": {
    "collapsed": true
   },
   "outputs": [],
   "source": []
  },
  {
   "cell_type": "code",
   "execution_count": 20,
   "metadata": {
    "collapsed": false
   },
   "outputs": [
    {
     "name": "stdout",
     "output_type": "stream",
     "text": [
      "\n"
     ]
    }
   ],
   "source": [
    "import requests\n",
    "\n",
    "payload = {\n",
    "'__EVENTTARGET':'',\n",
    "'__EVENTARGUMENT':'',\n",
    "'__LASTFOCUS':'',\n",
    "'__VIEWSTATE':'/wEPDwUJOTAxMjkxMjg3D2QWAgIDD2QWBAIBD2QWAmYPZBYEZg9kFgJmDxAPFgYeB0NoZWNrZWRnHglGb3JlQ29sb3IKAB4EXyFTQgIEZGRkZAIBD2QWAgIBDw8WBB8BCgAfAgIEZGQCAw9kFgQCAw8PFgIeBFRleHQFE+mpl+itieeivOW3sumAvuacny5kZAIJDw8WBh4LTmF2aWdhdGVVcmwFEH4vYnNDb250ZW50LmFzcHgfAwUP5LiL6LyJIDIzMzAgQ1NWHgdWaXNpYmxlaGRkGAIFHl9fQ29udHJvbHNSZXF1aXJlUG9zdEJhY2tLZXlfXxYDBRJSYWRpb0J1dHRvbl9Ob3JtYWwFEFJhZGlvQnV0dG9uX0V4Y2QFEFJhZGlvQnV0dG9uX0V4Y2QFD0NhcHRjaGFDb250cm9sMQ8FJDI4YzA4ZTZjLTBjYTUtNDE5Mi1iODlkLWIyZGFlNWY1MmM5ZWTQPiPnG/NGumK2T5rggKiE',\n",
    "'__EVENTVALIDATION':'/wEdAAZvT5ifEcFvgmhMO/9jTwGgfMmuxAJNAJcNkRRsVeJwwqKURZav/+YrVMqaWE2hvMxJwK4Ohf3nRgXHkFhQen1PRSciNdPYWmINCrip1wqw01PJCA0uL9aE2sjICZqv6GoQB2GjmROUzjW5eXlpj/QW',\n",
    "'RadioButton_Normal':'RadioButton_Normal',\n",
    "'TextBox_Stkno':'2330',\n",
    "'CaptchaControl1':'JTUPY',\n",
    "'btnOK':'查詢'\n",
    "    \n",
    "}\n",
    "rs = requests.session()\n",
    "res = rs.post('http://bsr.twse.com.tw/bshtm/bsMenu.aspx', data = payload)\n",
    "res2 = rs.get('http://bsr.twse.com.tw/bshtm/bsContent.aspx')\n",
    "print res2.text"
   ]
  },
  {
   "cell_type": "code",
   "execution_count": 58,
   "metadata": {
    "collapsed": false
   },
   "outputs": [
    {
     "name": "stdout",
     "output_type": "stream",
     "text": [
      "1\n",
      "1\n",
      "None\n",
      "1\n",
      "default\n",
      "{'a': 1, 'c': 123, 'b': 2}\n"
     ]
    }
   ],
   "source": [
    "dic = {'a':1, 'b':2}\n",
    "print dic['a']\n",
    "#print dic['c']\n",
    "\n",
    "print dic.get('a')\n",
    "print dic.get('c')\n",
    "\n",
    "\n",
    "print dic.get('a', 'default')\n",
    "print dic.get('c', 'default')\n",
    "dic['c'] = 123\n",
    "print dic"
   ]
  },
  {
   "cell_type": "code",
   "execution_count": 54,
   "metadata": {
    "collapsed": false
   },
   "outputs": [
    {
     "name": "stdout",
     "output_type": "stream",
     "text": [
      "[<input id=\"__EVENTTARGET\" name=\"__EVENTTARGET\" type=\"hidden\" value=\"\"/>, <input id=\"__EVENTARGUMENT\" name=\"__EVENTARGUMENT\" type=\"hidden\" value=\"\"/>, <input id=\"__LASTFOCUS\" name=\"__LASTFOCUS\" type=\"hidden\" value=\"\"/>, <input id=\"__VIEWSTATE\" name=\"__VIEWSTATE\" type=\"hidden\" value=\"/wEPDwUJOTAxMjkxMjg3D2QWAgIDD2QWBAIBD2QWAmYPZBYEZg9kFgJmDxAPFgYeB0NoZWNrZWRnHglGb3JlQ29sb3IKAB4EXyFTQgIEZGRkZAIBD2QWAgIBDw8WBB8BCgAfAgIEZGQCAw9kFgQCAw8PFgIeBFRleHRlZGQCCQ8PFgIeB1Zpc2libGVoZGQYAgUeX19Db250cm9sc1JlcXVpcmVQb3N0QmFja0tleV9fFgMFElJhZGlvQnV0dG9uX05vcm1hbAUQUmFkaW9CdXR0b25fRXhjZAUQUmFkaW9CdXR0b25fRXhjZAUPQ2FwdGNoYUNvbnRyb2wxDwUkNjQ1MWRlODAtZmUwMi00NTNlLThmY2EtOWZmMjExNzMyMzIwZDloLhxxnFM14V9OS6PzHT0=\"/>, <input id=\"__EVENTVALIDATION\" name=\"__EVENTVALIDATION\" type=\"hidden\" value=\"/wEdAAYcTcGQK/xfTbi55wRw3EQGfMmuxAJNAJcNkRRsVeJwwqKURZav/+YrVMqaWE2hvMxJwK4Ohf3nRgXHkFhQen1PRSciNdPYWmINCrip1wqw01PJCA0uL9aE2sjICZqv6Gq+44F/geGhTsKyvT0Aebcb\"/>]\n"
     ]
    }
   ],
   "source": [
    "import requests\n",
    "from bs4 import BeautifulSoup\n",
    "\n",
    "headers = {\n",
    "'User-Agent':'Mozilla/5.0 (Windows NT 6.1; WOW64) AppleWebKit/537.36 (KHTML, like Gecko) Chrome/50.0.2661.94 Safari/537.36'\n",
    "}\n",
    "\n",
    "payload = {\n",
    "\n",
    "'RadioButton_Normal':'RadioButton_Normal',\n",
    "'TextBox_Stkno':'2330',\n",
    "#'CaptchaControl1':'JTUPY',\n",
    "'btnOK':'查詢'\n",
    "    \n",
    "}\n",
    "rs = requests.session()\n",
    "res = rs.get('http://bsr.twse.com.tw/bshtm/bsMenu.aspx', headers = headers)\n",
    "soup = BeautifulSoup(res.text)\n",
    "#print res.text\n",
    "print soup.select('input[type==hidden]')\n",
    "for item in soup.select('input'):    \n",
    "    if item.get('value') is not None:\n",
    "        #print item['name'], item['value']\n",
    "        payload[item['name']] = item['value']\n",
    "        \n",
    "#print payload\n",
    "#res2 = rs.post('http://bsr.twse.com.tw/bshtm/bsMenu.aspx', data = payload, headers = headers)\n",
    "#res3 = rs.get('http://bsr.twse.com.tw/bshtm/bsContent.aspx?v=t', headers = headers)\n",
    "#print res3.text\n"
   ]
  },
  {
   "cell_type": "code",
   "execution_count": 59,
   "metadata": {
    "collapsed": false
   },
   "outputs": [],
   "source": [
    "import requests\n",
    "from bs4 import BeautifulSoup\n",
    "\n",
    "headers = {\n",
    "'User-Agent':'Mozilla/5.0 (Windows NT 6.1; WOW64) AppleWebKit/537.36 (KHTML, like Gecko) Chrome/50.0.2661.94 Safari/537.36'\n",
    "}\n",
    "\n",
    "payload = {\n",
    "'RadioButton_Normal':'RadioButton_Normal',\n",
    "'TextBox_Stkno':'2330',\n",
    "#'CaptchaControl1':'JTUPY',\n",
    "'btnOK':'查詢'    \n",
    "}\n",
    "rs = requests.session()\n",
    "res = rs.get('http://bsr.twse.com.tw/bshtm/bsMenu.aspx', headers = headers)\n",
    "soup = BeautifulSoup(res.text)\n",
    "#print res.text\n",
    "\n",
    "for item in soup.select('input[type==hidden]'):    \n",
    "    if item.get('value') is not None:\n",
    "        #print item['name'], item['value']\n",
    "        payload[item['name']] = item['value']\n",
    "        \n",
    "#print payload\n",
    "res2 = rs.post('http://bsr.twse.com.tw/bshtm/bsMenu.aspx', data = payload, headers = headers)\n",
    "res3 = rs.get('http://bsr.twse.com.tw/bshtm/bsContent.aspx?v=t', headers = headers)\n",
    "#print res3.text\n"
   ]
  },
  {
   "cell_type": "code",
   "execution_count": 6,
   "metadata": {
    "collapsed": false
   },
   "outputs": [
    {
     "name": "stdout",
     "output_type": "stream",
     "text": [
      "http://img3.6comic.com:99/2/103/825/001_hhx.jpg\n",
      "http://img3.6comic.com:99/2/103/825/002_4vf.jpg\n",
      "http://img3.6comic.com:99/2/103/825/003_fv2.jpg\n",
      "http://img3.6comic.com:99/2/103/825/004_6pq.jpg\n",
      "http://img3.6comic.com:99/2/103/825/005_byp.jpg\n",
      "http://img3.6comic.com:99/2/103/825/006_8xw.jpg\n",
      "http://img3.6comic.com:99/2/103/825/007_y28.jpg\n",
      "http://img3.6comic.com:99/2/103/825/008_r7t.jpg\n",
      "http://img3.6comic.com:99/2/103/825/009_k5t.jpg\n",
      "http://img3.6comic.com:99/2/103/825/010_cjx.jpg\n",
      "http://img3.6comic.com:99/2/103/825/011_hx4.jpg\n",
      "http://img3.6comic.com:99/2/103/825/012_vff.jpg\n",
      "http://img3.6comic.com:99/2/103/825/013_v26.jpg\n"
     ]
    },
    {
     "ename": "UnexpectedAlertPresentException",
     "evalue": "Alert Text: 已經是最後一頁了\n<super: <class 'WebDriverException'>, <UnexpectedAlertPresentException object>>",
     "output_type": "error",
     "traceback": [
      "\u001b[1;31m---------------------------------------------------------------------------\u001b[0m",
      "\u001b[1;31mUnexpectedAlertPresentException\u001b[0m           Traceback (most recent call last)",
      "\u001b[1;32m<ipython-input-6-b6a886123c52>\u001b[0m in \u001b[0;36m<module>\u001b[1;34m()\u001b[0m\n\u001b[0;32m     19\u001b[0m \u001b[1;32mwhile\u001b[0m \u001b[0mlen\u001b[0m\u001b[1;33m(\u001b[0m\u001b[0msoup\u001b[0m\u001b[1;33m.\u001b[0m\u001b[0mselect\u001b[0m\u001b[1;33m(\u001b[0m\u001b[1;34m'#next'\u001b[0m\u001b[1;33m)\u001b[0m\u001b[1;33m)\u001b[0m \u001b[1;33m>\u001b[0m \u001b[1;36m0\u001b[0m\u001b[1;33m:\u001b[0m\u001b[1;33m\u001b[0m\u001b[0m\n\u001b[0;32m     20\u001b[0m     \u001b[0mdriver\u001b[0m\u001b[1;33m.\u001b[0m\u001b[0mfind_element_by_css_selector\u001b[0m\u001b[1;33m(\u001b[0m\u001b[1;34m\"#next > b > font\"\u001b[0m\u001b[1;33m)\u001b[0m\u001b[1;33m.\u001b[0m\u001b[0mclick\u001b[0m\u001b[1;33m(\u001b[0m\u001b[1;33m)\u001b[0m\u001b[1;33m\u001b[0m\u001b[0m\n\u001b[1;32m---> 21\u001b[1;33m     \u001b[0mres\u001b[0m \u001b[1;33m=\u001b[0m  \u001b[0mdriver\u001b[0m\u001b[1;33m.\u001b[0m\u001b[0mpage_source\u001b[0m\u001b[1;33m\u001b[0m\u001b[0m\n\u001b[0m\u001b[0;32m     22\u001b[0m     \u001b[0msoup\u001b[0m \u001b[1;33m=\u001b[0m \u001b[0mBeautifulSoup\u001b[0m\u001b[1;33m(\u001b[0m\u001b[0mres\u001b[0m\u001b[1;33m)\u001b[0m\u001b[1;33m\u001b[0m\u001b[0m\n\u001b[0;32m     23\u001b[0m     \u001b[1;32mprint\u001b[0m \u001b[0msoup\u001b[0m\u001b[1;33m.\u001b[0m\u001b[0mselect\u001b[0m\u001b[1;33m(\u001b[0m\u001b[1;34m'#TheImg'\u001b[0m\u001b[1;33m)\u001b[0m\u001b[1;33m[\u001b[0m\u001b[1;36m0\u001b[0m\u001b[1;33m]\u001b[0m\u001b[1;33m[\u001b[0m\u001b[1;34m'src'\u001b[0m\u001b[1;33m]\u001b[0m\u001b[1;33m\u001b[0m\u001b[0m\n",
      "\u001b[1;32mC:\\Anaconda2\\lib\\site-packages\\selenium\\webdriver\\remote\\webdriver.pyc\u001b[0m in \u001b[0;36mpage_source\u001b[1;34m(self)\u001b[0m\n\u001b[0;32m    462\u001b[0m             \u001b[0mdriver\u001b[0m\u001b[1;33m.\u001b[0m\u001b[0mpage_source\u001b[0m\u001b[1;33m\u001b[0m\u001b[0m\n\u001b[0;32m    463\u001b[0m         \"\"\"\n\u001b[1;32m--> 464\u001b[1;33m         \u001b[1;32mreturn\u001b[0m \u001b[0mself\u001b[0m\u001b[1;33m.\u001b[0m\u001b[0mexecute\u001b[0m\u001b[1;33m(\u001b[0m\u001b[0mCommand\u001b[0m\u001b[1;33m.\u001b[0m\u001b[0mGET_PAGE_SOURCE\u001b[0m\u001b[1;33m)\u001b[0m\u001b[1;33m[\u001b[0m\u001b[1;34m'value'\u001b[0m\u001b[1;33m]\u001b[0m\u001b[1;33m\u001b[0m\u001b[0m\n\u001b[0m\u001b[0;32m    465\u001b[0m \u001b[1;33m\u001b[0m\u001b[0m\n\u001b[0;32m    466\u001b[0m     \u001b[1;32mdef\u001b[0m \u001b[0mclose\u001b[0m\u001b[1;33m(\u001b[0m\u001b[0mself\u001b[0m\u001b[1;33m)\u001b[0m\u001b[1;33m:\u001b[0m\u001b[1;33m\u001b[0m\u001b[0m\n",
      "\u001b[1;32mC:\\Anaconda2\\lib\\site-packages\\selenium\\webdriver\\remote\\webdriver.pyc\u001b[0m in \u001b[0;36mexecute\u001b[1;34m(self, driver_command, params)\u001b[0m\n\u001b[0;32m    199\u001b[0m         \u001b[0mresponse\u001b[0m \u001b[1;33m=\u001b[0m \u001b[0mself\u001b[0m\u001b[1;33m.\u001b[0m\u001b[0mcommand_executor\u001b[0m\u001b[1;33m.\u001b[0m\u001b[0mexecute\u001b[0m\u001b[1;33m(\u001b[0m\u001b[0mdriver_command\u001b[0m\u001b[1;33m,\u001b[0m \u001b[0mparams\u001b[0m\u001b[1;33m)\u001b[0m\u001b[1;33m\u001b[0m\u001b[0m\n\u001b[0;32m    200\u001b[0m         \u001b[1;32mif\u001b[0m \u001b[0mresponse\u001b[0m\u001b[1;33m:\u001b[0m\u001b[1;33m\u001b[0m\u001b[0m\n\u001b[1;32m--> 201\u001b[1;33m             \u001b[0mself\u001b[0m\u001b[1;33m.\u001b[0m\u001b[0merror_handler\u001b[0m\u001b[1;33m.\u001b[0m\u001b[0mcheck_response\u001b[0m\u001b[1;33m(\u001b[0m\u001b[0mresponse\u001b[0m\u001b[1;33m)\u001b[0m\u001b[1;33m\u001b[0m\u001b[0m\n\u001b[0m\u001b[0;32m    202\u001b[0m             response['value'] = self._unwrap_value(\n\u001b[0;32m    203\u001b[0m                 response.get('value', None))\n",
      "\u001b[1;32mC:\\Anaconda2\\lib\\site-packages\\selenium\\webdriver\\remote\\errorhandler.pyc\u001b[0m in \u001b[0;36mcheck_response\u001b[1;34m(self, response)\u001b[0m\n\u001b[0;32m    191\u001b[0m             \u001b[1;32mraise\u001b[0m \u001b[0mexception_class\u001b[0m\u001b[1;33m(\u001b[0m\u001b[0mresponse\u001b[0m\u001b[1;33m,\u001b[0m \u001b[0mmessage\u001b[0m\u001b[1;33m)\u001b[0m\u001b[1;33m\u001b[0m\u001b[0m\n\u001b[0;32m    192\u001b[0m         \u001b[1;32melif\u001b[0m \u001b[0mexception_class\u001b[0m \u001b[1;33m==\u001b[0m \u001b[0mUnexpectedAlertPresentException\u001b[0m \u001b[1;32mand\u001b[0m \u001b[1;34m'alert'\u001b[0m \u001b[1;32min\u001b[0m \u001b[0mvalue\u001b[0m\u001b[1;33m:\u001b[0m\u001b[1;33m\u001b[0m\u001b[0m\n\u001b[1;32m--> 193\u001b[1;33m             \u001b[1;32mraise\u001b[0m \u001b[0mexception_class\u001b[0m\u001b[1;33m(\u001b[0m\u001b[0mmessage\u001b[0m\u001b[1;33m,\u001b[0m \u001b[0mscreen\u001b[0m\u001b[1;33m,\u001b[0m \u001b[0mstacktrace\u001b[0m\u001b[1;33m,\u001b[0m \u001b[0mvalue\u001b[0m\u001b[1;33m[\u001b[0m\u001b[1;34m'alert'\u001b[0m\u001b[1;33m]\u001b[0m\u001b[1;33m.\u001b[0m\u001b[0mget\u001b[0m\u001b[1;33m(\u001b[0m\u001b[1;34m'text'\u001b[0m\u001b[1;33m)\u001b[0m\u001b[1;33m)\u001b[0m\u001b[1;33m\u001b[0m\u001b[0m\n\u001b[0m\u001b[0;32m    194\u001b[0m         \u001b[1;32mraise\u001b[0m \u001b[0mexception_class\u001b[0m\u001b[1;33m(\u001b[0m\u001b[0mmessage\u001b[0m\u001b[1;33m,\u001b[0m \u001b[0mscreen\u001b[0m\u001b[1;33m,\u001b[0m \u001b[0mstacktrace\u001b[0m\u001b[1;33m)\u001b[0m\u001b[1;33m\u001b[0m\u001b[0m\n\u001b[0;32m    195\u001b[0m \u001b[1;33m\u001b[0m\u001b[0m\n",
      "\u001b[1;31m<type 'str'>\u001b[0m: (<type 'exceptions.UnicodeEncodeError'>, UnicodeEncodeError('ascii', u\"Alert Text: \\u5df2\\u7d93\\u662f\\u6700\\u5f8c\\u4e00\\u9801\\u4e86\\n<super: <class 'WebDriverException'>, <UnexpectedAlertPresentException object>>\", 12, 20, 'ordinal not in range(128)'))"
     ]
    }
   ],
   "source": [
    "# -*- coding: utf-8 -*-\n",
    "from selenium import webdriver\n",
    "from selenium.webdriver.common.by import By\n",
    "from selenium.webdriver.common.keys import Keys\n",
    "from selenium.webdriver.support.ui import Select\n",
    "from selenium.common.exceptions import NoSuchElementException\n",
    "from selenium.common.exceptions import NoAlertPresentException\n",
    "import unittest, time, re\n",
    "from bs4 import BeautifulSoup\n",
    "\n",
    "driver = webdriver.Firefox()\n",
    "driver.implicitly_wait(30)\n",
    "base_url = \"http://v.comicbus.com/\"\n",
    "\n",
    "driver.get(base_url + \"/online/Domain-103.html?ch=825\")\n",
    "res =  driver.page_source\n",
    "soup = BeautifulSoup(res)\n",
    "print soup.select('#TheImg')[0]['src']\n",
    "while len(soup.select('#next')) > 0:\n",
    "    driver.find_element_by_css_selector(\"#next > b > font\").click()\n",
    "    res =  driver.page_source\n",
    "    soup = BeautifulSoup(res)\n",
    "    print soup.select('#TheImg')[0]['src']\n",
    "driver.close()"
   ]
  },
  {
   "cell_type": "code",
   "execution_count": 8,
   "metadata": {
    "collapsed": false
   },
   "outputs": [
    {
     "name": "stdout",
     "output_type": "stream",
     "text": [
      "[('a', 1), ('c', 2), ('b', 3)]\n"
     ]
    },
    {
     "data": {
      "text/plain": [
       "[('b', 3), ('c', 2), ('a', 1)]"
      ]
     },
     "execution_count": 8,
     "metadata": {},
     "output_type": "execute_result"
    }
   ],
   "source": [
    "import operator\n",
    "dic = {'a': 1, 'b': 3, 'c':2}\n",
    "print dic.items()\n",
    "sorted(dic.items(), key = operator.itemgetter(1), reverse=True)"
   ]
  },
  {
   "cell_type": "code",
   "execution_count": 10,
   "metadata": {
    "collapsed": false
   },
   "outputs": [
    {
     "name": "stdout",
     "output_type": "stream",
     "text": [
      "[('b', 3), ('c', 2), ('a', 1)]\n"
     ]
    }
   ],
   "source": [
    "from collections import Counter\n",
    "c = Counter(dic)\n",
    "print c.most_common(3)"
   ]
  },
  {
   "cell_type": "code",
   "execution_count": 13,
   "metadata": {
    "collapsed": false
   },
   "outputs": [],
   "source": [
    "import requests\n",
    "payload={\n",
    "'method':'search',\n",
    "'searchMethod':'true',\n",
    "'searchTarget':'ATM',\n",
    "'orgName':'',\n",
    "'orgId':'',\n",
    "'hid_1':'1',\n",
    "'tenderName':'',\n",
    "'tenderId':'',\n",
    "'tenderStatus':'4,5,21,29',\n",
    "'tenderWay':'',\n",
    "'awardAnnounceStartDate':'105/05/04',\n",
    "'awardAnnounceEndDate':'105/05/04',\n",
    "'proctrgCate':'3',\n",
    "'radProctrgCate':'3',\n",
    "'tenderRange':'',\n",
    "'minBudget':'',\n",
    "'maxBudget':'',\n",
    "'item':'',\n",
    "'hid_2':'1',\n",
    "'gottenVendorName':'',\n",
    "'gottenVendorId':'',\n",
    "'hid_3':'1',\n",
    "'submitVendorName':'',\n",
    "'submitVendorId':'',\n",
    "'location':'',\n",
    "'priorityCate':'',\n",
    "'isReConstruct':'',\n",
    "'btnQuery':'查詢'    \n",
    "}\n",
    "res = requests.post('http://web.pcc.gov.tw/tps/pss/tender.do?searchMode=common&searchType=advance', data=payload)\n",
    "#print res.text"
   ]
  },
  {
   "cell_type": "code",
   "execution_count": 16,
   "metadata": {
    "collapsed": false
   },
   "outputs": [],
   "source": [
    "from bs4 import BeautifulSoup\n",
    "soup = BeautifulSoup(res.text)\n",
    "recnumber = int(soup.select('.T11b')[0].text)"
   ]
  },
  {
   "cell_type": "code",
   "execution_count": 17,
   "metadata": {
    "collapsed": false
   },
   "outputs": [
    {
     "name": "stdout",
     "output_type": "stream",
     "text": [
      "3\n"
     ]
    }
   ],
   "source": [
    "import math\n",
    "pagenumber = int(math.ceil(float(recnumber) / 100))\n",
    "print pagenumber"
   ]
  },
  {
   "cell_type": "code",
   "execution_count": 35,
   "metadata": {
    "collapsed": false
   },
   "outputs": [
    {
     "name": "stdout",
     "output_type": "stream",
     "text": [
      "1\n",
      "2\n",
      "3\n"
     ]
    }
   ],
   "source": [
    "import requests\n",
    "from bs4 import BeautifulSoup\n",
    "import math\n",
    "\n",
    "payload={\n",
    "'method':'search',\n",
    "'searchMethod':'true',\n",
    "'searchTarget':'ATM',\n",
    "'orgName':'',\n",
    "'orgId':'',\n",
    "'hid_1':'1',\n",
    "'tenderName':'',\n",
    "'tenderId':'',\n",
    "'tenderStatus':'4,5,21,29',\n",
    "'tenderWay':'',\n",
    "'awardAnnounceStartDate':'105/05/04',\n",
    "'awardAnnounceEndDate':'105/05/04',\n",
    "'proctrgCate':'3',\n",
    "'radProctrgCate':'3',\n",
    "'tenderRange':'',\n",
    "'minBudget':'',\n",
    "'maxBudget':'',\n",
    "'item':'',\n",
    "'hid_2':'1',\n",
    "'gottenVendorName':'',\n",
    "'gottenVendorId':'',\n",
    "'hid_3':'1',\n",
    "'submitVendorName':'',\n",
    "'submitVendorId':'',\n",
    "'location':'',\n",
    "'priorityCate':'',\n",
    "'isReConstruct':'',\n",
    "'btnQuery':'查詢'    \n",
    "}\n",
    "rs = requests.session()\n",
    "res = rs.post('http://web.pcc.gov.tw/tps/pss/tender.do?searchMode=common&searchType=advance', data=payload)\n",
    "\n",
    "soup = BeautifulSoup(res.text)\n",
    "recnumber = int(soup.select('.T11b')[0].text)\n",
    "pagenumber = int(math.ceil(float(recnumber) / 100))\n",
    "\n",
    "\n",
    "urlformat = 'http://web.pcc.gov.tw/tps/pss/tender.do?searchMode=common&searchType=advance&searchTarget=ATM&method=search&isSpdt=&pageIndex={}'\n",
    "for i in range(1, pagenumber + 1):\n",
    "    url = urlformat.format(i)\n",
    "    print i\n",
    "    #res2 = requests.get(url)\n",
    "    #print res2.text"
   ]
  },
  {
   "cell_type": "code",
   "execution_count": 33,
   "metadata": {
    "collapsed": false
   },
   "outputs": [
    {
     "name": "stdout",
     "output_type": "stream",
     "text": [
      "[2, 3, 4, 5, 6]\n",
      "[1, 2, 3, 4, 5]\n",
      "[2, 3, 4, 5]\n"
     ]
    }
   ],
   "source": [
    "a = [1,2,3,4,5,6]\n",
    "print a[1:]\n",
    "print a[:-1]\n",
    "print a[1:-1]"
   ]
  },
  {
   "cell_type": "code",
   "execution_count": 43,
   "metadata": {
    "collapsed": false
   },
   "outputs": [
    {
     "name": "stdout",
     "output_type": "stream",
     "text": [
      "/sfafafdfadfdaf\n"
     ]
    }
   ],
   "source": [
    "a = '../sfafafdfadfdaf'\n",
    "print a[2:]"
   ]
  },
  {
   "cell_type": "code",
   "execution_count": 44,
   "metadata": {
    "collapsed": false
   },
   "outputs": [
    {
     "name": "stdout",
     "output_type": "stream",
     "text": [
      "http://web.pcc.gov.tw/tps/main/pms/tps/atm/atmAwardAction.do?newEdit=false&searchMode=common&method=inquiryForPublic&pkAtmMain=51836902&tenderCaseNo=IAC10501\n",
      "http://web.pcc.gov.tw/tps/main/pms/tps/atm/atmAwardAction.do?newEdit=false&searchMode=common&method=inquiryForPublic&pkAtmMain=51836893&tenderCaseNo=MOHW105-FDA-B-113-000523\n",
      "http://web.pcc.gov.tw/tps/main/pms/tps/atm/atmAwardAction.do?newEdit=false&searchMode=common&method=inquiryForPublic&pkAtmMain=51836799&tenderCaseNo=1050203YIN\n",
      "http://web.pcc.gov.tw/tps/main/pms/tps/atm/atmAwardAction.do?newEdit=false&searchMode=common&method=inquiryForPublic&pkAtmMain=51836775&tenderCaseNo=1052000096\n",
      "http://web.pcc.gov.tw/tps/main/pms/tps/atm/atmAwardAction.do?newEdit=false&searchMode=common&method=inquiryForPublic&pkAtmMain=51836692&tenderCaseNo=105015\n",
      "http://web.pcc.gov.tw/tps/main/pms/tps/atm/atmAwardAction.do?newEdit=false&searchMode=common&method=inquiryForPublic&pkAtmMain=51836675&tenderCaseNo=10501012\n",
      "http://web.pcc.gov.tw/tps/main/pms/tps/atm/atmAwardAction.do?newEdit=false&searchMode=common&method=inquiryForPublic&pkAtmMain=51836574&tenderCaseNo=105-C05\n",
      "http://web.pcc.gov.tw/tps/main/pms/tps/atm/atmAwardAction.do?newEdit=false&searchMode=common&method=inquiryForPublic&pkAtmMain=51836493&tenderCaseNo=105020\n",
      "http://web.pcc.gov.tw/tps/main/pms/tps/atm/atmAwardAction.do?newEdit=false&searchMode=common&method=inquiryForPublic&pkAtmMain=51836480&tenderCaseNo=1050122903-1\n",
      "http://web.pcc.gov.tw/tps/main/pms/tps/atm/atmAwardAction.do?newEdit=false&searchMode=common&method=inquiryForPublic&pkAtmMain=51836442&tenderCaseNo=1050401A\n",
      "http://web.pcc.gov.tw/tps/main/pms/tps/atm/atmAwardAction.do?newEdit=false&searchMode=common&method=inquiryForPublic&pkAtmMain=51836416&tenderCaseNo=klgsh105009\n",
      "http://web.pcc.gov.tw/tps/main/pms/tps/atm/atmAwardAction.do?newEdit=false&searchMode=common&method=inquiryForPublic&pkAtmMain=51834904&tenderCaseNo=1050317-2\n",
      "http://web.pcc.gov.tw/tps/main/pms/tps/atm/atmAwardAction.do?newEdit=false&searchMode=common&method=inquiryForPublic&pkAtmMain=51830385&tenderCaseNo=105-013\n",
      "http://web.pcc.gov.tw/tps/main/pms/tps/atm/atmAwardAction.do?newEdit=false&searchMode=common&method=inquiryForPublic&pkAtmMain=51830157&tenderCaseNo=MEA0550007\n",
      "http://web.pcc.gov.tw/tps/main/pms/tps/atm/atmAwardAction.do?newEdit=false&searchMode=common&method=inquiryForPublic&pkAtmMain=51835106&tenderCaseNo=HK10504\n",
      "http://web.pcc.gov.tw/tps/main/pms/tps/atm/atmAwardAction.do?newEdit=false&searchMode=common&method=inquiryForPublic&pkAtmMain=51830432&tenderCaseNo=105-028\n",
      "http://web.pcc.gov.tw/tps/main/pms/tps/atm/atmAwardAction.do?newEdit=false&searchMode=common&method=inquiryForPublic&pkAtmMain=51835109&tenderCaseNo=xjp1050425\n",
      "http://web.pcc.gov.tw/tps/main/pms/tps/atm/atmAwardAction.do?newEdit=false&searchMode=common&method=inquiryForPublic&pkAtmMain=51835110&tenderCaseNo=105-B-029\n",
      "http://web.pcc.gov.tw/tps/main/pms/tps/atm/atmAwardAction.do?newEdit=false&searchMode=common&method=inquiryForPublic&pkAtmMain=51835113&tenderCaseNo=105012\n",
      "http://web.pcc.gov.tw/tps/main/pms/tps/atm/atmAwardAction.do?newEdit=false&searchMode=common&method=inquiryForPublic&pkAtmMain=51835120&tenderCaseNo=NL1050515\n",
      "http://web.pcc.gov.tw/tps/main/pms/tps/atm/atmAwardAction.do?newEdit=false&searchMode=common&method=inquiryForPublic&pkAtmMain=51835122&tenderCaseNo=10504250039\n",
      "http://web.pcc.gov.tw/tps/main/pms/tps/atm/atmAwardAction.do?newEdit=false&searchMode=common&method=inquiryForPublic&pkAtmMain=51835124&tenderCaseNo=10503300028\n",
      "http://web.pcc.gov.tw/tps/main/pms/tps/atm/atmAwardAction.do?newEdit=false&searchMode=common&method=inquiryForPublic&pkAtmMain=51835129&tenderCaseNo=10504070033\n",
      "http://web.pcc.gov.tw/tps/main/pms/tps/atm/atmAwardAction.do?newEdit=false&searchMode=common&method=inquiryForPublic&pkAtmMain=51835130&tenderCaseNo=105D001-1-20\n",
      "http://web.pcc.gov.tw/tps/main/pms/tps/atm/atmAwardAction.do?newEdit=false&searchMode=common&method=inquiryForPublic&pkAtmMain=51835131&tenderCaseNo=NL1050562\n",
      "http://web.pcc.gov.tw/tps/main/pms/tps/atm/atmAwardAction.do?newEdit=false&searchMode=common&method=inquiryForPublic&pkAtmMain=51835146&tenderCaseNo=HJC10509\n",
      "http://web.pcc.gov.tw/tps/main/pms/tps/atm/atmAwardAction.do?newEdit=false&searchMode=common&method=inquiryForPublic&pkAtmMain=51835149&tenderCaseNo=105B01\n",
      "http://web.pcc.gov.tw/tps/main/pms/tps/atm/atmAwardAction.do?newEdit=false&searchMode=common&method=inquiryForPublic&pkAtmMain=51835150&tenderCaseNo=105TFDA-DF-029\n",
      "http://web.pcc.gov.tw/tps/main/pms/tps/atm/atmAwardAction.do?newEdit=false&searchMode=common&method=inquiryForPublic&pkAtmMain=51835151&tenderCaseNo=105TFDA-DF-027\n",
      "http://web.pcc.gov.tw/tps/main/pms/tps/atm/atmAwardAction.do?newEdit=false&searchMode=common&method=inquiryForPublic&pkAtmMain=51835152&tenderCaseNo=105TFDA-AC-129\n",
      "http://web.pcc.gov.tw/tps/main/pms/tps/atm/atmAwardAction.do?newEdit=false&searchMode=common&method=inquiryForPublic&pkAtmMain=51835157&tenderCaseNo=1050414-1\n",
      "http://web.pcc.gov.tw/tps/main/pms/tps/atm/atmAwardAction.do?newEdit=false&searchMode=common&method=inquiryForPublic&pkAtmMain=51835161&tenderCaseNo=10503231\n",
      "http://web.pcc.gov.tw/tps/main/pms/tps/atm/atmAwardAction.do?newEdit=false&searchMode=common&method=inquiryForPublic&pkAtmMain=51835162&tenderCaseNo=NL1050588\n",
      "http://web.pcc.gov.tw/tps/main/pms/tps/atm/atmAwardAction.do?newEdit=false&searchMode=common&method=inquiryForPublic&pkAtmMain=51835166&tenderCaseNo=105S021P\n",
      "http://web.pcc.gov.tw/tps/main/pms/tps/atm/atmAwardAction.do?newEdit=false&searchMode=common&method=inquiryForPublic&pkAtmMain=51835076&tenderCaseNo=10503\n",
      "http://web.pcc.gov.tw/tps/main/pms/tps/atm/atmAwardAction.do?newEdit=false&searchMode=common&method=inquiryForPublic&pkAtmMain=51835169&tenderCaseNo=1050612\n",
      "http://web.pcc.gov.tw/tps/main/pms/tps/atm/atmAwardAction.do?newEdit=false&searchMode=common&method=inquiryForPublic&pkAtmMain=51835079&tenderCaseNo=EO05003L024\n",
      "http://web.pcc.gov.tw/tps/main/pms/tps/atm/atmAwardAction.do?newEdit=false&searchMode=common&method=inquiryForPublic&pkAtmMain=51835084&tenderCaseNo=104A11P005\n",
      "http://web.pcc.gov.tw/tps/main/pms/tps/atm/atmAwardAction.do?newEdit=false&searchMode=common&method=inquiryForPublic&pkAtmMain=51835085&tenderCaseNo=1050717\n",
      "http://web.pcc.gov.tw/tps/main/pms/tps/atm/atmAwardAction.do?newEdit=false&searchMode=common&method=inquiryForPublic&pkAtmMain=51835174&tenderCaseNo=105005\n",
      "http://web.pcc.gov.tw/tps/main/pms/tps/atm/atmAwardAction.do?newEdit=false&searchMode=common&method=inquiryForPublic&pkAtmMain=51835087&tenderCaseNo=105RH052\n",
      "http://web.pcc.gov.tw/tps/main/pms/tps/atm/atmAwardAction.do?newEdit=false&searchMode=common&method=inquiryForPublic&pkAtmMain=51835091&tenderCaseNo=SH1050413\n",
      "http://web.pcc.gov.tw/tps/main/pms/tps/atm/atmAwardAction.do?newEdit=false&searchMode=common&method=inquiryForPublic&pkAtmMain=51835182&tenderCaseNo=1050414A\n",
      "http://web.pcc.gov.tw/tps/main/pms/tps/atm/atmAwardAction.do?newEdit=false&searchMode=common&method=inquiryForPublic&pkAtmMain=51835092&tenderCaseNo=105660D00764\n",
      "http://web.pcc.gov.tw/tps/main/pms/tps/atm/atmAwardAction.do?newEdit=false&searchMode=common&method=inquiryForPublic&pkAtmMain=51835189&tenderCaseNo=1050422\n",
      "http://web.pcc.gov.tw/tps/main/pms/tps/atm/atmAwardAction.do?newEdit=false&searchMode=common&method=inquiryForPublic&pkAtmMain=51835191&tenderCaseNo=1050422-1\n",
      "http://web.pcc.gov.tw/tps/main/pms/tps/atm/atmAwardAction.do?newEdit=false&searchMode=common&method=inquiryForPublic&pkAtmMain=51835198&tenderCaseNo=10504\n",
      "http://web.pcc.gov.tw/tps/main/pms/tps/atm/atmAwardAction.do?newEdit=false&searchMode=common&method=inquiryForPublic&pkAtmMain=51835215&tenderCaseNo=NKHHS1522-10504\n",
      "http://web.pcc.gov.tw/tps/main/pms/tps/atm/atmAwardAction.do?newEdit=false&searchMode=common&method=inquiryForPublic&pkAtmMain=51835175&tenderCaseNo=1050222SC002\n",
      "http://web.pcc.gov.tw/tps/main/pms/tps/atm/atmAwardAction.do?newEdit=false&searchMode=common&method=inquiryForPublic&pkAtmMain=51835223&tenderCaseNo=1050030840\n",
      "http://web.pcc.gov.tw/tps/main/pms/tps/atm/atmAwardAction.do?newEdit=false&searchMode=common&method=inquiryForPublic&pkAtmMain=51835233&tenderCaseNo=M05C2271\n",
      "http://web.pcc.gov.tw/tps/main/pms/tps/atm/atmAwardAction.do?newEdit=false&searchMode=common&method=inquiryForPublic&pkAtmMain=51835247&tenderCaseNo=105-04-12\n",
      "http://web.pcc.gov.tw/tps/main/pms/tps/atm/atmAwardAction.do?newEdit=false&searchMode=common&method=inquiryForPublic&pkAtmMain=51835248&tenderCaseNo=105S035\n",
      "http://web.pcc.gov.tw/tps/main/pms/tps/atm/atmAwardAction.do?newEdit=false&searchMode=common&method=inquiryForPublic&pkAtmMain=51835696&tenderCaseNo=1050421\n",
      "http://web.pcc.gov.tw/tps/main/pms/tps/atm/atmAwardAction.do?newEdit=false&searchMode=common&method=inquiryForPublic&pkAtmMain=51835271&tenderCaseNo=105-0430-1-034\n",
      "http://web.pcc.gov.tw/tps/main/pms/tps/atm/atmAwardAction.do?newEdit=false&searchMode=common&method=inquiryForPublic&pkAtmMain=51835273&tenderCaseNo=105EX0028\n",
      "http://web.pcc.gov.tw/tps/main/pms/tps/atm/atmAwardAction.do?newEdit=false&searchMode=common&method=inquiryForPublic&pkAtmMain=51835715&tenderCaseNo=10503\n",
      "http://web.pcc.gov.tw/tps/main/pms/tps/atm/atmAwardAction.do?newEdit=false&searchMode=common&method=inquiryForPublic&pkAtmMain=51835717&tenderCaseNo=105-022\n",
      "http://web.pcc.gov.tw/tps/main/pms/tps/atm/atmAwardAction.do?newEdit=false&searchMode=common&method=inquiryForPublic&pkAtmMain=51835727&tenderCaseNo=10504190850\n",
      "http://web.pcc.gov.tw/tps/main/pms/tps/atm/atmAwardAction.do?newEdit=false&searchMode=common&method=inquiryForPublic&pkAtmMain=51835280&tenderCaseNo=1050025727\n",
      "http://web.pcc.gov.tw/tps/main/pms/tps/atm/atmAwardAction.do?newEdit=false&searchMode=common&method=inquiryForPublic&pkAtmMain=51835729&tenderCaseNo=133-105-B083\n",
      "http://web.pcc.gov.tw/tps/main/pms/tps/atm/atmAwardAction.do?newEdit=false&searchMode=common&method=inquiryForPublic&pkAtmMain=51835730&tenderCaseNo=10511\n",
      "http://web.pcc.gov.tw/tps/main/pms/tps/atm/atmAwardAction.do?newEdit=false&searchMode=common&method=inquiryForPublic&pkAtmMain=51835282&tenderCaseNo=L0205P1050V\n",
      "http://web.pcc.gov.tw/tps/main/pms/tps/atm/atmAwardAction.do?newEdit=false&searchMode=common&method=inquiryForPublic&pkAtmMain=51835739&tenderCaseNo=A102\n",
      "http://web.pcc.gov.tw/tps/main/pms/tps/atm/atmAwardAction.do?newEdit=false&searchMode=common&method=inquiryForPublic&pkAtmMain=51835743&tenderCaseNo=10421-1\n",
      "http://web.pcc.gov.tw/tps/main/pms/tps/atm/atmAwardAction.do?newEdit=false&searchMode=common&method=inquiryForPublic&pkAtmMain=51835292&tenderCaseNo=105B03P025\n",
      "http://web.pcc.gov.tw/tps/main/pms/tps/atm/atmAwardAction.do?newEdit=false&searchMode=common&method=inquiryForPublic&pkAtmMain=51835745&tenderCaseNo=105039\n",
      "http://web.pcc.gov.tw/tps/main/pms/tps/atm/atmAwardAction.do?newEdit=false&searchMode=common&method=inquiryForPublic&pkAtmMain=51835296&tenderCaseNo=1020300044-1\n",
      "http://web.pcc.gov.tw/tps/main/pms/tps/atm/atmAwardAction.do?newEdit=false&searchMode=common&method=inquiryForPublic&pkAtmMain=51835752&tenderCaseNo=1050411D1\n",
      "http://web.pcc.gov.tw/tps/main/pms/tps/atm/atmAwardAction.do?newEdit=false&searchMode=common&method=inquiryForPublic&pkAtmMain=51835756&tenderCaseNo=105406A029\n",
      "http://web.pcc.gov.tw/tps/main/pms/tps/atm/atmAwardAction.do?newEdit=false&searchMode=common&method=inquiryForPublic&pkAtmMain=51237919&tenderCaseNo=103006L\n",
      "http://web.pcc.gov.tw/tps/main/pms/tps/atm/atmAwardAction.do?newEdit=false&searchMode=common&method=inquiryForPublic&pkAtmMain=51835767&tenderCaseNo=105S001\n",
      "http://web.pcc.gov.tw/tps/main/pms/tps/atm/atmAwardAction.do?newEdit=false&searchMode=common&method=inquiryForPublic&pkAtmMain=51835791&tenderCaseNo=1050331\n",
      "http://web.pcc.gov.tw/tps/main/pms/tps/atm/atmAwardAction.do?newEdit=false&searchMode=common&method=inquiryForPublic&pkAtmMain=51835792&tenderCaseNo=105040503\n",
      "http://web.pcc.gov.tw/tps/main/pms/tps/atm/atmAwardAction.do?newEdit=false&searchMode=common&method=inquiryForPublic&pkAtmMain=51835101&tenderCaseNo=105-5-311\n",
      "http://web.pcc.gov.tw/tps/main/pms/tps/atm/atmAwardAction.do?newEdit=false&searchMode=common&method=inquiryForPublic&pkAtmMain=51835307&tenderCaseNo=YG10507\n",
      "http://web.pcc.gov.tw/tps/main/pms/tps/atm/atmAwardAction.do?newEdit=false&searchMode=common&method=inquiryForPublic&pkAtmMain=51835808&tenderCaseNo=105-02\n",
      "http://web.pcc.gov.tw/tps/main/pms/tps/atm/atmAwardAction.do?newEdit=false&searchMode=common&method=inquiryForPublic&pkAtmMain=51835311&tenderCaseNo=1050020688\n",
      "http://web.pcc.gov.tw/tps/main/pms/tps/atm/atmAwardAction.do?newEdit=false&searchMode=common&method=inquiryForPublic&pkAtmMain=51835312&tenderCaseNo=105C004\n",
      "http://web.pcc.gov.tw/tps/main/pms/tps/atm/atmAwardAction.do?newEdit=false&searchMode=common&method=inquiryForPublic&pkAtmMain=51835818&tenderCaseNo=105S003\n",
      "http://web.pcc.gov.tw/tps/main/pms/tps/atm/atmAwardAction.do?newEdit=false&searchMode=common&method=inquiryForPublic&pkAtmMain=51835819&tenderCaseNo=105011\n",
      "http://web.pcc.gov.tw/tps/main/pms/tps/atm/atmAwardAction.do?newEdit=false&searchMode=common&method=inquiryForPublic&pkAtmMain=51835822&tenderCaseNo=PR-1050425\n",
      "http://web.pcc.gov.tw/tps/main/pms/tps/atm/atmAwardAction.do?newEdit=false&searchMode=common&method=inquiryForPublic&pkAtmMain=51835824&tenderCaseNo=1050325\n",
      "http://web.pcc.gov.tw/tps/main/pms/tps/atm/atmAwardAction.do?newEdit=false&searchMode=common&method=inquiryForPublic&pkAtmMain=51835832&tenderCaseNo=105-06\n",
      "http://web.pcc.gov.tw/tps/main/pms/tps/atm/atmAwardAction.do?newEdit=false&searchMode=common&method=inquiryForPublic&pkAtmMain=51835835&tenderCaseNo=3510500100\n",
      "http://web.pcc.gov.tw/tps/main/pms/tps/atm/atmAwardAction.do?newEdit=false&searchMode=common&method=inquiryForPublic&pkAtmMain=51835841&tenderCaseNo=1054B023\n",
      "http://web.pcc.gov.tw/tps/main/pms/tps/atm/atmAwardAction.do?newEdit=false&searchMode=common&method=inquiryForPublic&pkAtmMain=51835842&tenderCaseNo=105302\n",
      "http://web.pcc.gov.tw/tps/main/pms/tps/atm/atmAwardAction.do?newEdit=false&searchMode=common&method=inquiryForPublic&pkAtmMain=51835844&tenderCaseNo=1130500004\n",
      "http://web.pcc.gov.tw/tps/main/pms/tps/atm/atmAwardAction.do?newEdit=false&searchMode=common&method=inquiryForPublic&pkAtmMain=51833843&tenderCaseNo=1041111SC006\n",
      "http://web.pcc.gov.tw/tps/main/pms/tps/atm/atmAwardAction.do?newEdit=false&searchMode=common&method=inquiryForPublic&pkAtmMain=51833987&tenderCaseNo=MGF0550001\n",
      "http://web.pcc.gov.tw/tps/main/pms/tps/atm/atmAwardAction.do?newEdit=false&searchMode=common&method=inquiryForPublic&pkAtmMain=51835320&tenderCaseNo=31588-b10509\n",
      "http://web.pcc.gov.tw/tps/main/pms/tps/atm/atmAwardAction.do?newEdit=false&searchMode=common&method=inquiryForPublic&pkAtmMain=51834505&tenderCaseNo=1050420\n",
      "http://web.pcc.gov.tw/tps/main/pms/tps/atm/atmAwardAction.do?newEdit=false&searchMode=common&method=inquiryForPublic&pkAtmMain=51834621&tenderCaseNo=HE105033001\n",
      "http://web.pcc.gov.tw/tps/main/pms/tps/atm/atmAwardAction.do?newEdit=false&searchMode=common&method=inquiryForPublic&pkAtmMain=51835868&tenderCaseNo=10506\n",
      "http://web.pcc.gov.tw/tps/main/pms/tps/atm/atmAwardAction.do?newEdit=false&searchMode=common&method=inquiryForPublic&pkAtmMain=51835870&tenderCaseNo=105Y067\n",
      "http://web.pcc.gov.tw/tps/main/pms/tps/atm/atmAwardAction.do?newEdit=false&searchMode=common&method=inquiryForPublic&pkAtmMain=51835872&tenderCaseNo=Po105ca06\n",
      "http://web.pcc.gov.tw/tps/main/pms/tps/atm/atmAwardAction.do?newEdit=false&searchMode=common&method=inquiryForPublic&pkAtmMain=51835326&tenderCaseNo=V10409004\n",
      "http://web.pcc.gov.tw/tps/main/pms/tps/atm/atmAwardAction.do?newEdit=false&searchMode=common&method=inquiryForPublic&pkAtmMain=51835328&tenderCaseNo=AEA0506071\n",
      "http://web.pcc.gov.tw/tps/main/pms/tps/atm/atmAwardAction.do?newEdit=false&searchMode=common&method=inquiryForPublic&pkAtmMain=51835770&tenderCaseNo=105Y066\n",
      "http://web.pcc.gov.tw/tps/main/pms/tps/atm/atmAwardAction.do?newEdit=false&searchMode=common&method=inquiryForPublic&pkAtmMain=51835874&tenderCaseNo=5460500007\n"
     ]
    }
   ],
   "source": [
    "urlformat = 'http://web.pcc.gov.tw/tps/pss/tender.do?searchMode=common&searchType=advance&searchTarget=ATM&method=search&isSpdt=&pageIndex={}'\n",
    "url = urlformat.format(1)\n",
    "res2 = rs.get(url)\n",
    "soup2 = BeautifulSoup(res2.text)\n",
    "print_area = soup2.select('#print_area')[0]\n",
    "#print len(print_area.select('tr'))\n",
    "for tr in print_area.select('tr')[1:-1]:\n",
    "    #print tr.select('a')[0]\n",
    "    print 'http://web.pcc.gov.tw/tps' +tr.select('a')[0]['href'][2:]\n",
    "    #print res2.text"
   ]
  },
  {
   "cell_type": "code",
   "execution_count": 47,
   "metadata": {
    "collapsed": false
   },
   "outputs": [],
   "source": [
    "f = open('test.txt', 'w')\n",
    "f.write('123')\n",
    "f.close()\n",
    "\n",
    "with open('test.txt', 'w') as f:\n",
    "    f.write('456')"
   ]
  },
  {
   "cell_type": "code",
   "execution_count": 48,
   "metadata": {
    "collapsed": true
   },
   "outputs": [],
   "source": [
    "urlformat = 'http://web.pcc.gov.tw/tps/pss/tender.do?searchMode=common&searchType=advance&searchTarget=ATM&method=search&isSpdt=&pageIndex={}'\n",
    "url = urlformat.format(1)\n",
    "res2 = rs.get(url)\n",
    "soup2 = BeautifulSoup(res2.text)\n",
    "print_area = soup2.select('#print_area')[0]\n",
    "with open('bid_list.txt','w') as f:\n",
    "    for tr in print_area.select('tr')[1:-1]:        \n",
    "        f.write('http://web.pcc.gov.tw/tps' +tr.select('a')[0]['href'][2:] + '\\n')"
   ]
  },
  {
   "cell_type": "code",
   "execution_count": 52,
   "metadata": {
    "collapsed": true
   },
   "outputs": [],
   "source": [
    "import requests\n",
    "from bs4 import BeautifulSoup\n",
    "import math\n",
    "\n",
    "payload={\n",
    "'method':'search',\n",
    "'searchMethod':'true',\n",
    "'searchTarget':'ATM',\n",
    "'orgName':'',\n",
    "'orgId':'',\n",
    "'hid_1':'1',\n",
    "'tenderName':'',\n",
    "'tenderId':'',\n",
    "'tenderStatus':'4,5,21,29',\n",
    "'tenderWay':'',\n",
    "'awardAnnounceStartDate':'105/05/04',\n",
    "'awardAnnounceEndDate':'105/05/04',\n",
    "'proctrgCate':'3',\n",
    "'radProctrgCate':'3',\n",
    "'tenderRange':'',\n",
    "'minBudget':'',\n",
    "'maxBudget':'',\n",
    "'item':'',\n",
    "'hid_2':'1',\n",
    "'gottenVendorName':'',\n",
    "'gottenVendorId':'',\n",
    "'hid_3':'1',\n",
    "'submitVendorName':'',\n",
    "'submitVendorId':'',\n",
    "'location':'',\n",
    "'priorityCate':'',\n",
    "'isReConstruct':'',\n",
    "'btnQuery':'查詢'    \n",
    "}\n",
    "rs = requests.session()\n",
    "res = rs.post('http://web.pcc.gov.tw/tps/pss/tender.do?searchMode=common&searchType=advance', data=payload)\n",
    "\n",
    "soup = BeautifulSoup(res.text)\n",
    "recnumber = int(soup.select('.T11b')[0].text)\n",
    "pagenumber = int(math.ceil(float(recnumber) / 100))"
   ]
  },
  {
   "cell_type": "code",
   "execution_count": 55,
   "metadata": {
    "collapsed": false
   },
   "outputs": [],
   "source": [
    "urlformat = 'http://web.pcc.gov.tw/tps/pss/tender.do?searchMode=common&searchType=advance&searchTarget=ATM&method=search&isSpdt=&pageIndex={}'\n",
    "with open('bid_list.txt','w') as f:\n",
    "    for i in range(1, pagenumber + 1):\n",
    "        url = urlformat.format(i)\n",
    "        res2 = rs.get(url)\n",
    "        soup2 = BeautifulSoup(res2.text)\n",
    "        print_area = soup2.select('#print_area')[0]\n",
    "        for tr in print_area.select('tr')[1:-1]:        \n",
    "            f.write('http://web.pcc.gov.tw/tps' +tr.select('a')[0]['href'][2:] + '\\n')"
   ]
  },
  {
   "cell_type": "markdown",
   "metadata": {},
   "source": [
    "## 抓取清單完整版"
   ]
  },
  {
   "cell_type": "markdown",
   "metadata": {},
   "source": [
    "### 引用Package"
   ]
  },
  {
   "cell_type": "code",
   "execution_count": 1,
   "metadata": {
    "collapsed": true
   },
   "outputs": [],
   "source": [
    "import requests\n",
    "from bs4 import BeautifulSoup\n",
    "import math"
   ]
  },
  {
   "cell_type": "markdown",
   "metadata": {},
   "source": [
    "### 設定查詢條件"
   ]
  },
  {
   "cell_type": "code",
   "execution_count": 2,
   "metadata": {
    "collapsed": false
   },
   "outputs": [
    {
     "name": "stderr",
     "output_type": "stream",
     "text": [
      "C:\\Anaconda2\\lib\\site-packages\\bs4\\__init__.py:166: UserWarning: No parser was explicitly specified, so I'm using the best available HTML parser for this system (\"lxml\"). This usually isn't a problem, but if you run this code on another system, or in a different virtual environment, it may use a different parser and behave differently.\n",
      "\n",
      "To get rid of this warning, change this:\n",
      "\n",
      " BeautifulSoup([your markup])\n",
      "\n",
      "to this:\n",
      "\n",
      " BeautifulSoup([your markup], \"lxml\")\n",
      "\n",
      "  markup_type=markup_type))\n"
     ]
    }
   ],
   "source": [
    "payload={\n",
    "'method':'search',\n",
    "'searchMethod':'true',\n",
    "'searchTarget':'ATM',\n",
    "'orgName':'',\n",
    "'orgId':'',\n",
    "'hid_1':'1',\n",
    "'tenderName':'',\n",
    "'tenderId':'',\n",
    "'tenderStatus':'4,5,21,29',\n",
    "'tenderWay':'',\n",
    "'awardAnnounceStartDate':'105/05/04',\n",
    "'awardAnnounceEndDate':'105/05/04',\n",
    "'proctrgCate':'3',\n",
    "'radProctrgCate':'3',\n",
    "'tenderRange':'',\n",
    "'minBudget':'',\n",
    "'maxBudget':'',\n",
    "'item':'',\n",
    "'hid_2':'1',\n",
    "'gottenVendorName':'',\n",
    "'gottenVendorId':'',\n",
    "'hid_3':'1',\n",
    "'submitVendorName':'',\n",
    "'submitVendorId':'',\n",
    "'location':'',\n",
    "'priorityCate':'',\n",
    "'isReConstruct':'',\n",
    "'btnQuery':'查詢'    \n",
    "}\n",
    "rs = requests.session()\n",
    "res = rs.post('http://web.pcc.gov.tw/tps/pss/tender.do?searchMode=common&searchType=advance', data=payload)\n",
    "soup = BeautifulSoup(res.text)"
   ]
  },
  {
   "cell_type": "markdown",
   "metadata": {},
   "source": [
    "### 計算抓取頁數"
   ]
  },
  {
   "cell_type": "code",
   "execution_count": 3,
   "metadata": {
    "collapsed": true
   },
   "outputs": [],
   "source": [
    "recnumber = int(soup.select('.T11b')[0].text)\n",
    "pagenumber = int(math.ceil(float(recnumber) / 100))"
   ]
  },
  {
   "cell_type": "markdown",
   "metadata": {},
   "source": [
    "### 將標案連結存入檔案之中"
   ]
  },
  {
   "cell_type": "code",
   "execution_count": 4,
   "metadata": {
    "collapsed": true
   },
   "outputs": [],
   "source": [
    "urlformat = 'http://web.pcc.gov.tw/tps/pss/tender.do?searchMode=common&searchType=advance&searchTarget=ATM&method=search&isSpdt=&pageIndex={}'\n",
    "with open('bid_list.txt','w') as f:\n",
    "    for i in range(1, pagenumber + 1):\n",
    "        url = urlformat.format(i)\n",
    "        res2 = rs.get(url)\n",
    "        soup2 = BeautifulSoup(res2.text)\n",
    "        print_area = soup2.select('#print_area')[0]\n",
    "        for tr in print_area.select('tr')[1:-1]:        \n",
    "            f.write('http://web.pcc.gov.tw/tps' +tr.select('a')[0]['href'][2:] + '\\n')"
   ]
  },
  {
   "cell_type": "markdown",
   "metadata": {},
   "source": [
    "## 字典範例"
   ]
  },
  {
   "cell_type": "code",
   "execution_count": 68,
   "metadata": {
    "collapsed": false
   },
   "outputs": [
    {
     "name": "stdout",
     "output_type": "stream",
     "text": [
      "{'a': 3, 'c': 1, 'b': 2, 'd': 1}\n",
      "['a', 'c', 'b', 'd']\n",
      "[3, 1, 2, 1]\n",
      "[('a', 3), ('c', 1), ('b', 2), ('d', 1)]\n",
      "[('c', 1), ('d', 1), ('b', 2), ('a', 3)]\n",
      "[('a', 3), ('b', 2), ('c', 1), ('d', 1)]\n"
     ]
    }
   ],
   "source": [
    "ary = ['a', 'b', 'a', 'c', 'a', 'b', 'd']\n",
    "dic = {}\n",
    "for ele in ary:\n",
    "    if ele not in dic:\n",
    "        dic[ele] = 1\n",
    "    else:\n",
    "        dic[ele] = dic[ele] + 1\n",
    "print dic\n",
    "\n",
    "print dic.keys()\n",
    "print dic.values()\n",
    "print dic.items()\n",
    "\n",
    "import operator\n",
    "swd = sorted(dic.items(), key = operator.itemgetter(1) )\n",
    "print swd\n",
    "\n",
    "swd = sorted(dic.items(), key = operator.itemgetter(1), reverse=True )\n",
    "print swd"
   ]
  },
  {
   "cell_type": "markdown",
   "metadata": {},
   "source": [
    "## Colection\n",
    "- https://docs.python.org/2/library/collections.html"
   ]
  },
  {
   "cell_type": "code",
   "execution_count": 71,
   "metadata": {
    "collapsed": false
   },
   "outputs": [
    {
     "name": "stdout",
     "output_type": "stream",
     "text": [
      "Counter({'a': 3, 'b': 2, 'c': 1, 'd': 1})\n",
      "[('a', 3), ('b', 2), ('c', 1)]\n",
      "[('a', 3), ('b', 2)]\n"
     ]
    }
   ],
   "source": [
    "ary = ['a', 'b', 'a', 'c', 'a', 'b', 'd']\n",
    "c = Counter()\n",
    "for ele in ary:\n",
    "    c[ele] += 1\n",
    "print c\n",
    "print c.most_common(3)\n",
    "print c.most_common(2)"
   ]
  },
  {
   "cell_type": "markdown",
   "metadata": {},
   "source": [
    "## 炸雞昌名言"
   ]
  },
  {
   "cell_type": "code",
   "execution_count": null,
   "metadata": {
    "collapsed": false
   },
   "outputs": [],
   "source": [
    "import requests\n",
    "ACCESSTOKEN = 'EAACEdEose0cBADFyYO7sHrwXsSXpizjBL2vyzGrdYwMWgMbRIistK1ZAIfWTGIfUZCE93LslqHQqIsa7EBZCs37cZC5Kb9BSPwDTOMKKm1ppyzKWqWZBbv8g1ExDGw1fa1bh3ZAYcGIrpsfLSWV77yEj7VB9okLGIid3ddiptPZBgZDZD'\n",
    "res = requests.get('https://graph.facebook.com/kcfor2016/posts?access_token={}'.format(ACCESSTOKEN))\n",
    "print res.text"
   ]
  },
  {
   "cell_type": "code",
   "execution_count": 3,
   "metadata": {
    "collapsed": false
   },
   "outputs": [
    {
     "ename": "KeyError",
     "evalue": "'data'",
     "output_type": "error",
     "traceback": [
      "\u001b[1;31m---------------------------------------------------------------------------\u001b[0m",
      "\u001b[1;31mKeyError\u001b[0m                                  Traceback (most recent call last)",
      "\u001b[1;32m<ipython-input-3-c5553f19ccf7>\u001b[0m in \u001b[0;36m<module>\u001b[1;34m()\u001b[0m\n\u001b[0;32m      5\u001b[0m \u001b[1;33m\u001b[0m\u001b[0m\n\u001b[0;32m      6\u001b[0m \u001b[0mjd\u001b[0m \u001b[1;33m=\u001b[0m \u001b[0mjson\u001b[0m\u001b[1;33m.\u001b[0m\u001b[0mloads\u001b[0m\u001b[1;33m(\u001b[0m\u001b[0mres\u001b[0m\u001b[1;33m.\u001b[0m\u001b[0mtext\u001b[0m\u001b[1;33m)\u001b[0m\u001b[1;33m\u001b[0m\u001b[0m\n\u001b[1;32m----> 7\u001b[1;33m \u001b[1;32mfor\u001b[0m \u001b[0mpost\u001b[0m \u001b[1;32min\u001b[0m \u001b[0mjd\u001b[0m\u001b[1;33m[\u001b[0m\u001b[1;34m'data'\u001b[0m\u001b[1;33m]\u001b[0m\u001b[1;33m:\u001b[0m\u001b[1;33m\u001b[0m\u001b[0m\n\u001b[0m\u001b[0;32m      8\u001b[0m     \u001b[1;32mif\u001b[0m \u001b[1;34m'message'\u001b[0m \u001b[1;32min\u001b[0m \u001b[0mpost\u001b[0m\u001b[1;33m:\u001b[0m\u001b[1;33m\u001b[0m\u001b[0m\n\u001b[0;32m      9\u001b[0m         \u001b[1;32mprint\u001b[0m \u001b[0mmessage\u001b[0m\u001b[1;33m\u001b[0m\u001b[0m\n",
      "\u001b[1;31mKeyError\u001b[0m: 'data'"
     ]
    }
   ],
   "source": [
    "# pip install jieba\n",
    "\n",
    "import json\n",
    "import jieba\n",
    "\n",
    "jd = json.loads(res.text)\n",
    "for post in jd['data']:\n",
    "    if 'message' in post:\n",
    "        print message\n"
   ]
  },
  {
   "cell_type": "code",
   "execution_count": 81,
   "metadata": {
    "collapsed": false
   },
   "outputs": [
    {
     "name": "stdout",
     "output_type": "stream",
     "text": [
      "，\n",
      "\n",
      "\n",
      "的\n",
      "。\n",
      "/\n",
      "是\n",
      "在\n",
      " \n",
      "、\n",
      "「\n"
     ]
    }
   ],
   "source": [
    "for t in c.most_common(10):\n",
    "    print t[0]"
   ]
  },
  {
   "cell_type": "code",
   "execution_count": 84,
   "metadata": {
    "collapsed": false
   },
   "outputs": [
    {
     "name": "stdout",
     "output_type": "stream",
     "text": [
      "立法 31\n",
      "工資 29\n",
      "最低 28\n",
      "http 21\n",
      "gl 19\n",
      "基本 19\n",
      "goo 19\n",
      "勞工 19\n",
      "審議 16\n",
      "保障 15\n",
      "汐止 15\n",
      "問題 15\n",
      "2016 14\n",
      "相關 14\n",
      "政府 14\n",
      "制定 13\n",
      "法務部 13\n",
      "未來 12\n",
      "委員黃國昌 12\n",
      "台灣 12\n",
      "我們 11\n",
      "質詢 10\n",
      "中國 10\n",
      "權益 10\n",
      "04 10\n",
      "生活 10\n",
      "表示 10\n",
      "法律 10\n",
      "課綱 9\n",
      "提供 9\n"
     ]
    }
   ],
   "source": [
    "# pip install jieba\n",
    "\n",
    "import json\n",
    "import jieba\n",
    "c = Counter()\n",
    "jd = json.loads(res.text)\n",
    "for post in jd['data']:\n",
    "    if 'message' in post:\n",
    "        for w in jieba.cut(post['message']):\n",
    "            if len(w) >=2:\n",
    "                c[w] +=1\n",
    "for t in c.most_common(30):\n",
    "    print t[0], t[1]"
   ]
  },
  {
   "cell_type": "markdown",
   "metadata": {},
   "source": [
    "### Tableau\n",
    "- https://public.tableau.com/s/"
   ]
  },
  {
   "cell_type": "markdown",
   "metadata": {},
   "source": [
    "## 計算標案連結數量"
   ]
  },
  {
   "cell_type": "code",
   "execution_count": 86,
   "metadata": {
    "collapsed": false
   },
   "outputs": [
    {
     "name": "stdout",
     "output_type": "stream",
     "text": [
      "262\n"
     ]
    }
   ],
   "source": [
    "cnt = 0\n",
    "for line in open('bid_list.txt', 'r'):\n",
    "    #print line\n",
    "    cnt +=1\n",
    "print cnt"
   ]
  },
  {
   "cell_type": "code",
   "execution_count": 87,
   "metadata": {
    "collapsed": false
   },
   "outputs": [
    {
     "name": "stdout",
     "output_type": "stream",
     "text": [
      "262\n"
     ]
    }
   ],
   "source": [
    "print len([line for line in open('bid_list.txt', 'r')])"
   ]
  },
  {
   "cell_type": "code",
   "execution_count": 88,
   "metadata": {
    "collapsed": false
   },
   "outputs": [
    {
     "name": "stdout",
     "output_type": "stream",
     "text": [
      "262\n"
     ]
    }
   ],
   "source": [
    "ary = []\n",
    "for line in open('bid_list.txt', 'r'):\n",
    "    ary.append(line)\n",
    "print len(ary)"
   ]
  },
  {
   "cell_type": "code",
   "execution_count": 100,
   "metadata": {
    "collapsed": false
   },
   "outputs": [],
   "source": [
    "from bs4 import BeautifulSoup\n",
    "for bid_url in open('bid_list.txt', 'r'):\n",
    "    pass\n",
    "    #bid_detail = requests.get(bid_url.strip())\n",
    "    #soup = BeautifulSoup(bid_detail.text)\n",
    "    #print soup.select('#printArea')"
   ]
  },
  {
   "cell_type": "code",
   "execution_count": 98,
   "metadata": {
    "collapsed": false
   },
   "outputs": [
    {
     "name": "stdout",
     "output_type": "stream",
     "text": [
      "['http://web.pcc.gov.tw/tps/main/pms/tps/atm/atmAwardAction.do?newEdit=false&searchMode=common&method=inquiryForPublic&', '51836902&tenderCaseNo=IAC10501']\n",
      "['51836902', 'IAC10501']\n",
      "51836902\n",
      "IAC10501\n"
     ]
    }
   ],
   "source": [
    "a = 'http://web.pcc.gov.tw/tps/main/pms/tps/atm/atmAwardAction.do?newEdit=false&searchMode=common&method=inquiryForPublic&pkAtmMain=51836902&tenderCaseNo=IAC10501'\n",
    "rearstring = a.split('pkAtmMain=')\n",
    "print rearstring\n",
    "print rearstring[1].split('&tenderCaseNo=')\n",
    "pkatmmain, caseno = rearstring[1].split('&tenderCaseNo=')\n",
    "print pkatmmain\n",
    "print caseno"
   ]
  },
  {
   "cell_type": "code",
   "execution_count": 104,
   "metadata": {
    "collapsed": false
   },
   "outputs": [
    {
     "name": "stdout",
     "output_type": "stream",
     "text": [
      "http://web.pcc.gov.tw/tps/main/pms/tps/atm/atmAwardAction.do?newEdit=false&searchMode=common&method=inquiryForPublic&pkAtmMain=51835715&tenderCaseNo=10503\n",
      "http://web.pcc.gov.tw/tps/main/pms/tps/atm/atmAwardAction.do?newEdit=false&searchMode=common&method=inquiryForPublic&pkAtmMain=51835076&tenderCaseNo=10503\n",
      "\n",
      "http://web.pcc.gov.tw/tps/main/pms/tps/atm/atmAwardAction.do?newEdit=false&searchMode=common&method=inquiryForPublic&pkAtmMain=51835683&tenderCaseNo=10503\n",
      "http://web.pcc.gov.tw/tps/main/pms/tps/atm/atmAwardAction.do?newEdit=false&searchMode=common&method=inquiryForPublic&pkAtmMain=51835076&tenderCaseNo=10503\n",
      "\n",
      "http://web.pcc.gov.tw/tps/main/pms/tps/atm/atmAwardAction.do?newEdit=false&searchMode=common&method=inquiryForPublic&pkAtmMain=51836198&tenderCaseNo=1050414-1\n",
      "http://web.pcc.gov.tw/tps/main/pms/tps/atm/atmAwardAction.do?newEdit=false&searchMode=common&method=inquiryForPublic&pkAtmMain=51835157&tenderCaseNo=1050414-1\n",
      "\n",
      "http://web.pcc.gov.tw/tps/main/pms/tps/atm/atmAwardAction.do?newEdit=false&searchMode=common&method=inquiryForPublic&pkAtmMain=51836264&tenderCaseNo=105010\n",
      "http://web.pcc.gov.tw/tps/main/pms/tps/atm/atmAwardAction.do?newEdit=false&searchMode=common&method=inquiryForPublic&pkAtmMain=51836029&tenderCaseNo=105010\n",
      "\n"
     ]
    }
   ],
   "source": [
    "from bs4 import BeautifulSoup\n",
    "dic = {}\n",
    "for bid_url in open('bid_list.txt', 'r'):\n",
    "    rearstring = bid_url.split('pkAtmMain=')\n",
    "    pkatmmain, caseno = rearstring[1].split('&tenderCaseNo=')\n",
    "    if caseno not in dic:\n",
    "        dic[caseno] = bid_url\n",
    "    else:\n",
    "        print bid_url, dic[caseno]"
   ]
  },
  {
   "cell_type": "code",
   "execution_count": 105,
   "metadata": {
    "collapsed": true
   },
   "outputs": [],
   "source": [
    "from bs4 import BeautifulSoup\n",
    "dic = {}\n",
    "for bid_url in open('bid_list.txt', 'r'):\n",
    "    rearstring = bid_url.split('pkAtmMain=')\n",
    "    pkatmmain, caseno = rearstring[1].split('&tenderCaseNo=')\n",
    "    if pkatmmain not in dic:\n",
    "        dic[pkatmmain] = bid_url\n",
    "    else:\n",
    "        print bid_url, dic[pkatmmain]"
   ]
  },
  {
   "cell_type": "code",
   "execution_count": 110,
   "metadata": {
    "collapsed": false
   },
   "outputs": [
    {
     "name": "stdout",
     "output_type": "stream",
     "text": [
      "<class 'bs4.element.Tag'>\n"
     ]
    },
    {
     "ename": "TypeError",
     "evalue": "expected a string or other character buffer object",
     "output_type": "error",
     "traceback": [
      "\u001b[1;31m---------------------------------------------------------------------------\u001b[0m",
      "\u001b[1;31mTypeError\u001b[0m                                 Traceback (most recent call last)",
      "\u001b[1;32m<ipython-input-110-b39f3e974e67>\u001b[0m in \u001b[0;36m<module>\u001b[1;34m()\u001b[0m\n\u001b[0;32m     11\u001b[0m     \u001b[1;32mwith\u001b[0m \u001b[0mopen\u001b[0m\u001b[1;33m(\u001b[0m\u001b[1;34m'{}.txt'\u001b[0m\u001b[1;33m.\u001b[0m\u001b[0mformat\u001b[0m\u001b[1;33m(\u001b[0m\u001b[0mpkatmmain\u001b[0m\u001b[1;33m)\u001b[0m\u001b[1;33m,\u001b[0m \u001b[1;34m'w'\u001b[0m\u001b[1;33m)\u001b[0m \u001b[1;32mas\u001b[0m \u001b[0mf\u001b[0m\u001b[1;33m:\u001b[0m\u001b[1;33m\u001b[0m\u001b[0m\n\u001b[0;32m     12\u001b[0m         \u001b[1;32mprint\u001b[0m \u001b[0mtype\u001b[0m\u001b[1;33m(\u001b[0m\u001b[0mprintarea\u001b[0m\u001b[1;33m[\u001b[0m\u001b[1;36m0\u001b[0m\u001b[1;33m]\u001b[0m\u001b[1;33m)\u001b[0m\u001b[1;33m\u001b[0m\u001b[0m\n\u001b[1;32m---> 13\u001b[1;33m         \u001b[0mf\u001b[0m\u001b[1;33m.\u001b[0m\u001b[0mwrite\u001b[0m\u001b[1;33m(\u001b[0m\u001b[0mprintarea\u001b[0m\u001b[1;33m[\u001b[0m\u001b[1;36m0\u001b[0m\u001b[1;33m]\u001b[0m\u001b[1;33m)\u001b[0m\u001b[1;33m\u001b[0m\u001b[0m\n\u001b[0m",
      "\u001b[1;31mTypeError\u001b[0m: expected a string or other character buffer object"
     ]
    }
   ],
   "source": [
    "from bs4 import BeautifulSoup\n",
    "for bid_url in open('bid_list.txt', 'r'):\n",
    "\n",
    "    bid_detail = requests.get(bid_url.strip())\n",
    "    soup = BeautifulSoup(bid_detail.text)\n",
    "    printarea =  soup.select('#printArea')\n",
    "    \n",
    "    \n",
    "    rearstring = bid_url.split('pkAtmMain=')\n",
    "    pkatmmain, caseno = rearstring[1].split('&tenderCaseNo=')\n",
    "    with open('{}.txt'.format(pkatmmain), 'w') as f:\n",
    "        #print type(printarea)\n",
    "        #f.write(printarea)\n",
    "        print type(printarea[0])\n",
    "        f.write(printarea[0])"
   ]
  },
  {
   "cell_type": "code",
   "execution_count": 5,
   "metadata": {
    "collapsed": false,
    "scrolled": true
   },
   "outputs": [
    {
     "name": "stdout",
     "output_type": "stream",
     "text": [
      "http://web.pcc.gov.tw/tps/main/pms/tps/atm/atmAwardAction.do?newEdit=false&searchMode=common&method=inquiryForPublic&pkAtmMain=51835965&tenderCaseNo=F105-020\n",
      "\n",
      "http://web.pcc.gov.tw/tps/main/pms/tps/atm/atmAwardAction.do?newEdit=false&searchMode=common&method=inquiryForPublic&pkAtmMain=51835242&tenderCaseNo=105Y063\n",
      "\n",
      "http://web.pcc.gov.tw/tps/main/pms/tps/atm/atmAwardAction.do?newEdit=false&searchMode=common&method=inquiryForPublic&pkAtmMain=51835665&tenderCaseNo=105Y065\n",
      "\n",
      "http://web.pcc.gov.tw/tps/main/pms/tps/atm/atmAwardAction.do?newEdit=false&searchMode=common&method=inquiryForPublic&pkAtmMain=51835990&tenderCaseNo=105Y068\n",
      "\n",
      "http://web.pcc.gov.tw/tps/main/pms/tps/atm/atmAwardAction.do?newEdit=false&searchMode=common&method=inquiryForPublic&pkAtmMain=51836130&tenderCaseNo=105Y064\n",
      "\n",
      "http://web.pcc.gov.tw/tps/main/pms/tps/atm/atmAwardAction.do?newEdit=false&searchMode=common&method=inquiryForPublic&pkAtmMain=51837574&tenderCaseNo=GVA2016003\n",
      "\n",
      "http://web.pcc.gov.tw/tps/main/pms/tps/atm/atmAwardAction.do?newEdit=false&searchMode=common&method=inquiryForPublic&pkAtmMain=51837573&tenderCaseNo=1050408-A035\n",
      "\n",
      "http://web.pcc.gov.tw/tps/main/pms/tps/atm/atmAwardAction.do?newEdit=false&searchMode=common&method=inquiryForPublic&pkAtmMain=51837570&tenderCaseNo=1050310-A014\n",
      "\n",
      "http://web.pcc.gov.tw/tps/main/pms/tps/atm/atmAwardAction.do?newEdit=false&searchMode=common&method=inquiryForPublic&pkAtmMain=51837533&tenderCaseNo=105-00010\n",
      "\n",
      "http://web.pcc.gov.tw/tps/main/pms/tps/atm/atmAwardAction.do?newEdit=false&searchMode=common&method=inquiryForPublic&pkAtmMain=51837453&tenderCaseNo=1050411\n",
      "\n",
      "http://web.pcc.gov.tw/tps/main/pms/tps/atm/atmAwardAction.do?newEdit=false&searchMode=common&method=inquiryForPublic&pkAtmMain=51837432&tenderCaseNo=1050022\n",
      "\n",
      "http://web.pcc.gov.tw/tps/main/pms/tps/atm/atmAwardAction.do?newEdit=false&searchMode=common&method=inquiryForPublic&pkAtmMain=51837417&tenderCaseNo=SL-105039\n",
      "\n",
      "http://web.pcc.gov.tw/tps/main/pms/tps/atm/atmAwardAction.do?newEdit=false&searchMode=common&method=inquiryForPublic&pkAtmMain=51837412&tenderCaseNo=105-A06\n",
      "\n",
      "http://web.pcc.gov.tw/tps/main/pms/tps/atm/atmAwardAction.do?newEdit=false&searchMode=common&method=inquiryForPublic&pkAtmMain=51837408&tenderCaseNo=105-00008\n",
      "\n",
      "http://web.pcc.gov.tw/tps/main/pms/tps/atm/atmAwardAction.do?newEdit=false&searchMode=common&method=inquiryForPublic&pkAtmMain=51837368&tenderCaseNo=1050224\n",
      "\n",
      "http://web.pcc.gov.tw/tps/main/pms/tps/atm/atmAwardAction.do?newEdit=false&searchMode=common&method=inquiryForPublic&pkAtmMain=51837361&tenderCaseNo=SL-105038\n",
      "\n",
      "http://web.pcc.gov.tw/tps/main/pms/tps/atm/atmAwardAction.do?newEdit=false&searchMode=common&method=inquiryForPublic&pkAtmMain=51837336&tenderCaseNo=H105002\n",
      "\n",
      "http://web.pcc.gov.tw/tps/main/pms/tps/atm/atmAwardAction.do?newEdit=false&searchMode=common&method=inquiryForPublic&pkAtmMain=51837304&tenderCaseNo=105-005\n",
      "\n",
      "http://web.pcc.gov.tw/tps/main/pms/tps/atm/atmAwardAction.do?newEdit=false&searchMode=common&method=inquiryForPublic&pkAtmMain=51837299&tenderCaseNo=1050418\n",
      "\n",
      "http://web.pcc.gov.tw/tps/main/pms/tps/atm/atmAwardAction.do?newEdit=false&searchMode=common&method=inquiryForPublic&pkAtmMain=51837298&tenderCaseNo=czips1050427\n",
      "\n",
      "http://web.pcc.gov.tw/tps/main/pms/tps/atm/atmAwardAction.do?newEdit=false&searchMode=common&method=inquiryForPublic&pkAtmMain=51837293&tenderCaseNo=NTP105-S030\n",
      "\n",
      "http://web.pcc.gov.tw/tps/main/pms/tps/atm/atmAwardAction.do?newEdit=false&searchMode=common&method=inquiryForPublic&pkAtmMain=51837270&tenderCaseNo=105073\n",
      "\n",
      "http://web.pcc.gov.tw/tps/main/pms/tps/atm/atmAwardAction.do?newEdit=false&searchMode=common&method=inquiryForPublic&pkAtmMain=51837263&tenderCaseNo=GSL-105015\n",
      "\n",
      "http://web.pcc.gov.tw/tps/main/pms/tps/atm/atmAwardAction.do?newEdit=false&searchMode=common&method=inquiryForPublic&pkAtmMain=51834535&tenderCaseNo=1050305\n",
      "\n",
      "http://web.pcc.gov.tw/tps/main/pms/tps/atm/atmAwardAction.do?newEdit=false&searchMode=common&method=inquiryForPublic&pkAtmMain=51837227&tenderCaseNo=10502-1052350085\n",
      "\n",
      "http://web.pcc.gov.tw/tps/main/pms/tps/atm/atmAwardAction.do?newEdit=false&searchMode=common&method=inquiryForPublic&pkAtmMain=51837193&tenderCaseNo=1050501\n",
      "\n",
      "http://web.pcc.gov.tw/tps/main/pms/tps/atm/atmAwardAction.do?newEdit=false&searchMode=common&method=inquiryForPublic&pkAtmMain=51837160&tenderCaseNo=10510\n",
      "\n",
      "http://web.pcc.gov.tw/tps/main/pms/tps/atm/atmAwardAction.do?newEdit=false&searchMode=common&method=inquiryForPublic&pkAtmMain=51837128&tenderCaseNo=1050315\n",
      "\n",
      "http://web.pcc.gov.tw/tps/main/pms/tps/atm/atmAwardAction.do?newEdit=false&searchMode=common&method=inquiryForPublic&pkAtmMain=51837068&tenderCaseNo=105Y002\n",
      "\n",
      "http://web.pcc.gov.tw/tps/main/pms/tps/atm/atmAwardAction.do?newEdit=false&searchMode=common&method=inquiryForPublic&pkAtmMain=51837004&tenderCaseNo=105-041802\n",
      "\n",
      "http://web.pcc.gov.tw/tps/main/pms/tps/atm/atmAwardAction.do?newEdit=false&searchMode=common&method=inquiryForPublic&pkAtmMain=51836980&tenderCaseNo=1050403C\n",
      "\n",
      "http://web.pcc.gov.tw/tps/main/pms/tps/atm/atmAwardAction.do?newEdit=false&searchMode=common&method=inquiryForPublic&pkAtmMain=51836984&tenderCaseNo=IAC10502\n",
      "\n",
      "http://web.pcc.gov.tw/tps/main/pms/tps/atm/atmAwardAction.do?newEdit=false&searchMode=common&method=inquiryForPublic&pkAtmMain=51836983&tenderCaseNo=ca10513\n",
      "\n",
      "http://web.pcc.gov.tw/tps/main/pms/tps/atm/atmAwardAction.do?newEdit=false&searchMode=common&method=inquiryForPublic&pkAtmMain=51836902&tenderCaseNo=IAC10501\n",
      "\n",
      "http://web.pcc.gov.tw/tps/main/pms/tps/atm/atmAwardAction.do?newEdit=false&searchMode=common&method=inquiryForPublic&pkAtmMain=51836893&tenderCaseNo=MOHW105-FDA-B-113-000523\n",
      "\n",
      "http://web.pcc.gov.tw/tps/main/pms/tps/atm/atmAwardAction.do?newEdit=false&searchMode=common&method=inquiryForPublic&pkAtmMain=51836799&tenderCaseNo=1050203YIN\n",
      "\n",
      "http://web.pcc.gov.tw/tps/main/pms/tps/atm/atmAwardAction.do?newEdit=false&searchMode=common&method=inquiryForPublic&pkAtmMain=51836775&tenderCaseNo=1052000096\n",
      "\n",
      "http://web.pcc.gov.tw/tps/main/pms/tps/atm/atmAwardAction.do?newEdit=false&searchMode=common&method=inquiryForPublic&pkAtmMain=51836692&tenderCaseNo=105015\n",
      "\n",
      "http://web.pcc.gov.tw/tps/main/pms/tps/atm/atmAwardAction.do?newEdit=false&searchMode=common&method=inquiryForPublic&pkAtmMain=51836675&tenderCaseNo=10501012\n",
      "\n",
      "http://web.pcc.gov.tw/tps/main/pms/tps/atm/atmAwardAction.do?newEdit=false&searchMode=common&method=inquiryForPublic&pkAtmMain=51836574&tenderCaseNo=105-C05\n",
      "\n",
      "http://web.pcc.gov.tw/tps/main/pms/tps/atm/atmAwardAction.do?newEdit=false&searchMode=common&method=inquiryForPublic&pkAtmMain=51836493&tenderCaseNo=105020\n",
      "\n",
      "http://web.pcc.gov.tw/tps/main/pms/tps/atm/atmAwardAction.do?newEdit=false&searchMode=common&method=inquiryForPublic&pkAtmMain=51836480&tenderCaseNo=1050122903-1\n",
      "\n",
      "http://web.pcc.gov.tw/tps/main/pms/tps/atm/atmAwardAction.do?newEdit=false&searchMode=common&method=inquiryForPublic&pkAtmMain=51836442&tenderCaseNo=1050401A\n",
      "\n",
      "http://web.pcc.gov.tw/tps/main/pms/tps/atm/atmAwardAction.do?newEdit=false&searchMode=common&method=inquiryForPublic&pkAtmMain=51836416&tenderCaseNo=klgsh105009\n",
      "\n",
      "http://web.pcc.gov.tw/tps/main/pms/tps/atm/atmAwardAction.do?newEdit=false&searchMode=common&method=inquiryForPublic&pkAtmMain=51834904&tenderCaseNo=1050317-2\n",
      "\n",
      "http://web.pcc.gov.tw/tps/main/pms/tps/atm/atmAwardAction.do?newEdit=false&searchMode=common&method=inquiryForPublic&pkAtmMain=51830385&tenderCaseNo=105-013\n",
      "\n",
      "http://web.pcc.gov.tw/tps/main/pms/tps/atm/atmAwardAction.do?newEdit=false&searchMode=common&method=inquiryForPublic&pkAtmMain=51830157&tenderCaseNo=MEA0550007\n",
      "\n",
      "http://web.pcc.gov.tw/tps/main/pms/tps/atm/atmAwardAction.do?newEdit=false&searchMode=common&method=inquiryForPublic&pkAtmMain=51835106&tenderCaseNo=HK10504\n",
      "\n",
      "http://web.pcc.gov.tw/tps/main/pms/tps/atm/atmAwardAction.do?newEdit=false&searchMode=common&method=inquiryForPublic&pkAtmMain=51830432&tenderCaseNo=105-028\n",
      "\n",
      "http://web.pcc.gov.tw/tps/main/pms/tps/atm/atmAwardAction.do?newEdit=false&searchMode=common&method=inquiryForPublic&pkAtmMain=51835109&tenderCaseNo=xjp1050425\n",
      "\n",
      "http://web.pcc.gov.tw/tps/main/pms/tps/atm/atmAwardAction.do?newEdit=false&searchMode=common&method=inquiryForPublic&pkAtmMain=51835110&tenderCaseNo=105-B-029\n",
      "\n",
      "http://web.pcc.gov.tw/tps/main/pms/tps/atm/atmAwardAction.do?newEdit=false&searchMode=common&method=inquiryForPublic&pkAtmMain=51835113&tenderCaseNo=105012\n",
      "\n",
      "http://web.pcc.gov.tw/tps/main/pms/tps/atm/atmAwardAction.do?newEdit=false&searchMode=common&method=inquiryForPublic&pkAtmMain=51835120&tenderCaseNo=NL1050515\n",
      "\n",
      "http://web.pcc.gov.tw/tps/main/pms/tps/atm/atmAwardAction.do?newEdit=false&searchMode=common&method=inquiryForPublic&pkAtmMain=51835122&tenderCaseNo=10504250039\n",
      "\n",
      "http://web.pcc.gov.tw/tps/main/pms/tps/atm/atmAwardAction.do?newEdit=false&searchMode=common&method=inquiryForPublic&pkAtmMain=51835124&tenderCaseNo=10503300028\n",
      "\n",
      "http://web.pcc.gov.tw/tps/main/pms/tps/atm/atmAwardAction.do?newEdit=false&searchMode=common&method=inquiryForPublic&pkAtmMain=51835129&tenderCaseNo=10504070033\n",
      "\n",
      "http://web.pcc.gov.tw/tps/main/pms/tps/atm/atmAwardAction.do?newEdit=false&searchMode=common&method=inquiryForPublic&pkAtmMain=51835130&tenderCaseNo=105D001-1-20\n",
      "\n",
      "http://web.pcc.gov.tw/tps/main/pms/tps/atm/atmAwardAction.do?newEdit=false&searchMode=common&method=inquiryForPublic&pkAtmMain=51835131&tenderCaseNo=NL1050562\n",
      "\n",
      "http://web.pcc.gov.tw/tps/main/pms/tps/atm/atmAwardAction.do?newEdit=false&searchMode=common&method=inquiryForPublic&pkAtmMain=51835146&tenderCaseNo=HJC10509\n",
      "\n",
      "http://web.pcc.gov.tw/tps/main/pms/tps/atm/atmAwardAction.do?newEdit=false&searchMode=common&method=inquiryForPublic&pkAtmMain=51835149&tenderCaseNo=105B01\n",
      "\n",
      "http://web.pcc.gov.tw/tps/main/pms/tps/atm/atmAwardAction.do?newEdit=false&searchMode=common&method=inquiryForPublic&pkAtmMain=51835150&tenderCaseNo=105TFDA-DF-029\n",
      "\n",
      "http://web.pcc.gov.tw/tps/main/pms/tps/atm/atmAwardAction.do?newEdit=false&searchMode=common&method=inquiryForPublic&pkAtmMain=51835151&tenderCaseNo=105TFDA-DF-027\n",
      "\n",
      "http://web.pcc.gov.tw/tps/main/pms/tps/atm/atmAwardAction.do?newEdit=false&searchMode=common&method=inquiryForPublic&pkAtmMain=51835152&tenderCaseNo=105TFDA-AC-129\n",
      "\n",
      "http://web.pcc.gov.tw/tps/main/pms/tps/atm/atmAwardAction.do?newEdit=false&searchMode=common&method=inquiryForPublic&pkAtmMain=51835157&tenderCaseNo=1050414-1\n",
      "\n",
      "http://web.pcc.gov.tw/tps/main/pms/tps/atm/atmAwardAction.do?newEdit=false&searchMode=common&method=inquiryForPublic&pkAtmMain=51835161&tenderCaseNo=10503231\n",
      "\n",
      "http://web.pcc.gov.tw/tps/main/pms/tps/atm/atmAwardAction.do?newEdit=false&searchMode=common&method=inquiryForPublic&pkAtmMain=51835162&tenderCaseNo=NL1050588\n",
      "\n",
      "http://web.pcc.gov.tw/tps/main/pms/tps/atm/atmAwardAction.do?newEdit=false&searchMode=common&method=inquiryForPublic&pkAtmMain=51835166&tenderCaseNo=105S021P\n",
      "\n",
      "http://web.pcc.gov.tw/tps/main/pms/tps/atm/atmAwardAction.do?newEdit=false&searchMode=common&method=inquiryForPublic&pkAtmMain=51835076&tenderCaseNo=10503\n",
      "\n",
      "http://web.pcc.gov.tw/tps/main/pms/tps/atm/atmAwardAction.do?newEdit=false&searchMode=common&method=inquiryForPublic&pkAtmMain=51835169&tenderCaseNo=1050612\n",
      "\n",
      "http://web.pcc.gov.tw/tps/main/pms/tps/atm/atmAwardAction.do?newEdit=false&searchMode=common&method=inquiryForPublic&pkAtmMain=51835079&tenderCaseNo=EO05003L024\n",
      "\n",
      "http://web.pcc.gov.tw/tps/main/pms/tps/atm/atmAwardAction.do?newEdit=false&searchMode=common&method=inquiryForPublic&pkAtmMain=51835084&tenderCaseNo=104A11P005\n",
      "\n",
      "http://web.pcc.gov.tw/tps/main/pms/tps/atm/atmAwardAction.do?newEdit=false&searchMode=common&method=inquiryForPublic&pkAtmMain=51835085&tenderCaseNo=1050717\n",
      "\n",
      "http://web.pcc.gov.tw/tps/main/pms/tps/atm/atmAwardAction.do?newEdit=false&searchMode=common&method=inquiryForPublic&pkAtmMain=51835174&tenderCaseNo=105005\n",
      "\n",
      "http://web.pcc.gov.tw/tps/main/pms/tps/atm/atmAwardAction.do?newEdit=false&searchMode=common&method=inquiryForPublic&pkAtmMain=51835087&tenderCaseNo=105RH052\n",
      "\n",
      "http://web.pcc.gov.tw/tps/main/pms/tps/atm/atmAwardAction.do?newEdit=false&searchMode=common&method=inquiryForPublic&pkAtmMain=51835091&tenderCaseNo=SH1050413\n",
      "\n",
      "http://web.pcc.gov.tw/tps/main/pms/tps/atm/atmAwardAction.do?newEdit=false&searchMode=common&method=inquiryForPublic&pkAtmMain=51835182&tenderCaseNo=1050414A\n",
      "\n",
      "http://web.pcc.gov.tw/tps/main/pms/tps/atm/atmAwardAction.do?newEdit=false&searchMode=common&method=inquiryForPublic&pkAtmMain=51835092&tenderCaseNo=105660D00764\n",
      "\n",
      "http://web.pcc.gov.tw/tps/main/pms/tps/atm/atmAwardAction.do?newEdit=false&searchMode=common&method=inquiryForPublic&pkAtmMain=51835189&tenderCaseNo=1050422\n",
      "\n",
      "http://web.pcc.gov.tw/tps/main/pms/tps/atm/atmAwardAction.do?newEdit=false&searchMode=common&method=inquiryForPublic&pkAtmMain=51835191&tenderCaseNo=1050422-1\n",
      "\n",
      "http://web.pcc.gov.tw/tps/main/pms/tps/atm/atmAwardAction.do?newEdit=false&searchMode=common&method=inquiryForPublic&pkAtmMain=51835198&tenderCaseNo=10504\n",
      "\n",
      "http://web.pcc.gov.tw/tps/main/pms/tps/atm/atmAwardAction.do?newEdit=false&searchMode=common&method=inquiryForPublic&pkAtmMain=51835215&tenderCaseNo=NKHHS1522-10504\n",
      "\n",
      "http://web.pcc.gov.tw/tps/main/pms/tps/atm/atmAwardAction.do?newEdit=false&searchMode=common&method=inquiryForPublic&pkAtmMain=51835175&tenderCaseNo=1050222SC002\n",
      "\n",
      "http://web.pcc.gov.tw/tps/main/pms/tps/atm/atmAwardAction.do?newEdit=false&searchMode=common&method=inquiryForPublic&pkAtmMain=51835223&tenderCaseNo=1050030840\n",
      "\n",
      "http://web.pcc.gov.tw/tps/main/pms/tps/atm/atmAwardAction.do?newEdit=false&searchMode=common&method=inquiryForPublic&pkAtmMain=51835233&tenderCaseNo=M05C2271\n",
      "\n",
      "http://web.pcc.gov.tw/tps/main/pms/tps/atm/atmAwardAction.do?newEdit=false&searchMode=common&method=inquiryForPublic&pkAtmMain=51835247&tenderCaseNo=105-04-12\n",
      "\n",
      "http://web.pcc.gov.tw/tps/main/pms/tps/atm/atmAwardAction.do?newEdit=false&searchMode=common&method=inquiryForPublic&pkAtmMain=51835248&tenderCaseNo=105S035\n",
      "\n",
      "http://web.pcc.gov.tw/tps/main/pms/tps/atm/atmAwardAction.do?newEdit=false&searchMode=common&method=inquiryForPublic&pkAtmMain=51835696&tenderCaseNo=1050421\n",
      "\n",
      "http://web.pcc.gov.tw/tps/main/pms/tps/atm/atmAwardAction.do?newEdit=false&searchMode=common&method=inquiryForPublic&pkAtmMain=51835271&tenderCaseNo=105-0430-1-034\n",
      "\n",
      "http://web.pcc.gov.tw/tps/main/pms/tps/atm/atmAwardAction.do?newEdit=false&searchMode=common&method=inquiryForPublic&pkAtmMain=51835273&tenderCaseNo=105EX0028\n",
      "\n",
      "http://web.pcc.gov.tw/tps/main/pms/tps/atm/atmAwardAction.do?newEdit=false&searchMode=common&method=inquiryForPublic&pkAtmMain=51835715&tenderCaseNo=10503\n",
      "\n",
      "http://web.pcc.gov.tw/tps/main/pms/tps/atm/atmAwardAction.do?newEdit=false&searchMode=common&method=inquiryForPublic&pkAtmMain=51835717&tenderCaseNo=105-022\n",
      "\n",
      "http://web.pcc.gov.tw/tps/main/pms/tps/atm/atmAwardAction.do?newEdit=false&searchMode=common&method=inquiryForPublic&pkAtmMain=51835727&tenderCaseNo=10504190850\n",
      "\n",
      "http://web.pcc.gov.tw/tps/main/pms/tps/atm/atmAwardAction.do?newEdit=false&searchMode=common&method=inquiryForPublic&pkAtmMain=51835280&tenderCaseNo=1050025727\n",
      "\n",
      "http://web.pcc.gov.tw/tps/main/pms/tps/atm/atmAwardAction.do?newEdit=false&searchMode=common&method=inquiryForPublic&pkAtmMain=51835729&tenderCaseNo=133-105-B083\n",
      "\n",
      "http://web.pcc.gov.tw/tps/main/pms/tps/atm/atmAwardAction.do?newEdit=false&searchMode=common&method=inquiryForPublic&pkAtmMain=51835730&tenderCaseNo=10511\n",
      "\n",
      "http://web.pcc.gov.tw/tps/main/pms/tps/atm/atmAwardAction.do?newEdit=false&searchMode=common&method=inquiryForPublic&pkAtmMain=51835282&tenderCaseNo=L0205P1050V\n",
      "\n",
      "http://web.pcc.gov.tw/tps/main/pms/tps/atm/atmAwardAction.do?newEdit=false&searchMode=common&method=inquiryForPublic&pkAtmMain=51835739&tenderCaseNo=A102\n",
      "\n",
      "http://web.pcc.gov.tw/tps/main/pms/tps/atm/atmAwardAction.do?newEdit=false&searchMode=common&method=inquiryForPublic&pkAtmMain=51835743&tenderCaseNo=10421-1\n",
      "\n",
      "http://web.pcc.gov.tw/tps/main/pms/tps/atm/atmAwardAction.do?newEdit=false&searchMode=common&method=inquiryForPublic&pkAtmMain=51835292&tenderCaseNo=105B03P025\n",
      "\n"
     ]
    },
    {
     "ename": "IndexError",
     "evalue": "list index out of range",
     "output_type": "error",
     "traceback": [
      "\u001b[1;31m---------------------------------------------------------------------------\u001b[0m",
      "\u001b[1;31mIndexError\u001b[0m                                Traceback (most recent call last)",
      "\u001b[1;32m<ipython-input-5-e42ad485244b>\u001b[0m in \u001b[0;36m<module>\u001b[1;34m()\u001b[0m\n\u001b[0;32m     13\u001b[0m     \u001b[1;32mwith\u001b[0m \u001b[0mopen\u001b[0m\u001b[1;33m(\u001b[0m\u001b[1;34m'gov/{}.txt'\u001b[0m\u001b[1;33m.\u001b[0m\u001b[0mformat\u001b[0m\u001b[1;33m(\u001b[0m\u001b[0mpkatmmain\u001b[0m\u001b[1;33m)\u001b[0m\u001b[1;33m,\u001b[0m \u001b[1;34m'w'\u001b[0m\u001b[1;33m)\u001b[0m \u001b[1;32mas\u001b[0m \u001b[0mf\u001b[0m\u001b[1;33m:\u001b[0m\u001b[1;33m\u001b[0m\u001b[0m\n\u001b[0;32m     14\u001b[0m         \u001b[1;31m# prettify -> convert bs4 element to string\u001b[0m\u001b[1;33m\u001b[0m\u001b[1;33m\u001b[0m\u001b[0m\n\u001b[1;32m---> 15\u001b[1;33m         \u001b[0mf\u001b[0m\u001b[1;33m.\u001b[0m\u001b[0mwrite\u001b[0m\u001b[1;33m(\u001b[0m\u001b[0mprintarea\u001b[0m\u001b[1;33m[\u001b[0m\u001b[1;36m0\u001b[0m\u001b[1;33m]\u001b[0m\u001b[1;33m.\u001b[0m\u001b[0mprettify\u001b[0m\u001b[1;33m(\u001b[0m\u001b[1;34m'utf-8'\u001b[0m\u001b[1;33m)\u001b[0m\u001b[1;33m)\u001b[0m\u001b[1;33m\u001b[0m\u001b[0m\n\u001b[0m\u001b[0;32m     16\u001b[0m     \u001b[0mtime\u001b[0m\u001b[1;33m.\u001b[0m\u001b[0msleep\u001b[0m\u001b[1;33m(\u001b[0m\u001b[1;36m1\u001b[0m\u001b[1;33m)\u001b[0m\u001b[1;33m\u001b[0m\u001b[0m\n",
      "\u001b[1;31mIndexError\u001b[0m: list index out of range"
     ]
    }
   ],
   "source": [
    "from bs4 import BeautifulSoup\n",
    "import requests\n",
    "import time\n",
    "for bid_url in open('bid_list.txt', 'r'):\n",
    "    print bid_url\n",
    "    bid_detail = requests.get(bid_url.strip())\n",
    "    soup = BeautifulSoup(bid_detail.text)\n",
    "    printarea =  soup.select('#printArea')\n",
    "    \n",
    "    \n",
    "    rearstring = bid_url.split('pkAtmMain=')\n",
    "    pkatmmain, caseno = rearstring[1].split('&tenderCaseNo=')\n",
    "    with open('gov/{}.txt'.format(pkatmmain), 'w') as f:\n",
    "        # prettify -> convert bs4 element to string\n",
    "        f.write(printarea[0].prettify('utf-8'))\n",
    "    time.sleep(1)"
   ]
  },
  {
   "cell_type": "code",
   "execution_count": 14,
   "metadata": {
    "collapsed": false
   },
   "outputs": [
    {
     "name": "stdout",
     "output_type": "stream",
     "text": [
      "[u'1st', u'accessible', u'again', u'air', u'an', u'asap', u'attitude', u'battery', u'best', u'bikes', u'cable', u'cables', u'camera', u'carts', u'case', u'charging', u'children', u'climbing', u'clock', u'connect', u'dog', u'drone', u'earphone', u'electric', u'entertainment', u'exceptional', u'first', u'flux', u'for', u'furbo', u'future', u'gaming', u'guarantee', u'hi', u'hit', u'iphone', u'kevlar', u'leka', u'lifetime', u'lumi', u'musana', u'never', u'of', u'omnia', u'open', u'performance', u'premium', u'revolution', u'router', u'shock', u'snooze', u'solar', u'source', u'street', u'the', u'thinnest', u'tossing', u'toy', u'tracker', u'trainer', u'treat', u'turris', u'usb', u'vending', u'wakeup', u'whipper', u'wing', u'wireless', u'with', u'world', u'world\\xe2', u'zus']\n",
      "[[0 0 0 0 1 0 0 0 0 0 0 0 0 0 0 0 1 0 0 0 0 0 0 0 0 2 0 0 1 0 0 0 0 0 0 0 0\n",
      "  1 0 0 0 0 0 0 0 0 0 0 0 0 0 0 0 0 0 0 0 1 0 0 0 0 0 0 0 0 0 0 0 0 0 0]\n",
      " [0 0 0 0 0 0 0 0 0 0 1 0 0 0 0 1 0 0 0 0 0 0 0 0 0 0 0 0 0 0 0 0 1 0 0 0 1\n",
      "  0 1 0 0 0 0 0 0 0 0 0 0 0 0 0 0 0 0 0 0 0 0 0 0 0 0 0 0 0 0 0 0 0 0 1]\n",
      " [0 0 0 0 0 0 0 0 0 0 0 0 0 1 0 0 0 0 0 0 0 0 0 0 0 0 0 0 0 0 0 0 0 0 0 0 0\n",
      "  0 0 0 1 0 0 0 0 0 0 1 0 0 0 1 0 1 1 0 0 0 0 0 0 0 0 1 0 0 0 0 0 0 0 0]\n",
      " [1 0 0 0 0 0 0 0 0 0 0 0 0 0 0 0 0 1 0 0 0 0 0 0 0 0 0 0 0 0 0 0 0 0 0 0 0\n",
      "  0 0 0 0 0 0 0 0 1 0 0 0 0 0 0 0 0 0 0 0 0 1 0 0 0 0 0 0 1 0 0 0 0 1 0]\n",
      " [0 0 0 1 0 0 0 1 0 0 0 0 0 0 2 0 0 0 0 0 0 0 0 0 0 0 0 0 0 0 0 0 0 0 0 1 0\n",
      "  0 0 0 0 0 0 0 0 0 0 0 0 0 0 0 0 0 1 1 0 0 0 0 0 0 0 0 0 0 0 0 0 1 0 0]\n",
      " [0 0 0 0 0 1 0 0 0 0 0 1 0 0 0 0 0 0 0 1 0 0 0 0 0 0 0 0 0 0 1 0 0 0 0 0 0\n",
      "  0 0 0 0 0 1 0 0 0 0 0 0 0 0 0 0 0 1 0 0 0 0 0 0 0 1 0 0 0 0 0 0 0 0 0]\n",
      " [0 0 1 0 0 0 0 0 0 0 0 0 0 0 0 0 0 0 1 0 0 0 0 0 0 0 0 0 0 0 0 0 0 0 1 0 0\n",
      "  0 0 0 0 1 0 0 0 0 0 0 0 1 1 0 0 0 0 0 0 0 0 1 0 0 0 0 1 0 0 0 0 0 0 0]\n",
      " [0 0 0 0 0 0 1 0 0 1 0 0 0 0 0 0 0 0 0 0 0 0 0 1 0 0 0 1 0 0 0 0 0 0 0 0 0\n",
      "  0 0 0 0 0 0 0 0 0 0 0 0 0 0 0 0 0 0 0 0 0 0 0 0 0 0 0 0 0 0 0 1 0 0 0]\n",
      " [0 1 0 0 0 0 0 0 0 0 0 0 0 0 0 0 0 0 0 0 0 0 1 0 0 0 0 0 0 0 0 0 0 0 0 0 0\n",
      "  0 0 0 0 0 0 0 0 0 1 0 0 0 0 0 0 0 1 0 0 0 0 0 0 0 0 0 0 0 1 1 0 0 0 0]\n",
      " [0 0 0 0 0 0 0 0 0 0 0 0 1 0 0 0 0 0 0 0 1 0 0 0 0 0 1 0 0 1 0 0 0 0 0 0 0\n",
      "  0 0 0 0 0 0 0 0 0 0 0 0 0 0 0 0 0 0 0 1 0 0 0 1 0 0 0 0 0 0 0 0 1 0 0]\n",
      " [0 0 0 0 0 0 0 0 0 0 0 0 0 0 0 0 0 0 0 0 0 0 0 0 0 0 0 0 0 0 0 0 0 1 0 0 0\n",
      "  0 0 0 0 0 0 1 1 1 0 0 1 0 0 0 1 0 0 0 0 0 0 0 0 1 0 0 0 0 0 0 0 0 0 0]\n",
      " [0 0 0 0 0 0 0 0 1 0 0 0 0 0 0 0 0 0 0 0 0 1 0 0 1 0 0 0 0 0 0 1 0 0 0 0 0\n",
      "  0 0 1 0 0 0 0 0 0 0 0 0 0 0 0 0 0 0 0 0 0 0 0 0 0 0 0 0 0 0 0 0 1 0 0]]\n",
      "(12, 72)\n",
      "[[ 0.          0.          0.          0.          0.33333333  0.          0.\n",
      "   0.          0.          0.          0.          0.          0.          0.\n",
      "   0.          0.          0.33333333  0.          0.          0.          0.\n",
      "   0.          0.          0.          0.          0.66666667  0.          0.\n",
      "   0.33333333  0.          0.          0.          0.          0.          0.\n",
      "   0.          0.          0.33333333  0.          0.          0.          0.\n",
      "   0.          0.          0.          0.          0.          0.          0.\n",
      "   0.          0.          0.          0.          0.          0.          0.\n",
      "   0.          0.33333333  0.          0.          0.          0.          0.\n",
      "   0.          0.          0.          0.          0.          0.          0.\n",
      "   0.          0.        ]\n",
      " [ 0.          0.          0.          0.          0.          0.          0.\n",
      "   0.          0.          0.          0.40824829  0.          0.          0.\n",
      "   0.          0.40824829  0.          0.          0.          0.          0.\n",
      "   0.          0.          0.          0.          0.          0.          0.\n",
      "   0.          0.          0.          0.          0.40824829  0.          0.\n",
      "   0.          0.40824829  0.          0.40824829  0.          0.          0.\n",
      "   0.          0.          0.          0.          0.          0.          0.\n",
      "   0.          0.          0.          0.          0.          0.          0.\n",
      "   0.          0.          0.          0.          0.          0.          0.\n",
      "   0.          0.          0.          0.          0.          0.          0.\n",
      "   0.          0.40824829]\n",
      " [ 0.          0.          0.          0.          0.          0.          0.\n",
      "   0.          0.          0.          0.          0.          0.\n",
      "   0.39333294  0.          0.          0.          0.          0.          0.\n",
      "   0.          0.          0.          0.          0.          0.          0.\n",
      "   0.          0.          0.          0.          0.          0.          0.\n",
      "   0.          0.          0.          0.          0.          0.\n",
      "   0.39333294  0.          0.          0.          0.          0.          0.\n",
      "   0.39333294  0.          0.          0.          0.39333294  0.\n",
      "   0.39333294  0.26783428  0.          0.          0.          0.          0.\n",
      "   0.          0.          0.          0.39333294  0.          0.          0.\n",
      "   0.          0.          0.          0.          0.        ]\n",
      " [ 0.41748077  0.          0.          0.          0.          0.          0.\n",
      "   0.          0.          0.          0.          0.          0.          0.\n",
      "   0.          0.          0.          0.41748077  0.          0.          0.\n",
      "   0.          0.          0.          0.          0.          0.          0.\n",
      "   0.          0.          0.          0.          0.          0.          0.\n",
      "   0.          0.          0.          0.          0.          0.          0.\n",
      "   0.          0.          0.          0.35853734  0.          0.          0.\n",
      "   0.          0.          0.          0.          0.          0.          0.\n",
      "   0.          0.          0.41748077  0.          0.          0.          0.\n",
      "   0.          0.          0.41748077  0.          0.          0.          0.\n",
      "   0.41748077  0.        ]\n",
      " [ 0.          0.          0.          0.33260972  0.          0.          0.\n",
      "   0.33260972  0.          0.          0.          0.          0.          0.\n",
      "   0.66521944  0.          0.          0.          0.          0.          0.\n",
      "   0.          0.          0.          0.          0.          0.          0.\n",
      "   0.          0.          0.          0.          0.          0.          0.\n",
      "   0.33260972  0.          0.          0.          0.          0.          0.\n",
      "   0.          0.          0.          0.          0.          0.          0.\n",
      "   0.          0.          0.          0.          0.          0.2264857\n",
      "   0.33260972  0.          0.          0.          0.          0.          0.\n",
      "   0.          0.          0.          0.          0.          0.          0.\n",
      "   0.25232999  0.          0.        ]\n",
      " [ 0.          0.          0.          0.          0.          0.39333294\n",
      "   0.          0.          0.          0.          0.          0.39333294\n",
      "   0.          0.          0.          0.          0.          0.          0.\n",
      "   0.39333294  0.          0.          0.          0.          0.          0.\n",
      "   0.          0.          0.          0.          0.39333294  0.          0.\n",
      "   0.          0.          0.          0.          0.          0.          0.\n",
      "   0.          0.          0.39333294  0.          0.          0.          0.\n",
      "   0.          0.          0.          0.          0.          0.          0.\n",
      "   0.26783428  0.          0.          0.          0.          0.          0.\n",
      "   0.          0.39333294  0.          0.          0.          0.          0.\n",
      "   0.          0.          0.          0.        ]\n",
      " [ 0.          0.          0.35355339  0.          0.          0.          0.\n",
      "   0.          0.          0.          0.          0.          0.          0.\n",
      "   0.          0.          0.          0.          0.35355339  0.          0.\n",
      "   0.          0.          0.          0.          0.          0.          0.\n",
      "   0.          0.          0.          0.          0.          0.\n",
      "   0.35355339  0.          0.          0.          0.          0.          0.\n",
      "   0.35355339  0.          0.          0.          0.          0.          0.\n",
      "   0.          0.35355339  0.35355339  0.          0.          0.          0.\n",
      "   0.          0.          0.          0.          0.35355339  0.          0.\n",
      "   0.          0.          0.35355339  0.          0.          0.          0.\n",
      "   0.          0.          0.        ]\n",
      " [ 0.          0.          0.          0.          0.          0.\n",
      "   0.4472136   0.          0.          0.4472136   0.          0.          0.\n",
      "   0.          0.          0.          0.          0.          0.          0.\n",
      "   0.          0.          0.          0.4472136   0.          0.          0.\n",
      "   0.4472136   0.          0.          0.          0.          0.          0.\n",
      "   0.          0.          0.          0.          0.          0.          0.\n",
      "   0.          0.          0.          0.          0.          0.          0.\n",
      "   0.          0.          0.          0.          0.          0.          0.\n",
      "   0.          0.          0.          0.          0.          0.          0.\n",
      "   0.          0.          0.          0.          0.          0.\n",
      "   0.4472136   0.          0.          0.        ]\n",
      " [ 0.          0.42781662  0.          0.          0.          0.          0.\n",
      "   0.          0.          0.          0.          0.          0.          0.\n",
      "   0.          0.          0.          0.          0.          0.          0.\n",
      "   0.          0.42781662  0.          0.          0.          0.          0.\n",
      "   0.          0.          0.          0.          0.          0.          0.\n",
      "   0.          0.          0.          0.          0.          0.          0.\n",
      "   0.          0.          0.          0.          0.42781662  0.          0.\n",
      "   0.          0.          0.          0.          0.          0.29131544\n",
      "   0.          0.          0.          0.          0.          0.          0.\n",
      "   0.          0.          0.          0.          0.42781662  0.42781662\n",
      "   0.          0.          0.          0.        ]\n",
      " [ 0.          0.          0.          0.          0.          0.          0.\n",
      "   0.          0.          0.          0.          0.          0.38997307\n",
      "   0.          0.          0.          0.          0.          0.          0.\n",
      "   0.38997307  0.          0.          0.          0.          0.\n",
      "   0.38997307  0.          0.          0.38997307  0.          0.          0.\n",
      "   0.          0.          0.          0.          0.          0.          0.\n",
      "   0.          0.          0.          0.          0.          0.          0.\n",
      "   0.          0.          0.          0.          0.          0.          0.\n",
      "   0.          0.          0.38997307  0.          0.          0.\n",
      "   0.38997307  0.          0.          0.          0.          0.          0.\n",
      "   0.          0.          0.29584795  0.          0.        ]\n",
      " [ 0.          0.          0.          0.          0.          0.          0.\n",
      "   0.          0.          0.          0.          0.          0.          0.\n",
      "   0.          0.          0.          0.          0.          0.          0.\n",
      "   0.          0.          0.          0.          0.          0.          0.\n",
      "   0.          0.          0.          0.          0.          0.38525542\n",
      "   0.          0.          0.          0.          0.          0.          0.\n",
      "   0.          0.          0.38525542  0.38525542  0.33086183  0.          0.\n",
      "   0.38525542  0.          0.          0.          0.38525542  0.          0.\n",
      "   0.          0.          0.          0.          0.          0.\n",
      "   0.38525542  0.          0.          0.          0.          0.          0.\n",
      "   0.          0.          0.          0.        ]\n",
      " [ 0.          0.          0.          0.          0.          0.          0.\n",
      "   0.          0.42350342  0.          0.          0.          0.          0.\n",
      "   0.          0.          0.          0.          0.          0.          0.\n",
      "   0.42350342  0.          0.          0.42350342  0.          0.          0.\n",
      "   0.          0.          0.          0.42350342  0.          0.          0.\n",
      "   0.          0.          0.          0.          0.42350342  0.          0.\n",
      "   0.          0.          0.          0.          0.          0.          0.\n",
      "   0.          0.          0.          0.          0.          0.          0.\n",
      "   0.          0.          0.          0.          0.          0.          0.\n",
      "   0.          0.          0.          0.          0.          0.\n",
      "   0.32128531  0.          0.        ]]\n"
     ]
    }
   ],
   "source": [
    "content = [\n",
    "\"Leka: An Exceptional Toy for Exceptional Children\",\n",
    "\"ZUS Kevlar Charging Cable - Lifetime Guarantee\",\n",
    "\"Musana Carts: The Solar Street Vending Revolution\",\n",
    "\"Whipper:  Worldâs 1st Climbing Performance Tracker\",\n",
    "\"Air Case: The World's Thinnest iPhone Battery Case\",\n",
    "\"ASAP Connect: The future of USB cables\",\n",
    "\"Shock Clock WakeUp Trainer -Never Hit Snooze Again\",\n",
    "\"FLUX: Electric Bikes with Attitude\",\n",
    "\"WING : The Accessible Premium Wireless Earphone\",\n",
    "\"Furbo: World's First Treat-Tossing Dog Camera\",\n",
    "\"Turris Omnia: hi-performance & open-source router\",\n",
    "\"Lumi: World's Best Gaming & Entertainment Drone\"\n",
    "]\n",
    "from sklearn.feature_extraction.text import CountVectorizer\n",
    "vectorizer = CountVectorizer(min_df = 1)\n",
    "X = vectorizer.fit_transform(content)\n",
    "print vectorizer.get_feature_names()\n",
    "print X.toarray()\n",
    "print X.shape\n",
    "\n",
    "from sklearn.feature_extraction.text import TfidfTransformer\n",
    "transformer = TfidfTransformer()\n",
    "tfidf = transformer.fit_transform(X)\n",
    "print tfidf.toarray()"
   ]
  },
  {
   "cell_type": "code",
   "execution_count": 17,
   "metadata": {
    "collapsed": false
   },
   "outputs": [
    {
     "name": "stdout",
     "output_type": "stream",
     "text": [
      "  (0, 16)\t0.333333333333\n",
      "  (0, 28)\t0.333333333333\n",
      "  (0, 57)\t0.333333333333\n",
      "  (0, 25)\t0.666666666667\n",
      "  (0, 4)\t0.333333333333\n",
      "  (0, 37)\t0.333333333333\n",
      "exceptional\n"
     ]
    }
   ],
   "source": [
    "print tfidf[0]\n",
    "print vectorizer.get_feature_names()[25]"
   ]
  },
  {
   "cell_type": "code",
   "execution_count": null,
   "metadata": {
    "collapsed": true
   },
   "outputs": [],
   "source": [
    "def tfidf(t, d, D):\n",
    "    tf = float(d.count(t)) / sum(d.count(w) for w in set(d))\n",
    "    idf = sp.log(float(len(D)) / (len([doc for doc in D if t in doc])))\n",
    "    return tf * idf\n",
    "\n",
    "\n",
    "a, abb, abc = [\"a\"], [\"a\", \"b\", \"b\"], [\"a\", \"b\", \"c\"]\n",
    "D = [a, abb, abc]"
   ]
  }
 ],
 "metadata": {
  "kernelspec": {
   "display_name": "Python 2",
   "language": "python",
   "name": "python2"
  },
  "language_info": {
   "codemirror_mode": {
    "name": "ipython",
    "version": 2
   },
   "file_extension": ".py",
   "mimetype": "text/x-python",
   "name": "python",
   "nbconvert_exporter": "python",
   "pygments_lexer": "ipython2",
   "version": "2.7.11"
  }
 },
 "nbformat": 4,
 "nbformat_minor": 0
}
