{
 "cells": [
  {
   "cell_type": "markdown",
   "metadata": {},
   "source": [
    "## 原始碼,未爬\n"
   ]
  },
  {
   "cell_type": "code",
   "execution_count": 42,
   "metadata": {
    "collapsed": false
   },
   "outputs": [],
   "source": [
    "import requests\n",
    "import io\n",
    "from bs4 import BeautifulSoup\n",
    "\n",
    "with open('cook1cook.txt','w') as f:\n",
    "    for i in range(23478, 23480):\n",
    "        res = requests.get('https://cook1cook.com/recipe/{}'.format(i))\n",
    "        soup = BeautifulSoup(res.text)\n",
    "        for recipe in soup.select('.recipe-page'):\n",
    "            if len(recipe.select('.hidden-phone')) > 0:\n",
    "                f.write('\\n'+'https://cook1cook.com/recipe/{}'.format(i)+','+\\\n",
    "soup.select('.hidden-phone')[1].text.encode('utf-8')+',')\n",
    "                for g in xrange(0,len(soup.select('.section-row span'))):\n",
    "#                     print soup.select('.section-row span')[g].text,','\n",
    "                    if len(soup.select('.section-row span')[g].text) > 0:\n",
    "                        f.write(soup.select('.section-row span')[g].text.encode('utf-8')+\",\")"
   ]
  }
 ],
 "metadata": {
  "kernelspec": {
   "display_name": "Python 2",
   "language": "python",
   "name": "python2"
  },
  "language_info": {
   "codemirror_mode": {
    "name": "ipython",
    "version": 2
   },
   "file_extension": ".py",
   "mimetype": "text/x-python",
   "name": "python",
   "nbconvert_exporter": "python",
   "pygments_lexer": "ipython2",
   "version": "2.7.11"
  }
 },
 "nbformat": 4,
 "nbformat_minor": 0
}
